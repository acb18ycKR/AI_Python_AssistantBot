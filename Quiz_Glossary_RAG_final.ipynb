{
 "cells": [
  {
   "cell_type": "code",
   "execution_count": 1,
   "metadata": {},
   "outputs": [
    {
     "data": {
      "text/plain": [
       "True"
      ]
     },
     "execution_count": 1,
     "metadata": {},
     "output_type": "execute_result"
    }
   ],
   "source": [
    "from dotenv import load_dotenv\n",
    "\n",
    "load_dotenv()"
   ]
  },
  {
   "cell_type": "code",
   "execution_count": 2,
   "metadata": {},
   "outputs": [
    {
     "name": "stdout",
     "output_type": "stream",
     "text": [
      "LangSmith 추적을 시작합니다.\n",
      "[프로젝트명]\n",
      "CLASS\n"
     ]
    }
   ],
   "source": [
    "from langchain_teddynote import logging\n",
    "logging.langsmith(\"CLASS\")"
   ]
  },
  {
   "cell_type": "code",
   "execution_count": 3,
   "metadata": {},
   "outputs": [],
   "source": [
    "from langchain_community.document_loaders import PDFPlumberLoader"
   ]
  },
  {
   "cell_type": "code",
   "execution_count": 4,
   "metadata": {},
   "outputs": [],
   "source": [
    "# pip install pdfplumber"
   ]
  },
  {
   "cell_type": "markdown",
   "metadata": {},
   "source": [
    "## 전처리 함수"
   ]
  },
  {
   "cell_type": "code",
   "execution_count": null,
   "metadata": {},
   "outputs": [],
   "source": [
    "# import re\n",
    "# from PyPDF2 import PdfReader\n",
    "\n",
    "# def remove_wn_from_text(text):\n",
    "#     \"\"\"\n",
    "#     텍스트에서 'Wn'을 제거하는 함수\n",
    "#     \"\"\"\n",
    "#     return re.sub(r'Wn', '', text)\n",
    "\n",
    "# def clean_text(text):\n",
    "#     \"\"\"\n",
    "#     텍스트 정리 함수\n",
    "#     - \\n 제거\n",
    "#     - >>> 제거\n",
    "#     - 불필요한 공백 제거\n",
    "#     \"\"\"\n",
    "#     text = text.replace('\\n', ' ')  # \\n 제거\n",
    "#     text = re.sub(r'>>>', '', text)  # >>> 제거\n",
    "#     text = re.sub(r'\\s+', ' ', text)  # 여러 공백을 하나의 공백으로 변경\n",
    "#     return text.strip()\n",
    "\n",
    "# # PDF 파일 읽기\n",
    "# reader = PdfReader(\"./data/converted_data_test_with_metadata.pdf\")\n",
    "# text = \"\"\n",
    "# for page in reader.pages:\n",
    "#     text += page.extract_text()\n",
    "\n",
    "# # Wn 제거 및 텍스트 정리\n",
    "# text = remove_wn_from_text(text)\n",
    "# cleaned_text = clean_text(text)\n",
    "\n",
    "# # 결과 저장\n",
    "# with open(\"./data/cleaned_data_test_with_metadata.txt\", \"w\", encoding=\"utf-8\") as file:\n",
    "#     file.write(cleaned_text)\n"
   ]
  },
  {
   "cell_type": "code",
   "execution_count": 5,
   "metadata": {},
   "outputs": [],
   "source": [
    "loader = PDFPlumberLoader('./data/converted_data_test_with_metadata.pdf')"
   ]
  },
  {
   "cell_type": "code",
   "execution_count": 6,
   "metadata": {},
   "outputs": [],
   "source": [
    "docs = loader.load()"
   ]
  },
  {
   "cell_type": "code",
   "execution_count": 7,
   "metadata": {},
   "outputs": [
    {
     "data": {
      "text/plain": [
       "16"
      ]
     },
     "execution_count": 7,
     "metadata": {},
     "output_type": "execute_result"
    }
   ],
   "source": [
    "len(docs)"
   ]
  },
  {
   "cell_type": "code",
   "execution_count": 8,
   "metadata": {},
   "outputs": [
    {
     "data": {
      "text/plain": [
       "[Document(metadata={'source': './data/converted_data_test_with_metadata.pdf', 'file_path': './data/converted_data_test_with_metadata.pdf', 'page': 0, 'total_pages': 16, 'Producer': 'PyPDF2', 'Title': 'Jump to Phython', 'Author': 'Park', 'Subject': 'Python', 'Keywords': 'Python, Book', 'Creator': 'PyPDF2 Library'}, page_content=\"1장\\n01장 파이썬이란 무엇인가?\\n필자는 파이썬의 프롬프트(>>>)를 처음 본 순간부터 지금까지 줄곧 파이썬과 함께 지내\\n온 듯하다. ‘프로그래밍은 어렵고 지루하다’라는 고정관념을 가지고 있던 필자에게 파이\\n썬은 커다란 충격으로 다가왔다. 여러분도 이 책을 통해 파이썬의 매력에 흠뻑 빠져 보\\n기를 바란다. 01장에서는 파이썬의 특징과 장단점을 알아보고 파이썬 프로그래밍을 위한\\n환경 구축 방법에 대해 배운다. 그리고 간단한 파이썬 프로그램도 작성해 본다.\\n01-1 파이썬이란?\\n파이썬(Python)은 1990년 암스테르담의 귀도 반 로섬(Guido van rossum)이 개발한 인터\\n프리터 언어이다. 귀도는 파이썬이라는 이름을 자신이 좋아하는 코미디 쇼인 ‘몬티 파이\\n썬의 날아다니는 서커스(Monty python's flying circus)’에서 따왔다고 한다.\\n인터프리터 언어란 소스 코드를 한 줄씩 해석한 후 그때그때 실행해 결과를 바로 확인할\\n수 있는 언어를 말한다.\\n파이썬의 사전적 의미는 ‘고대 신화에 나오는 파르나소스 산의 동굴에 살던 큰 뱀’을 뜻\\n하며, 아폴로 신이 델파이에서 파이썬을 퇴치했다는 이야기가 전해지고 있다. 대부분의\\n파이썬 책 표지와 아이콘이 뱀 모양으로 그려져 있는 이유는 바로 이 때문이다.\\n파이썬은 컴퓨터 프로그래밍을 교육할 때뿐만 아니라 기업에서 실무를 할 때도 많이 사\\n용한다. 그 대표적인 예가 바로 구글이다. 구글에서 만든 소프트웨어의 50% 이상이 파이\\n썬으로 작성되었다는 이야기도 있을 정도이다. 이 밖에도 인스타그램(Instagram), 넷플릭\\n스(Netflix), 아마존(Amazon) 등 우리가 알고 있는 많은 IT 기업에서 파이썬을 사용한다.\\n또한 파이썬 프로그램은 공동 작업과 유지 보수가 매우 쉽고 편리하다. 이 때문에 이미\\n다른 언어로 작성된 많은 프로그램이 파이썬으로 재구성되고 있다. 국내에서도 그 가치\\n를 인정받아 사용자 층이 더욱 넓어지고 있고 파이썬을 사용해 프로그램을 개발하는 업\\n체 또한 늘어나고 있는 추세이다.\\n01-2 파이썬의 특징\\n모든 프로그래밍 언어는 저마다 장점이 있지만 파이썬은 다른 언어에서 쉽게 찾아볼 수\\n없는 독특한 매력을 가지고 있다. 파이썬의 특징을 알면 왜 파이썬을 공부해야 하는지,\\n과연 시간을 투자할 만한 가치가 있는지 판단할 수 있을 것이다.\\n\"),\n",
       " Document(metadata={'source': './data/converted_data_test_with_metadata.pdf', 'file_path': './data/converted_data_test_with_metadata.pdf', 'page': 1, 'total_pages': 16, 'Producer': 'PyPDF2', 'Title': 'Jump to Phython', 'Author': 'Park', 'Subject': 'Python', 'Keywords': 'Python, Book', 'Creator': 'PyPDF2 Library'}, page_content='• 파이썬은 인간다운 언어이다\\n• 문법이 쉬워 빠르게 배울 수 있다\\n• 무료이지만 강력하다\\n• 간결하다\\n• 프로그래밍을 즐기게 해 준다\\n• 개발 속도가 빠르다\\n파이썬은 인간다운 언어이다\\n프로그래밍이란 인간이 생각하는 것을 컴퓨터에 지시하는 행위를 말한다. 파이썬은 사람\\n이 생각하는 방식을 그대로 표현할 수 있는 언어이다. 따라서 파이썬을 사용하는 프로그\\n래머는 굳이 컴퓨터의 사고 체계에 맞추어 프로그래밍하려고 애쓸 필요가 없다. 이제 곧\\n어떤 프로그램을 구상하자마자 머릿속에서 생각한 대로 코드를 술술 써 내려가는 자신의\\n모습을 보고 놀라게 될 것이다.\\n다음 소스 코드를 보면 이 말이 쉽게 이해될 것이다.\\nif 4in [1,2,3,4]: print(\"4가 있습니다\")\\n이 소스 코드는 다음처럼 읽을 수 있다.\\n만약 4가 1, 2, 3, 4 중에 있으면 \"4가 있습니다\"를 출력한다.\\n프로그램을 모르더라도 직관적으로 무엇을 뜻하는지 알 수 있지 않는가? 마치 영어 문장\\n을 읽는 듯한 착각에 빠져든다.\\n문법이 쉬워 빠르게 배울 수 있다\\n어려운 문법과 수많은 규칙에 둘러싸인 언어에서 벗어나고 싶지 않은가? 파이썬은 문법\\n이 매우 쉽고 간결하며 사람의 사고 체계와 매우 닮아 있다. 배우기 쉬운 언어, 활용하기\\n쉬운 언어가 가장 좋은 언어가 아닐까? 유명한 프로그래머인 에릭 레이먼드(Eric\\nraymond)는 파이썬을 공부한 지 단 하루 만에 자신이 원하는 프로그램을 작성할 수 있\\n었다고 한다.\\n프로그래밍 경험이 조금이라도 있다면 파이썬의 자료형, 함수, 클래스 만드는 법, 라이브\\n러리 및 내장 함수 사용 방법 등을 익히는 데 일주일이면 충분하다고 생각한다.\\n'),\n",
       " Document(metadata={'source': './data/converted_data_test_with_metadata.pdf', 'file_path': './data/converted_data_test_with_metadata.pdf', 'page': 2, 'total_pages': 16, 'Producer': 'PyPDF2', 'Title': 'Jump to Phython', 'Author': 'Park', 'Subject': 'Python', 'Keywords': 'Python, Book', 'Creator': 'PyPDF2 Library'}, page_content='무료이지만 강력하다\\n파이썬은 오픈 소스(open source)이며 무료 소프트웨어이다. 사용료 걱정 없이 언제 어디\\n서든 파이썬을 내려받아 사용할 수 있다.\\n오픈 소스란 저작권자가 소스 코드를 공개하여 누구나 별다른 제한 없이 자유롭게 사용·\\n복제 ·배포·수정할 수 있는 소프트웨어를 말한다.\\n또한 프로그래머는 만들고자 하는 프로그램의 대부분을 파이썬으로 만들 수 있다. 물론\\n시스템 프로그래밍이나 하드웨어 제어와 같은 매우 복잡하고 반복 연산이 많은 프로그램\\n은 파이썬과 어울리지 않는다. 하지만 파이썬은 이러한 약점을 극복할 수 있도록 다른\\n언어로 만든 프로그램을 파이썬 프로그램에 포함시킬 수 있다.\\n‘파이썬과 C는 찰떡궁합’이라는 말이 있다. 프로그램의 전반적인 뼈대는 파이썬으로 만들\\n고 빠른 실행 속도가 필요한 부분은 C로 만들어서 파이썬 프로그램 안에 포함시킬 수\\n있기 때문이다(정말 놀라울 만큼 영악한 언어가 아닌가?). 사실 파이썬 라이브러리 중에\\n는 파이썬만으로 제작된 것도 많지만 C로 만든 것도 많다. C로 만든 것은 대부분 속도가\\n빠르다.\\n파이썬 라이브러리는 파이썬 프로그램을 작성할 때 불러와 사용할 수 있도록 미리 만들\\n어 놓은 파이썬 파일의 모음을 말한다.\\n간결하다\\n귀도는 파이썬을 의도적으로 간결하게 만들었다. 만약 펄(Perl)과 같은 프로그래밍 언어가\\n100가지 방법으로 1가지 일을 처리할 수 있다면, 파이썬은 가장 좋은 방법 1가지만 사용\\n하는 것을 선호한다. 이 간결함의 철학은 파이썬 문법에도 그대로 녹아 있어 파이썬 프\\n로그래밍을 하는 사람들은 잘 정리되어 있는 소스 코드를 볼 수 있다. 그 덕분에 다른\\n사람이 작업한 소스 코드를 이해하기 쉽고 공동 작업과 유지 보수가 매우 편리하다.\\n프로그래밍 언어를 판별하여 그에 맞는 문장을 출력하는 파이썬 프로그램 예제이다. 다\\n른 언어에서 늘 보게 되는 단락을 구분하는 괄호({})가 없고 줄을 잘 맞춘 코드라는 것을\\n알 수 있다. 파이썬 프로그램은 줄을 맞추지 않으면 실행되지 않는다. 코드를 예쁘게 작\\n성하려고 줄을 맞추는 것이 아니라 프로그램이 실행되게 하려면 꼭 줄을 맞추어야 하는\\n것이다. 이렇듯 줄을 맞추어 코드를 작성하는 행위는 가독성에 많은 도움이 된다.\\n이렇게 코드의 줄을 맞추는 것을 ‘들여쓰기’라고 한다. 파이썬은 들여쓰기를 하지 않으면\\n프로그램이 실행되지 않는다\\n프로그래밍을 즐기게 해 준다\\n'),\n",
       " Document(metadata={'source': './data/converted_data_test_with_metadata.pdf', 'file_path': './data/converted_data_test_with_metadata.pdf', 'page': 3, 'total_pages': 16, 'Producer': 'PyPDF2', 'Title': 'Jump to Phython', 'Author': 'Park', 'Subject': 'Python', 'Keywords': 'Python, Book', 'Creator': 'PyPDF2 Library'}, page_content='이 부분이 가장 강조하고 싶은 부분이다. 파이썬만큼 필자에게 프로그래밍을 즐기게 해\\n준 언어는 없었다. 파이썬은 프로그래머가 다른 부수적인 개념이나 제한 사항 등에 신경\\n쓸 필요 없이 만들고자 하는 기능에만 집중할 수 있게 해 준다. 파이썬을 배우고 나면\\n다른 언어로 프로그래밍하는 것이 지루하다고 느낄지도 모른다.\\n개발 속도가 빠르다\\n마지막으로 재미있는 문장으로 파이썬의 특징을 마무리하겠다.\\n\"Life is too short, You need python.\" (인생은 너무 짧으니 파이썬이 필요해.)\\n엄청나게 빠른 파이썬의 개발 속도 때문에 유행처럼 퍼진 말이다. 이 위트 있는 문장은\\n이 책에서 계속 예제로 사용할 것이다.\\n01-3 파이썬으로 무엇을 할 수 있을까?\\n프로그래밍 언어를 좋은 언어와 나쁜 언어로 구별할 수 있을까? 사실 현실에서 이런 구\\n별은 무의미하다. 어떤 언어이든 강점과 약점이 존재하기 때문이다. 따라서 어떤 프로그\\n래밍 언어가 어떤 일에 효율적인지를 안다는 것은 프로그래머의 생산성을 크게 높일 수\\n있는 힘이 된다.\\n그렇다면 파이썬으로 하기에 적당한 일과 적당하지 않은 일은 무엇일까? 이를 아는 것은\\n매우 가치 있는 일이므로 파이썬을 배우기 전에 간단히 알아보자.\\n• 파이썬으로 할 수 있는 일\\no 웹 프로그래밍\\no 인공지능과 머신러닝\\no 수치 연산 프로그래밍\\no 데이터 분석\\no 데이터베이스 프로그래밍\\no 시스템 유틸리티 제작하기\\no GUI 프로그래밍\\no C/C++와 결합하기\\no 사물 인터넷\\n• 파이썬으로 할 수 없는 일\\n'),\n",
       " Document(metadata={'source': './data/converted_data_test_with_metadata.pdf', 'file_path': './data/converted_data_test_with_metadata.pdf', 'page': 4, 'total_pages': 16, 'Producer': 'PyPDF2', 'Title': 'Jump to Phython', 'Author': 'Park', 'Subject': 'Python', 'Keywords': 'Python, Book', 'Creator': 'PyPDF2 Library'}, page_content='o 시스템과 밀접한 프로그래밍 영역\\no 모바일 프로그래밍\\n파이썬으로 할 수 있는 일\\n파이썬으로 할 수 있는 일은 매우 많다. 파이썬은 대부분의 프로그래밍 언어가 하는 일\\n을 쉽고 깔끔하게 처리한다. 파이썬으로 할 수 있는 일들을 나열하자면 끝도 없지만, 대\\n표적인 몇 가지만 소개한다.\\n웹 프로그래밍\\n누구나 한 번쯤 구글 크롬이나 마이크로소프트 엣지와 같은 웹 브라우저로 웹 서핑을 하\\n면서 게시판이나 방명록에 글을 남겨 본 적이 있을 것이다. 이러한 게시판이나 방명록을\\n‘웹 프로그램’이라고 한다. 파이썬은 웹 프로그램을 만들기에 매우 적합한 도구이며, 실제\\n로 파이썬으로 제작한 웹 사이트는 셀 수 없을 정도로 많다.\\n인공지능과 머신러닝\\n최근 인공지능(artificial Intelligence) 분야의 발전 덕분에 파이썬이 인기 언어로 떠올랐다.\\n인공지능은 기계가 인간처럼 생각하고 행동할 수 있는 능력을 제공하는 기술이다. 파이\\n썬을 활용하면 자연어 처리, 음성 인식, 이미지 인식과 같은 인공지능 기술을 구현할 수\\n있다. 머신러닝(machine learning)은 인공지능의 한 분야로, 경험을 통해 자동으로 발전하\\n는 컴퓨터 알고리즘을 연구하는 분야이다. 파이썬은 인공지능과 머신러닝 프로그래밍을\\n쉽게 할 수 있도록 사이킷런(scikit-learn), 텐서플로(TensorFlow), 파이토치(PyTorch), 케라스\\n(Keras) 등과 같은 다양한 라이브러리를 제공한다.\\n수치 연산 프로그래밍\\n사실 파이썬은 수치 연산 프로그래밍에 적합한 언어가 아니다. 수치가 복잡하고 연산이\\n많다면 C와 같은 언어로 프로그래밍하는 것이 더 빠르기 때문이다. 하지만 파이썬은 넘\\n파이(Numpy)라는 수치 연산 모듈을 제공한다. 이 모듈은 C로 작성했기 때문에 파이썬에\\n서도 수치 연산을 빠르게 수행할 수 있다.\\n데이터 분석\\n파이썬은 데이터 분석에 이상적인 언어로, 넘파이(NumPy), 판다스(Pandas), 맷플롯립\\n(Matplotlib) 등과 같은 라이브러리들을 활용하여 데이터 처리, 통계 분석, 시각화를 손쉽\\n게 수행할 수 있다. 데이터 분석을 할 때 아직까지는 데이터 분석에 특화된 R이라는 언\\n어를 많이 사용하고 있지만, 판다스가 등장한 이래 파이썬을 사용하는 경우가 점점 많아\\n지고 있다.\\n'),\n",
       " Document(metadata={'source': './data/converted_data_test_with_metadata.pdf', 'file_path': './data/converted_data_test_with_metadata.pdf', 'page': 5, 'total_pages': 16, 'Producer': 'PyPDF2', 'Title': 'Jump to Phython', 'Author': 'Park', 'Subject': 'Python', 'Keywords': 'Python, Book', 'Creator': 'PyPDF2 Library'}, page_content='데이터베이스 프로그래밍\\n파이썬은 사이베이스(Sybase), 인포믹스(Infomix), 오라클(Oracle), 마이에스큐엘(MySQL),\\n포스트그레스큐엘(PostgreSQL) 등의 데이터베이스에 접근하기 위한 도구를 제공한다.\\n이런 굵직한 데이터베이스를 직접 사용하는 것 말고도 파이썬에는 재미있는 도구가 하나\\n더 있다. 바로 피클(pickle)이라는 모듈이다. 피클은 파이썬에서 사용하는 자료를 변형 없\\n이 파일에 저장하거나 불러오는 일을 수행한다.\\n피클을 어떻게 사용하고 활용하는지는 ‘05-6 표준 라이브러리’를 참고하기 바란다.\\n시스템 유틸리티 제작하기\\n파이썬은 운영체제(윈도우, 리눅스 등)의 시스템 명령어를 사용할 수 있는 각종 도구를\\n갖추고 있기 때문에 이를 바탕으로 파일 관리, 로그 분석, 시스템 모니터링 등과 같은 여\\n러 가지 시스템 유틸리티를 만드는 데 유리하다. 실제로 여러분은 시스템에서 사용 중인\\n서로 다른 유틸리티성 프로그램을 하나로 합쳐 보다 유용한 프로그램들을 무수히 만들어\\n낼 수 있다.\\n유틸리티란 컴퓨터를 사용하는 데 도움을 주는 여러 가지 소프트웨어를 말한다.\\nGUI 프로그래밍\\nGUI(graphic user interface) 프로그래밍이란 쉽게 말해 화면에 윈도우 창을 만들고 그 창\\n에 프로그램을 동작시킬 수 있는 메뉴나 버튼 등을 추가하는 것을 말한다. 파이썬은 GUI\\n프로그래밍을 위한 도구들이 잘 갖추어져 있기 때문에 GUI 프로그램을 쉽게 만들 수 있\\n다. 대표적인 예로 파이썬 프로그램과 함께 설치되는 Tkinter(티케이인터)를 들 수 있다.\\nTkinter를 사용하면 단 5줄의 소스 코드만으로 윈도우 창을 띄울 수 있다.\\nC/C++와 결합하기\\n파이썬은 접착(glue) 언어라고도 부르는데, 그 이유는 다른 언어와 결합해서 사용할 수\\n있기 때문이다. C나 C++로 만든 프로그램을 파이썬에서 사용할 수 있고 파이썬으로 만\\n든 프로그램도 C나 C++에서 사용할 수 있다.\\n사물 인터넷\\n파이썬은 사물 인터넷(Internet of things) 분야에서도 활용도가 높다. 한 예로 라즈베리파\\n이(Raspberry pi)는 리눅스 기반의 매우 작은 컴퓨터이다. 라즈베리파이를 사용하면 홈시\\n어터나 매우 작은 게임기 등 여러 가지 재미있는 것을 만들 수 있는데, 라즈베리파이를\\n제어할 때 파이썬을 사용한다. 예를 들어 라즈베리파이에 연결된 모터를 작동시키거나\\nLED에 불이 들어오게 하는 일을 파이썬으로 할 수 있다.\\n'),\n",
       " Document(metadata={'source': './data/converted_data_test_with_metadata.pdf', 'file_path': './data/converted_data_test_with_metadata.pdf', 'page': 6, 'total_pages': 16, 'Producer': 'PyPDF2', 'Title': 'Jump to Phython', 'Author': 'Park', 'Subject': 'Python', 'Keywords': 'Python, Book', 'Creator': 'PyPDF2 Library'}, page_content='파이썬으로 할 수 없는 일\\n시스템과 밀접한 프로그래밍 영역\\n파이썬으로 리눅스와 같은 운영체제 또는 엄청난 횟수의 반복과 연산이 필요한 프로그램\\n을 만드는 것은 어렵다. 즉, 매우 빠른 속도를 요구하거나 하드웨어를 직접 건드려야 하\\n는 프로그램에는 적합하지 않다.\\n모바일 프로그래밍\\n파이썬은 구글이 가장 많이 애용하는 언어이지만, 파이썬으로 안드로이드 네이티브 앱\\n(android native app)을 개발하는 것은 아직 어렵다. 안드로이드에서 파이썬으로 만든 프\\n로그램이 실행되도록 지원하기는 하지만, 이것만으로 앱을 만들기에는 아직 역부족이다.\\n이 밖에 아이폰 앱도 파이썬으로 개발할 수 없다.\\n01-4 파이썬 설치하기\\n이제 실습을 해 보기 위해 컴퓨터에 파이썬을 설치해 보자. 이 책에서는 윈도우와 맥에\\n서의 설치 방법만 다룬다. 다른 시스템을 사용한다면 파이썬 홈페이지의 설명을 참고하\\n기 바란다.\\n• 윈도우에서 파이썬 설치하기\\n• 맥에서 파이썬 설치하기\\n윈도우에서 파이썬 설치하기\\n1. 먼저 파이썬 공식 홈페이지의 다운로드 페이지에서 윈도우용 파이썬 언어 패키지를\\n내려받는다. 다음 화면에서 Python 3.x로 시작하는 버전 중 가장 최신의 윈도우 설치 파\\n일을 내려받자(이 글을 작성하는 시점의 최신 버전은 3.11.2이다).\\n2. 설치 파일을 실행한 후 [Install Now]를 클릭하면 설치가 진행된다. 이때 파이썬이 어\\n느 곳에서든지 실행될 수 있도록 [Add python.exe to PATH] 옵션을 반드시 선택해야 한\\n다.\\n[Add python.exe to PATH] 옵션을 선택하지 않으면 실습 시 오류가 발생할 수 있다.\\n3. 설치가 완료되면 [close]를 클릭하여 종료한다. 파이썬이 정상적으로 설치되었다면 [시\\n작] 메뉴의 검색 창에서 python을 검색하여 파이썬 실행 프로그램을 찾을 수 있다.\\n맥에서 파이썬 설치하기\\n'),\n",
       " Document(metadata={'source': './data/converted_data_test_with_metadata.pdf', 'file_path': './data/converted_data_test_with_metadata.pdf', 'page': 7, 'total_pages': 16, 'Producer': 'PyPDF2', 'Title': 'Jump to Phython', 'Author': 'Park', 'Subject': 'Python', 'Keywords': 'Python, Book', 'Creator': 'PyPDF2 Library'}, page_content='파이썬 공식 홈페이지(www.python.org)에서 [Downloads] 메뉴를 클릭하여 맥(Mac)용 파\\n이썬 설치 파일을 내려받은 후 다음 화면에서 [Download Python 3.11.x]를 클릭하면 된\\n다.\\n그런 다음 내려받은 python-3.11.x-macos1.pkg 파일을 실행하여 설치한다.\\n설치가 완료되면 파이썬이 제대로 설치됐는지 확인하기 위해 터미널에서 다음과 같이 명\\n령을 입력해 자신의 맥에 설치된 파이썬 버전을 확인해 보자. 구 버전의 맥에는 파이썬\\n2.7 버전이 기본으로 설치되어 있기 때문에 python을 입력하면 파이썬 2.7이 실행된다.\\n맥에서는 항상 ‘python’ 대신 ‘python3’ 명령을 사용하자. 파이썬 버전이 제대로 출력되\\n면 성공적으로 설치한 것이다.\\n01-5 파이썬 둘러보기\\n파이썬이라는 언어는 어떻게 생겼는지 간단한 소스 코드를 작성하면서 알아보자. 파이썬\\n에 대해 자세히 알아보기 전에 전체 모습을 훑어보는 것은 파이썬을 이해하는 데 많은\\n도움이 될 것이다.\\n‘백문이 불여일견, 백견이 불여일타’라고 했다. 직접 따라 해 보자.\\n• 파이썬 기초 실습 준비하기\\n• 파이썬 기초 문법 따라 해 보기\\no 사칙 연산\\no 변수에 숫자 대입하고 계산하기\\no 변수에 문자 대입하고 출력하기\\no 조건문 if\\no 반복문 for\\no 반복문 while\\no 함수\\n파이썬 기초 실습 준비하기\\n파이썬 프로그래밍 실습을 시작하기 전에 기초적인 것을 준비해 보자.\\n먼저 [시작] 메뉴에서 ‘Python 3.11(64-bit)’을 찾아 실행한다.\\n맥 사용자는 터미널에서 ‘python3’을 입력하자.\\n'),\n",
       " Document(metadata={'source': './data/converted_data_test_with_metadata.pdf', 'file_path': './data/converted_data_test_with_metadata.pdf', 'page': 8, 'total_pages': 16, 'Producer': 'PyPDF2', 'Title': 'Jump to Phython', 'Author': 'Park', 'Subject': 'Python', 'Keywords': 'Python, Book', 'Creator': 'PyPDF2 Library'}, page_content='위와 같은 창을 ‘파이썬 대화형 인터프리터’라고 부른다. 여기서 인터프리터란 사용자가\\n입력한 소스 코드를 실행하는 환경을 뜻한다.\\n파이썬 대화형 인터프리터를 간단히 ‘파이썬 셸(python shell)’이라고도 부른다. 파이썬 셸\\n창에서 3개의 꺾은 괄호(>>>)를 프롬프트(prompt)라고 부른다. 프롬프트(>>>)가 있는\\n곳이 입력하는 부분이다.\\n그렇다면 ‘대화형’은 무슨 의미일까?\\n입력에 따른 결괏값이 바로 출력된다. 이렇게 입출력이 번갈아 이어지는 것이 마치 대화\\n하는 것처럼 느껴지기 때문에 파이썬 대화형 인터프리터라고 부른다. 대화형 인터프리터\\n를 사용하면 간단한 예제를 풀 때 결과를 바로 확인할 수 있어 학습을 하는 데 효과적이\\n다. 앞으로 파이썬의 기본적인 내용은 이 창을 사용해 실습한다.\\n대화형 인터프리터를 종료할 때는 [Ctrl+Z]를 누른 후 [Enter] 를 누른다(유닉스 계열에서\\n는 [Ctrl+D]). 또는 다음과 같이 내장 함수인 quit()이나 exit()를 사용하여 종료한다.\\n다음 예와 같이 sys 모듈을 사용하여 종료할 수도 있다.\\nimport sys\\nsys.exit()\\n모듈을 사용하는 방법은 05장을 참고하기 바란다\\n파이썬 기초 문법 따라 해 보기\\n이제 파이썬 대화형 인터프리터(파이썬 셸)를 실행하여 파이썬 기초 문법을 따라 해 보\\n자. 여기에서 소개하는 내용은 뒤에서 자세하게 다룰 것이므로 지금 당장 이해되지 않는\\n다고 해서 절망하거나 고심하지는 말자.\\n사칙 연산\\n1 더하기(+) 2는 3이라는 값을 출력해 보자. 보통 계산기를 사용하듯이 +만 넣어 주면\\n된다.\\n'),\n",
       " Document(metadata={'source': './data/converted_data_test_with_metadata.pdf', 'file_path': './data/converted_data_test_with_metadata.pdf', 'page': 9, 'total_pages': 16, 'Producer': 'PyPDF2', 'Title': 'Jump to Phython', 'Author': 'Park', 'Subject': 'Python', 'Keywords': 'Python, Book', 'Creator': 'PyPDF2 Library'}, page_content='>>> 1 + 2\\n3\\n나눗셈(/)과 곱셈(*) 역시 예상한 대로 결괏값을 보여 준다.\\n>>> 3 / 2.4\\n1.25\\n>>> 3 * 9\\n27\\n우리가 일반적으로 알고 있는 ÷나 ×가 아니라는 것에 주의하자.\\n변수에 숫자 대입하고 계산하기\\n>>> a = 1\\n>>> b = 2\\n>>> a + b\\n3\\na에 1, b에 2를 대입한 후 a와 b를 더하면 3이라는 결괏값을 보여 준다.\\n변수에 문자 대입하고 출력하기\\n>>> a = \"Python\"\\n>>> print(a)\\nPython\\na 변수에 \"Python\"이라는 값을 대입한 후 print(a)라고 작성하면 a 값을 출력한다.\\n파이썬은 대소문자를 구별한다. print를 PRINT로 쓰면 정의되지 않았다는 오류 메시지가\\n나온다.\\n'),\n",
       " Document(metadata={'source': './data/converted_data_test_with_metadata.pdf', 'file_path': './data/converted_data_test_with_metadata.pdf', 'page': 10, 'total_pages': 16, 'Producer': 'PyPDF2', 'Title': 'Jump to Phython', 'Author': 'Park', 'Subject': 'Python', 'Keywords': 'Python, Book', 'Creator': 'PyPDF2 Library'}, page_content='또는 다음과 같이 print 문을 생략하고 변수 이름 a만 입력하여 a의 값을 확인할 수도\\n있다.\\n>>> a = \"Python\"\\n>>> a\\n\\'Python\\'\\n조건문 if\\n다음은 간단한 조건문 if를 사용한 예제이다.\\n예제는 a가 1보다 크면 \"a는 1보다 큽니다.\"라는 문장을 출력(print)하라는 뜻이다. a는 3\\n이므로 1보다 크다. 따라서 ‘a는 1보다 큽니다.’라는 문장이 출력된다.\\n인터프리터 창에서 프롬프트(>>>) 자리에 대신 나타나는 ‘…’은 아직 입력 중인 문장이\\n끝나지 않았다는 것을 의미한다.\\nif a > 1: 다음 문장은 [Spacebar] 4개 또는 [Tab]을 이용해 반드시 들여쓰기 한 후에\\nprint(\"a는 1보다 큽니다.\")라고 작성해야 한다. 들여쓰기 규칙은 \\'03장 제어문\\'에서 자세\\n하게 알아본다. 바로 뒤에 이어지는 반복문 for, while 예제도 이와 마찬가지로 들여쓰기\\n가 필요하다.\\n반복문 for\\nfor 문을 사용하면 실행해야 할 문장을 여러 번 반복해서 실행할 수 있다. 위 예는 대괄\\n호([]) 사이에 있는 값을 하나씩 출력한다. 이 코드의 의미는 ‘[1, 2, 3] 리스트의 앞에서부\\n터 하나씩 꺼내 a 변수에 대입한 후 print(a)를 수행하라’이다. 이를 실행하면 a에 차례대\\n로 1, 2, 3이라는 값을 대입하고 print(a)에 의해서 그 값을 차례대로 출력한다.\\n반복문 while\\nwhile이라는 영어 단어의 뜻인 ‘~인 동안’에서 알 수 있듯이 while 문은 일정한 조건이\\n만족하는 동안 문장을 반복해서 수행한다. 위 예제는 i 값이 3보다 작은 동안 i = i + 1\\n과 print(i)를 수행하라는 말이다. i = i + 1이라는 문장은 ‘i의 값을 1씩 더한다’라는 의미이\\n다. i 값이 3보다 커지면 while 문을 빠져나간다.\\n'),\n",
       " Document(metadata={'source': './data/converted_data_test_with_metadata.pdf', 'file_path': './data/converted_data_test_with_metadata.pdf', 'page': 11, 'total_pages': 16, 'Producer': 'PyPDF2', 'Title': 'Jump to Phython', 'Author': 'Park', 'Subject': 'Python', 'Keywords': 'Python, Book', 'Creator': 'PyPDF2 Library'}, page_content='함수\\ndef는 파이썬에서 함수를 정의할 때 사용하는 예약어이다. 위 예제는 add 함수를 만들고\\n그 함수를 어떻게 사용하는지를 보여 준다. add(a, b)에서 a, b는 입력값, a + b는 결괏값\\n이다. 즉 3, 4가 입력으로 들어오면 3 + 4를 수행하고 그 결괏값인 7을 리턴한다.\\n예약어란 프로그래밍 언어에서 이미 문법적인 용도로 사용하고 있는 단어를 말한다. 리\\n턴(return)은 함수에서 값을 반환할 때 사용한다.\\n지금까지 기초적인 파이썬 문법에 대해서 간략하게 알아보았다.\\n01-6 파이썬과 에디터\\n파이썬 대화형 인터프리터는 간단한 예제를 풀 때는 편리하지만 여러 줄의 복잡한 소스\\n코드를 가진 프로그램을 만들 때는 불편하다. 또한 인터프리터를 종료하면 작성한 프로\\n그램이 사라져 다시 사용하지 못한다는 단점이 있다. 따라서 여러 번 사용하기 위한 프\\n로그램을 만들 때는 에디터를 사용해야 한다.\\n에디터(editor)란 소스 코드를 편집할 수 있는 프로그래밍 도구를 말한다. 에디터에는 여\\n러 가지 종류가 있다. 이 책에서는 그중 파이썬을 설치할 때 기본으로 설치되는 파이썬\\nIDLE(Integrated development and learning environment)의 에디터를 사용한다.\\nIDLE은 ‘아이들’이라고 읽는다.\\n• IDLE 에디터로 파이썬 프로그램 작성하기\\n• 명령 프롬프트 창에서 파이썬 프로그램 실행하기\\n• 추천하는 에디터\\no 비주얼 스튜디오 코드\\no 파이참\\nIDLE 에디터로 파이썬 프로그램 작성하기\\n파이썬 IDLE은 파이썬 프로그램 작성을 도와주는 통합 개발 환경이다. [시작] 메뉴에서\\n‘idle’을 검색한 후 파이썬 IDLE을 찾아 실행해 보자.\\n맥 사용자는 터미널에서 idle3 명령을 입력하자.\\n그러면 다음과 같은 IDLE 셸(shell) 창이 나타난다.\\n'),\n",
       " Document(metadata={'source': './data/converted_data_test_with_metadata.pdf', 'file_path': './data/converted_data_test_with_metadata.pdf', 'page': 12, 'total_pages': 16, 'Producer': 'PyPDF2', 'Title': 'Jump to Phython', 'Author': 'Park', 'Subject': 'Python', 'Keywords': 'Python, Book', 'Creator': 'PyPDF2 Library'}, page_content='IDLE 셸은 IDLE 에디터에서 실행한 프로그램의 결과가 표시되는 창으로, 앞에서 살펴본\\n파이썬 셸과 기능 면에서 동일하다. 단, IDLE 셸에서 들여쓰기를 표시하는 방법이 기본\\n파이썬 셸과 다르므로 이 책에서는 IDLE 에디터로 작성한 프로그램의 실행 결과를 표시\\n하는 용도로만 사용한다. 즉, 앞으로 프롬프트(>>>)로 시작하는 예제는 IDLE 셸이 아닌\\n파이썬 셸로 실행해야 한다.\\n이제 IDLE 에디터를 실행해 보자.\\nIDLE 셸 창 메뉴에서 [File → New File]을 선택한다.\\n그러면 다음과 같이 빈 창이 나타나는데, 이 창이 IDLE 에디터이다.\\n이제 IDLE 에디터에서 다음과 같이 파이썬 프로그램을 작성해 보자.\\n# hello.py\\nprint(\"Hello World\")\\n첫 줄에 작성한 # hello.py는 주석이다. 파이썬에서 #으로 시작하는 문장은 주석으로 처\\n리하므로 프로그램 수행에 전혀 영향을 미치지 않는다. 주석은 이 프로그램의 소스 코드\\n를 읽을 미래의 나 또는 다른 프로그래머를 위해 소스 코드에 설명을 달 때 사용한다.\\n점프 투 파이썬여러 줄짜리 주석을 작성하는 방법\\n주석을 여러 줄 달고 싶다면 다음과 같이 작성하자.\\n\"\"\" Author: EungYong Park Date: 2023-05-01 이 프로그램은 Hello World를 출력하는 프\\n로그램이다. \"\"\"\\n여러 줄로 이루어진 주석은 큰따옴표 3개를 연속으로 사용한 \"\"\" 사이에 작성하면 된다.\\n큰따옴표 대신 작은따옴표 3개(\\'\\'\\')를 사용해도 된다.\\n이제 작성한 프로그램을 실행해 보자.\\nIDLE 에디터 창 메뉴에서 [Run → Run Module]을 선택한다(단축키: F5)\\n프로그램을 실행하면 파일을 먼저 저장하라는 대화 상자가 나타난다.\\n[확인]을 선택하면 [다른 이름으로 저장] 창이 나타난다. 로컬 디스크(C:)로 이동한 후\\n‘doit’이라는 이름으로 디렉터리(폴더)를 생성하고 그 안에 hello.py라는 이름으로 파일을\\n저장하자. 에디터로 파이썬 프로그램을 작성한 후 저장할 때는 파일 이름의 확장자를 항\\n'),\n",
       " Document(metadata={'source': './data/converted_data_test_with_metadata.pdf', 'file_path': './data/converted_data_test_with_metadata.pdf', 'page': 13, 'total_pages': 16, 'Producer': 'PyPDF2', 'Title': 'Jump to Phython', 'Author': 'Park', 'Subject': 'Python', 'Keywords': 'Python, Book', 'Creator': 'PyPDF2 Library'}, page_content='상 .py로 해야 한다. .py는 파이썬 파일이라는 것을 알려 주는 확장자이다.\\n실습 경로를 간단히 하기 위해 C:\\\\doit 디렉터리를 생성한 후 파일을 저장했다. C:\\\\에 파\\n일을 바로 저장하면 오류가 발생할 수 있으므로 꼭 C:\\\\ 하위에 디렉터리를 생성한 후 그\\n안에 파일을 저장하자.\\n파일을 저장하면 hello.py 프로그램이 실행된다. 실행 결과는 다음과 같이 IDLE 셸 창에\\n표시된다.\\n앞으로 간단한 예제는 파이썬 셸에 입력해 결과를 바로 확인하고 여러 줄을 한꺼번에 작\\n성하거나 저장했다가 다시 사용할 프로그램은 IDLE 에디터에서 작성한다.\\n점프 투 파이썬파이썬 셸과 IDLE 에디터의 차이점\\n앞으로 이 책은 파이썬 셸과 IDLE 에디터를 번갈아 가면서 예제를 작성한다. 이때 주의\\n할 점이 1가지 있다.\\n파이썬 셸의 경우, 변수 a와 표현식 1+1의 값을 확인하기 위해서 print 함수를 사용해도\\n되지만 다음처럼 print 함수 없이도 그 값을 확인할 수 있다.\\n이것은 표현식의 실행 결과를 출력하는 파이썬 셸 본래의 기능이기 때문이다. 하지만\\nIDLE 에디터를 사용할 경우에는 다음처럼 print 문을 반드시 사용해야 한다.\\n# editor.py a = \"python\" print(a) print(1 + 1) # print 문을 사용해야 결괏값을 출력할 수\\n있다.\\n명령 프롬프트 창에서 파이썬 프로그램 실행하기\\n이번에는 앞에서 IDLE 에디터로 작성한 hello.py 파일을 명령 프롬프트(command\\nprompt) 창에서 실행해 보자. IDLE 에디터에서 F5를 눌러 실행할 수도 있지만, 실제 업무\\n에서는 일반적으로 명령 프롬프트 창에서 파이썬 프로그램을 실행한다.\\n우리는 이미 다음과 같은 프로그램을 C:\\\\\\\\doit 디렉터리에 ‘hello.py’라는 이름으로 저장\\n했다.\\n# hello.py\\nprint(\"Hello world\")\\nhello.py 프로그램을 실행하기 위해 먼저 명령 프롬프트 창을 열어 보자. [윈도우 키 + R]\\n을 누르면 다음과 같은 실행 창이 나타난다. 빈칸에 ‘cmd’를 입력하고 [확인]을 클릭하면\\n'),\n",
       " Document(metadata={'source': './data/converted_data_test_with_metadata.pdf', 'file_path': './data/converted_data_test_with_metadata.pdf', 'page': 14, 'total_pages': 16, 'Producer': 'PyPDF2', 'Title': 'Jump to Phython', 'Author': 'Park', 'Subject': 'Python', 'Keywords': 'Python, Book', 'Creator': 'PyPDF2 Library'}, page_content='명령 프롬프트 창이 열린다.\\n첫 번째 줄에는 다음과 같은 프롬프트가 나타나 있을 것이다. C:\\\\\\\\Users\\\\\\\\박응용에\\n서 박응용은 필자의 컴퓨터 이름이다(물론 여러분의 명령 프롬프트는 여러분의 컴퓨터\\n이름으로 표시될 것이다).\\n맥 사용자의 경우, 명령 프롬프트 창 대신 터미널을 사용하자.\\n이제 다음과 같이 프롬프트에서 cd c:\\\\\\\\doit이라고 입력한다. cd(change directory) 명령\\n어는 프롬프트를 바로 다음에 나오는 디렉터리로 옮긴다.\\nc:\\\\doit에서 역슬래시(\\\\)는 [Enter] 바로 위에 있는 키(원화 표시 문자)로 입력한다.\\n프롬프트가 c:\\\\\\\\doit>으로 바뀐 것을 확인할 수 있다. 이제 명령어 python과 실행할 프\\n로그램 이름을 입력하면 파이썬 프로그램을 실행할 수 있다. 다음과 같이 입력해\\nhello.py 프로그램을 실행해 보자.\\n위와 같이 hello.py 프로그램이 실행되는 것을 확인할 수 있다. 만약 결괏값이 위와 같지\\n않다면 hello.py 파일이 C:\\\\\\\\doit 디렉터리에 존재하는지 다시 한번 살펴보자.\\n명령 프롬프트 창에서 예제를 실행한 화면은 다음과 같다.\\n추천하는 에디터\\n파이썬으로 실무 프로그램을 작성할 때는 앞에서 소개한 IDLE보다 많은 기능을 갖춘 에\\n디터를 쓰는 것이 좋다. 추천할 만한 에디터를 소개한다.\\n이 책의 예제를 풀다가 에디터를 사용하여 프로그램을 작성해야 할 때는 파이썬 공부에\\n최적화된 IDLE을 사용하자. 여기서 소개하는 에디터는 파이썬 공부를 한 번 끝낸 후에\\n사용해 보기를 권장한다.\\n비주얼 스튜디오 코드\\n비주얼 스튜디오 코드(Visual studio code)는 파이참(Pycharm)과 더불어 프로그래머에게\\n가장 많은 사랑을 받는 파이썬의 대표적인 에디터이다. 비주얼 스튜디오 코드는 공식 다\\n'),\n",
       " Document(metadata={'source': './data/converted_data_test_with_metadata.pdf', 'file_path': './data/converted_data_test_with_metadata.pdf', 'page': 15, 'total_pages': 16, 'Producer': 'PyPDF2', 'Title': 'Jump to Phython', 'Author': 'Park', 'Subject': 'Python', 'Keywords': 'Python, Book', 'Creator': 'PyPDF2 Library'}, page_content='운로드 사이트에서 내려받을 수 있다.\\n비주얼 스튜디오 코드는 파이썬 전용 에디터가 아니기 때문에 파이썬 외에도 여러 가지\\n언어를 지원한다. 따라서 비주얼 스튜디오 코드를 설치한 후 파이썬을 사용하기 위해 가\\n장 먼저 해야 할 일은 파이썬 extension을 설치하는 것이다. 파이썬 extension은 비주얼\\n스튜디오 코드의 [Extensions] 메뉴에서 설치할 수 있다.\\n파이참\\n파이썬에 어느 정도 익숙해졌다면 파이참을 사용해 보기를 적극 추천한다. 파이참은 가\\n장 유명한 파이썬 에디터 중 하나로, 코드를 작성할 때 자동 완성, 문법 체크 등 편리한\\n기능을 많이 제공한다. 파이참 공식 다운로드 사이트에서 내려받을 수 있다.\\n파이참은 파이썬 전용 에디터이므로 별도의 extension이나 플러그인을 설치할 필요가 없\\n다.\\n')]"
      ]
     },
     "execution_count": 8,
     "metadata": {},
     "output_type": "execute_result"
    }
   ],
   "source": [
    "docs"
   ]
  },
  {
   "cell_type": "code",
   "execution_count": 9,
   "metadata": {},
   "outputs": [],
   "source": [
    "for doc in docs:\n",
    "    doc.metadata['filename'] = doc.metadata['source']"
   ]
  },
  {
   "cell_type": "code",
   "execution_count": 10,
   "metadata": {},
   "outputs": [],
   "source": [
    "# !pip install -q ragas==0.1.19"
   ]
  },
  {
   "cell_type": "code",
   "execution_count": 11,
   "metadata": {},
   "outputs": [
    {
     "name": "stderr",
     "output_type": "stream",
     "text": [
      "c:\\Users\\RMARKET\\anaconda3\\envs\\langchain\\Lib\\site-packages\\tqdm\\auto.py:21: TqdmWarning: IProgress not found. Please update jupyter and ipywidgets. See https://ipywidgets.readthedocs.io/en/stable/user_install.html\n",
      "  from .autonotebook import tqdm as notebook_tqdm\n"
     ]
    }
   ],
   "source": [
    "from ragas.testset.generator import TestsetGenerator\n",
    "from ragas.testset.evolutions import simple, reasoning, multi_context, conditional\n",
    "from ragas.llms import LangchainLLMWrapper\n",
    "from ragas.embeddings import LangchainEmbeddingsWrapper\n",
    "from ragas.testset.extractor import KeyphraseExtractor\n",
    "from ragas.testset.docstore import InMemoryDocumentStore\n",
    "from langchain_openai import ChatOpenAI, OpenAIEmbeddings\n",
    "from langchain.text_splitter import RecursiveCharacterTextSplitter"
   ]
  },
  {
   "cell_type": "code",
   "execution_count": 12,
   "metadata": {},
   "outputs": [],
   "source": [
    "# 생성기\n",
    "generator_llm = ChatOpenAI(model = 'gpt-4o')"
   ]
  },
  {
   "cell_type": "code",
   "execution_count": 13,
   "metadata": {},
   "outputs": [],
   "source": [
    "# 평가를 할 수 있는 비평기\n",
    "critic_llm = ChatOpenAI(model = 'gpt-4o')"
   ]
  },
  {
   "cell_type": "code",
   "execution_count": 14,
   "metadata": {},
   "outputs": [],
   "source": [
    "# 임베딩 모델\n",
    "embeddings = OpenAIEmbeddings(model = 'text-embedding-3-small')"
   ]
  },
  {
   "cell_type": "code",
   "execution_count": 15,
   "metadata": {},
   "outputs": [],
   "source": [
    "# 텍스트 분할기\n",
    "splitter = RecursiveCharacterTextSplitter(chunk_size = 1000, chunk_overlap = 100)"
   ]
  },
  {
   "cell_type": "code",
   "execution_count": 16,
   "metadata": {},
   "outputs": [],
   "source": [
    "langchain_llm = LangchainLLMWrapper(ChatOpenAI(model = 'gpt-4o'))\n",
    "# 구문추출기 생성을 위한 모델 호출(RAGAS와의 호환을 위한 Wrapper)"
   ]
  },
  {
   "cell_type": "code",
   "execution_count": 17,
   "metadata": {},
   "outputs": [],
   "source": [
    "# 구문추출기 : 문서 핵심 정보 식별 및 추출 역할\n",
    "Keyphrase_extractor = KeyphraseExtractor(llm = langchain_llm)"
   ]
  },
  {
   "cell_type": "code",
   "execution_count": 18,
   "metadata": {},
   "outputs": [],
   "source": [
    "# 임베딩 모델도 RAGAS와 호환을 위해 Wrapper 적용\n",
    "ragas_embeddings = LangchainEmbeddingsWrapper(embeddings)"
   ]
  },
  {
   "cell_type": "code",
   "execution_count": 19,
   "metadata": {},
   "outputs": [],
   "source": [
    "# 저장소, docstore 만들기\n",
    "docstore = InMemoryDocumentStore(\n",
    "    splitter = splitter,\n",
    "    embeddings = ragas_embeddings,\n",
    "    extractor = Keyphrase_extractor\n",
    ")"
   ]
  },
  {
   "cell_type": "code",
   "execution_count": 20,
   "metadata": {},
   "outputs": [],
   "source": [
    "# 생성기 만들기\n",
    "generator = TestsetGenerator.from_langchain(\n",
    "    generator_llm, # 생성기\n",
    "    critic_llm,  # 판별기\n",
    "    ragas_embeddings, # 임베딩모델\n",
    "    docstore = docstore # 문서저장소\n",
    ")"
   ]
  },
  {
   "cell_type": "code",
   "execution_count": 21,
   "metadata": {},
   "outputs": [],
   "source": [
    "# # 질문 유형 분포를 설정하는 딕셔너리입니다.\n",
    "# # 각 질문 유형과 그에 해당하는 비율(0~1)을 정의합니다.\n",
    "# distributions = {\n",
    "#     \"simple\": 0.4,          # 단순한 질문 유형의 비율 (전체의 40%)\n",
    "#     \"reasoning\": 0.2,       # 논리적 사고가 필요한 질문 유형의 비율 (전체의 20%)\n",
    "#     \"multi_context\": 0.2,   # 여러 문맥을 고려해야 하는 질문 유형의 비율 (전체의 20%)\n",
    "#     \"conditional\": 0.2      # 조건에 따라 답변이 달라지는 질문 유형의 비율 (전체의 20%)\n",
    "# }"
   ]
  },
  {
   "cell_type": "code",
   "execution_count": 22,
   "metadata": {},
   "outputs": [],
   "source": [
    "# 질문 유형 분포 결정\n",
    "distributions = {simple : 0.5, reasoning : 0.2, multi_context : 0.2, conditional : 0.1}"
   ]
  },
  {
   "cell_type": "markdown",
   "metadata": {},
   "source": [
    "## 배치 사이즈"
   ]
  },
  {
   "cell_type": "code",
   "execution_count": 23,
   "metadata": {},
   "outputs": [],
   "source": [
    "# def batch_documents(documents, batch_size):\n",
    "#     \"\"\"\n",
    "#     문서를 일정 크기의 배치로 나눕니다.\n",
    "    \n",
    "#     Args:\n",
    "#         documents (list): 문서 목록.\n",
    "#         batch_size (int): 각 배치의 크기.\n",
    "    \n",
    "#     Returns:\n",
    "#         list: 배치로 나뉜 문서 그룹.\n",
    "#     \"\"\"\n",
    "#     for i in range(0, len(documents), batch_size):\n",
    "#         yield documents[i:i + batch_size]\n",
    "\n",
    "# def generate_testset_in_batches(generator, documents, test_size, distributions, batch_size=10):\n",
    "#     \"\"\"\n",
    "#     문서를 배치 단위로 나누어 처리하여 테스트 세트를 생성합니다.\n",
    "    \n",
    "#     Args:\n",
    "#         generator: 테스트 세트 생성기 객체.\n",
    "#         documents (list): 전체 문서 목록.\n",
    "#         test_size (int): 각 배치에서 생성할 질문 세트 크기.\n",
    "#         distributions (dict): 질문 유형 분포.\n",
    "#         batch_size (int): 배치 크기 (기본값: 10).\n",
    "    \n",
    "#     Returns:\n",
    "#         list: 각 배치의 결과를 결합한 전체 테스트 세트.\n",
    "#     \"\"\"\n",
    "#     all_testsets = []\n",
    "#     for batch_index, document_batch in enumerate(batch_documents(documents, batch_size)):\n",
    "#         print(f\"Processing batch {batch_index + 1}/{len(documents) // batch_size + 1}...\")\n",
    "#         try:\n",
    "#             batch_testset = generator.generate_with_langchain_docs(\n",
    "#                 documents=document_batch,\n",
    "#                 test_size=test_size,\n",
    "#                 distributions=distributions,\n",
    "#                 with_debugging_logs=True,\n",
    "#                 raise_exceptions=False\n",
    "#             )\n",
    "#             all_testsets.extend(batch_testset.to_dict())  # 배치 결과를 결합\n",
    "#         except Exception as e:\n",
    "#             print(f\"Error processing batch {batch_index + 1}: {e}\")\n",
    "    \n",
    "#     return all_testsets\n",
    "\n",
    "# # 예제 사용\n",
    "# testset = generate_testset_in_batches(\n",
    "#     generator=generator,\n",
    "#     documents=docs,  # 전체 문서\n",
    "#     test_size=10,    # 각 배치에서 생성할 테스트 세트 크기\n",
    "#     distributions=distributions,\n",
    "#     batch_size=50    # 배치 크기\n",
    "# )\n",
    "\n",
    "# # 결과를 pandas DataFrame으로 변환\n",
    "# import pandas as pd\n",
    "# test_df = pd.DataFrame(testset)\n",
    "\n",
    "# # DataFrame 확인\n",
    "# print(test_df.head())\n"
   ]
  },
  {
   "cell_type": "code",
   "execution_count": null,
   "metadata": {},
   "outputs": [
    {
     "name": "stderr",
     "output_type": "stream",
     "text": [
      "embedding nodes:  16%|█▌        | 7/44 [00:00<00:03, 11.02it/s]Failed to multipart ingest runs: langsmith.utils.LangSmithRateLimitError: Rate limit exceeded for https://api.smith.langchain.com/runs/multipart. HTTPError('429 Client Error: Too Many Requests for url: https://api.smith.langchain.com/runs/multipart', '{\"detail\":\"Monthly unique traces usage limit exceeded\"}')trace=60b54d7b-ae08-46a1-bfb9-34de916b8f71,id=60b54d7b-ae08-46a1-bfb9-34de916b8f71; trace=86e2a881-8adb-46a4-80d0-a0d3921cd494,id=86e2a881-8adb-46a4-80d0-a0d3921cd494; trace=0ff16d8b-65fb-4fe0-8ea7-13e7e41fcae2,id=0ff16d8b-65fb-4fe0-8ea7-13e7e41fcae2; trace=31fbf060-caf0-4342-bd7b-61b3c2f77810,id=31fbf060-caf0-4342-bd7b-61b3c2f77810; trace=988dd51a-47cf-42d4-bfad-301d3b87ea72,id=988dd51a-47cf-42d4-bfad-301d3b87ea72; trace=a2d5ad31-d1c7-4c0b-99bb-ffaf8043e4cf,id=a2d5ad31-d1c7-4c0b-99bb-ffaf8043e4cf; trace=e60b8db3-25d9-4997-93ce-b85f702eff88,id=e60b8db3-25d9-4997-93ce-b85f702eff88; trace=35b88df7-9117-41ad-9e15-e42b2f363c06,id=35b88df7-9117-41ad-9e15-e42b2f363c06\n",
      "embedding nodes:  48%|████▊     | 21/44 [00:01<00:01, 20.07it/s]Failed to multipart ingest runs: langsmith.utils.LangSmithRateLimitError: Rate limit exceeded for https://api.smith.langchain.com/runs/multipart. HTTPError('429 Client Error: Too Many Requests for url: https://api.smith.langchain.com/runs/multipart', '{\"detail\":\"Monthly unique traces usage limit exceeded\"}')trace=3aaecbb7-ddf5-46a7-8a64-319d2acd8818,id=3aaecbb7-ddf5-46a7-8a64-319d2acd8818; trace=1be62c3a-99a4-4352-823b-1943f3a1957c,id=1be62c3a-99a4-4352-823b-1943f3a1957c; trace=ebf38960-42fa-4691-b71f-a2b8297aaf66,id=ebf38960-42fa-4691-b71f-a2b8297aaf66; trace=9ccb5452-d7b7-4e54-91eb-f1a6d46806af,id=9ccb5452-d7b7-4e54-91eb-f1a6d46806af; trace=655e5895-09ac-48f3-9b2e-3c0f0d7db2ae,id=655e5895-09ac-48f3-9b2e-3c0f0d7db2ae\n",
      "embedding nodes:  64%|██████▎   | 28/44 [00:01<00:00, 21.94it/s]Failed to multipart ingest runs: langsmith.utils.LangSmithRateLimitError: Rate limit exceeded for https://api.smith.langchain.com/runs/multipart. HTTPError('429 Client Error: Too Many Requests for url: https://api.smith.langchain.com/runs/multipart', '{\"detail\":\"Monthly unique traces usage limit exceeded\"}')trace=d83b90dd-0162-4895-b2e3-8c7dc6b3d7aa,id=d83b90dd-0162-4895-b2e3-8c7dc6b3d7aa; trace=30fe328e-ec3e-40ee-8c94-78d84f9e6846,id=30fe328e-ec3e-40ee-8c94-78d84f9e6846; trace=c30f5dbf-bbcb-4535-ba5e-787d3b499913,id=c30f5dbf-bbcb-4535-ba5e-787d3b499913; trace=948b466a-b1f3-461a-ab08-40d949545266,id=948b466a-b1f3-461a-ab08-40d949545266; trace=9f95827e-7ab7-4437-addf-950c715321c5,id=9f95827e-7ab7-4437-addf-950c715321c5; trace=82351211-a5cf-40a5-9693-db99018f82ae,id=82351211-a5cf-40a5-9693-db99018f82ae; trace=0c6e6688-91d5-4d2e-b539-eda8c57b1fb2,id=0c6e6688-91d5-4d2e-b539-eda8c57b1fb2; trace=7ffabf4f-e44c-4304-a05c-7e7c4dbde7fa,id=7ffabf4f-e44c-4304-a05c-7e7c4dbde7fa; trace=0ff16d8b-65fb-4fe0-8ea7-13e7e41fcae2,id=0ff16d8b-65fb-4fe0-8ea7-13e7e41fcae2; trace=86e2a881-8adb-46a4-80d0-a0d3921cd494,id=86e2a881-8adb-46a4-80d0-a0d3921cd494; trace=31fbf060-caf0-4342-bd7b-61b3c2f77810,id=31fbf060-caf0-4342-bd7b-61b3c2f77810; trace=e60b8db3-25d9-4997-93ce-b85f702eff88,id=e60b8db3-25d9-4997-93ce-b85f702eff88; trace=a2d5ad31-d1c7-4c0b-99bb-ffaf8043e4cf,id=a2d5ad31-d1c7-4c0b-99bb-ffaf8043e4cf; trace=35b88df7-9117-41ad-9e15-e42b2f363c06,id=35b88df7-9117-41ad-9e15-e42b2f363c06; trace=3aaecbb7-ddf5-46a7-8a64-319d2acd8818,id=3aaecbb7-ddf5-46a7-8a64-319d2acd8818; trace=988dd51a-47cf-42d4-bfad-301d3b87ea72,id=988dd51a-47cf-42d4-bfad-301d3b87ea72; trace=1be62c3a-99a4-4352-823b-1943f3a1957c,id=1be62c3a-99a4-4352-823b-1943f3a1957c; trace=60b54d7b-ae08-46a1-bfb9-34de916b8f71,id=60b54d7b-ae08-46a1-bfb9-34de916b8f71\n",
      "embedding nodes:  84%|████████▍ | 37/44 [00:02<00:00, 22.13it/s]Failed to multipart ingest runs: langsmith.utils.LangSmithRateLimitError: Rate limit exceeded for https://api.smith.langchain.com/runs/multipart. HTTPError('429 Client Error: Too Many Requests for url: https://api.smith.langchain.com/runs/multipart', '{\"detail\":\"Monthly unique traces usage limit exceeded\"}')trace=65205ec1-e591-4a95-b97a-7907c8099eb5,id=65205ec1-e591-4a95-b97a-7907c8099eb5; trace=ebf38960-42fa-4691-b71f-a2b8297aaf66,id=ebf38960-42fa-4691-b71f-a2b8297aaf66\n",
      "embedding nodes:  91%|█████████ | 40/44 [00:02<00:00, 13.65it/s]Failed to multipart ingest runs: langsmith.utils.LangSmithRateLimitError: Rate limit exceeded for https://api.smith.langchain.com/runs/multipart. HTTPError('429 Client Error: Too Many Requests for url: https://api.smith.langchain.com/runs/multipart', '{\"detail\":\"Monthly unique traces usage limit exceeded\"}')trace=9ccb5452-d7b7-4e54-91eb-f1a6d46806af,id=9ccb5452-d7b7-4e54-91eb-f1a6d46806af; trace=655e5895-09ac-48f3-9b2e-3c0f0d7db2ae,id=655e5895-09ac-48f3-9b2e-3c0f0d7db2ae; trace=d83b90dd-0162-4895-b2e3-8c7dc6b3d7aa,id=d83b90dd-0162-4895-b2e3-8c7dc6b3d7aa; trace=30fe328e-ec3e-40ee-8c94-78d84f9e6846,id=30fe328e-ec3e-40ee-8c94-78d84f9e6846\n",
      "Failed to multipart ingest runs: langsmith.utils.LangSmithRateLimitError: Rate limit exceeded for https://api.smith.langchain.com/runs/multipart. HTTPError('429 Client Error: Too Many Requests for url: https://api.smith.langchain.com/runs/multipart', '{\"detail\":\"Monthly unique traces usage limit exceeded\"}')trace=948b466a-b1f3-461a-ab08-40d949545266,id=948b466a-b1f3-461a-ab08-40d949545266; trace=9f95827e-7ab7-4437-addf-950c715321c5,id=9f95827e-7ab7-4437-addf-950c715321c5; trace=82351211-a5cf-40a5-9693-db99018f82ae,id=82351211-a5cf-40a5-9693-db99018f82ae; trace=7ffabf4f-e44c-4304-a05c-7e7c4dbde7fa,id=7ffabf4f-e44c-4304-a05c-7e7c4dbde7fa\n",
      "Generating:   0%|          | 0/10 [00:00<?, ?it/s]Failed to multipart ingest runs: langsmith.utils.LangSmithRateLimitError: Rate limit exceeded for https://api.smith.langchain.com/runs/multipart. HTTPError('429 Client Error: Too Many Requests for url: https://api.smith.langchain.com/runs/multipart', '{\"detail\":\"Monthly unique traces usage limit exceeded\"}')trace=50a2228d-27d4-482d-9aff-bff0d6c4f150,id=50a2228d-27d4-482d-9aff-bff0d6c4f150; trace=a56a8379-80e8-4406-ba03-d3c0968e4ed8,id=a56a8379-80e8-4406-ba03-d3c0968e4ed8; trace=220c4203-fbe2-4937-9e94-8c9400e7cf39,id=220c4203-fbe2-4937-9e94-8c9400e7cf39; trace=a18fb1fc-b87e-48ed-820e-8c8e4f44ae9f,id=a18fb1fc-b87e-48ed-820e-8c8e4f44ae9f; trace=6b4e8da9-9d83-4dbb-94bc-9d2f97bf2026,id=6b4e8da9-9d83-4dbb-94bc-9d2f97bf2026; trace=db2a97e8-363e-41ba-ac29-d293d5cfe752,id=db2a97e8-363e-41ba-ac29-d293d5cfe752; trace=2bdff630-bb69-4e49-8792-24a616ced57f,id=2bdff630-bb69-4e49-8792-24a616ced57f; trace=3e794600-f41f-49bf-8d53-ce95bfaa60f3,id=3e794600-f41f-49bf-8d53-ce95bfaa60f3; trace=470af86c-5c7d-4fa0-a940-f5de31849e5d,id=470af86c-5c7d-4fa0-a940-f5de31849e5d; trace=4d23fa9d-2bae-4db8-b66b-e007df450679,id=4d23fa9d-2bae-4db8-b66b-e007df450679; trace=c30f5dbf-bbcb-4535-ba5e-787d3b499913,id=c30f5dbf-bbcb-4535-ba5e-787d3b499913; trace=0c6e6688-91d5-4d2e-b539-eda8c57b1fb2,id=0c6e6688-91d5-4d2e-b539-eda8c57b1fb2; trace=65205ec1-e591-4a95-b97a-7907c8099eb5,id=65205ec1-e591-4a95-b97a-7907c8099eb5\n",
      "[ragas.testset.filters.DEBUG] context scoring: {'clarity': 1, 'depth': 2, 'structure': 2, 'relevance': 2, 'score': 1.75}\n",
      "[ragas.testset.evolutions.DEBUG] keyphrases in merged node: ['파이썬 재구성', '프로그래밍 언어', '사용자 층 확대', '프로그래밍 개발', '파이썬의 매력']\n",
      "[ragas.testset.filters.DEBUG] context scoring: {'clarity': 2, 'depth': 2, 'structure': 2, 'relevance': 3, 'score': 2.25}\n",
      "[ragas.testset.evolutions.DEBUG] keyphrases in merged node: ['IDLE editor', 'Python program execution', 'File creation', 'Program comments', 'Run Module']\n",
      "[ragas.testset.filters.DEBUG] context scoring: {'clarity': 1, 'depth': 2, 'structure': 2, 'relevance': 2, 'score': 1.75}\n",
      "[ragas.testset.evolutions.DEBUG] keyphrases in merged node: ['C and C++ programming', 'Python usage', 'Internet of Things', 'Raspberry Pi', 'Small computer applications']\n",
      "[ragas.testset.filters.DEBUG] context scoring: {'clarity': 2, 'depth': 2, 'structure': 2, 'relevance': 3, 'score': 2.25}\n",
      "[ragas.testset.evolutions.DEBUG] keyphrases in merged node: ['IDLE editor', 'Python program execution', 'File creation', 'Program comments', 'Run Module']\n",
      "[ragas.testset.filters.DEBUG] context scoring: {'clarity': 2, 'depth': 2, 'structure': 2, 'relevance': 3, 'score': 2.25}\n",
      "[ragas.testset.evolutions.DEBUG] keyphrases in merged node: ['IDLE editor', 'Python program execution', 'File creation', 'Program comments', 'Run Module']\n",
      "Failed to multipart ingest runs: langsmith.utils.LangSmithRateLimitError: Rate limit exceeded for https://api.smith.langchain.com/runs/multipart. HTTPError('429 Client Error: Too Many Requests for url: https://api.smith.langchain.com/runs/multipart', '{\"detail\":\"Monthly unique traces usage limit exceeded\"}')trace=1876180d-2b01-4e10-ba13-4da15f62189a,id=1876180d-2b01-4e10-ba13-4da15f62189a; trace=c3847218-1302-4556-b3e4-9124b0fe4df0,id=c3847218-1302-4556-b3e4-9124b0fe4df0; trace=6b4e8da9-9d83-4dbb-94bc-9d2f97bf2026,id=6b4e8da9-9d83-4dbb-94bc-9d2f97bf2026; trace=db2a97e8-363e-41ba-ac29-d293d5cfe752,id=db2a97e8-363e-41ba-ac29-d293d5cfe752\n",
      "[ragas.testset.evolutions.INFO] seed question generated: How can a Python program be executed using IDLE editor?\n",
      "[ragas.testset.evolutions.INFO] seed question generated: How is the user base expanding in relation to the recognition of the value of programs developed using Python?\n",
      "[ragas.testset.evolutions.INFO] seed question generated: How can C and C++ programming be utilized in projects involving Raspberry Pi and the Internet of Things?\n",
      "[ragas.testset.evolutions.INFO] seed question generated: What is the purpose of using comments in a Python program?\n",
      "[ragas.testset.evolutions.INFO] seed question generated: What steps are involved in executing a program using the \"Run Module\" option in IDLE?\n",
      "Failed to multipart ingest runs: langsmith.utils.LangSmithRateLimitError: Rate limit exceeded for https://api.smith.langchain.com/runs/multipart. HTTPError('429 Client Error: Too Many Requests for url: https://api.smith.langchain.com/runs/multipart', '{\"detail\":\"Monthly unique traces usage limit exceeded\"}')trace=ede9d495-cfee-4066-ae90-493b8aafa9fa,id=ede9d495-cfee-4066-ae90-493b8aafa9fa; trace=6807f873-8a7f-4735-b8f7-77e5082952a6,id=6807f873-8a7f-4735-b8f7-77e5082952a6; trace=3ee985aa-c78e-4900-9021-35922aaf423b,id=3ee985aa-c78e-4900-9021-35922aaf423b; trace=50a2228d-27d4-482d-9aff-bff0d6c4f150,id=50a2228d-27d4-482d-9aff-bff0d6c4f150; trace=220c4203-fbe2-4937-9e94-8c9400e7cf39,id=220c4203-fbe2-4937-9e94-8c9400e7cf39; trace=470af86c-5c7d-4fa0-a940-f5de31849e5d,id=470af86c-5c7d-4fa0-a940-f5de31849e5d\n",
      "[ragas.testset.filters.DEBUG] context scoring: {'clarity': 1, 'depth': 2, 'structure': 2, 'relevance': 2, 'score': 1.75}\n",
      "[ragas.testset.evolutions.DEBUG] keyphrases in merged node: ['파이썬 재구성', '프로그래밍 언어', '사용자 층 확대', '프로그래밍 개발', '파이썬의 매력']\n",
      "[ragas.testset.filters.DEBUG] context scoring: {'clarity': 1, 'depth': 2, 'structure': 2, 'relevance': 2, 'score': 1.75}\n",
      "[ragas.testset.evolutions.DEBUG] keyphrases in merged node: ['C and C++ programming', 'Python usage', 'Internet of Things', 'Raspberry Pi', 'Small computer applications']\n",
      "[ragas.testset.filters.DEBUG] context scoring: {'clarity': 2, 'depth': 2, 'structure': 2, 'relevance': 3, 'score': 2.25}\n",
      "[ragas.testset.evolutions.DEBUG] keyphrases in merged node: ['IDLE editor', 'Python program execution', 'File creation', 'Program comments', 'Run Module']\n",
      "[ragas.testset.filters.DEBUG] context scoring: {'clarity': 2, 'depth': 2, 'structure': 2, 'relevance': 2, 'score': 2.0}\n",
      "[ragas.testset.evolutions.DEBUG] keyphrases in merged node: ['Python programming', 'Human language', 'Simple grammar', 'Free and powerful', 'Rapid development']\n",
      "[ragas.testset.filters.DEBUG] context scoring: {'clarity': 1, 'depth': 2, 'structure': 2, 'relevance': 2, 'score': 1.75}\n",
      "[ragas.testset.evolutions.DEBUG] keyphrases in merged node: ['비주얼 스튜디오 코드', '파이썬 전용 에디터', '파이썬 extension 설치', '파이참', '자동 완성 및 문법 체크']\n",
      "Failed to multipart ingest runs: langsmith.utils.LangSmithRateLimitError: Rate limit exceeded for https://api.smith.langchain.com/runs/multipart. HTTPError('429 Client Error: Too Many Requests for url: https://api.smith.langchain.com/runs/multipart', '{\"detail\":\"Monthly unique traces usage limit exceeded\"}')trace=9878c290-fbbc-49b5-8a72-02386a234b7b,id=9878c290-fbbc-49b5-8a72-02386a234b7b; trace=3a6b5e13-26cd-4e78-81b5-0a4616790da2,id=3a6b5e13-26cd-4e78-81b5-0a4616790da2; trace=2dbac5a0-f4f2-4f3e-9396-b30ab27b9bbe,id=2dbac5a0-f4f2-4f3e-9396-b30ab27b9bbe; trace=d0dc717e-6a29-4f61-8219-d9e9fbd804ed,id=d0dc717e-6a29-4f61-8219-d9e9fbd804ed; trace=2cf12b0f-738a-4cf0-b865-c41ffbe7777a,id=2cf12b0f-738a-4cf0-b865-c41ffbe7777a; trace=1876180d-2b01-4e10-ba13-4da15f62189a,id=1876180d-2b01-4e10-ba13-4da15f62189a; trace=c3847218-1302-4556-b3e4-9124b0fe4df0,id=c3847218-1302-4556-b3e4-9124b0fe4df0; trace=ede9d495-cfee-4066-ae90-493b8aafa9fa,id=ede9d495-cfee-4066-ae90-493b8aafa9fa; trace=6807f873-8a7f-4735-b8f7-77e5082952a6,id=6807f873-8a7f-4735-b8f7-77e5082952a6; trace=3ee985aa-c78e-4900-9021-35922aaf423b,id=3ee985aa-c78e-4900-9021-35922aaf423b\n",
      "[ragas.testset.evolutions.INFO] seed question generated: How is Python utilized in the field of the Internet of Things?\n",
      "Failed to multipart ingest runs: langsmith.utils.LangSmithRateLimitError: Rate limit exceeded for https://api.smith.langchain.com/runs/multipart. HTTPError('429 Client Error: Too Many Requests for url: https://api.smith.langchain.com/runs/multipart', '{\"detail\":\"Monthly unique traces usage limit exceeded\"}')trace=323209e3-c61e-4e42-b0d0-49208296eae8,id=323209e3-c61e-4e42-b0d0-49208296eae8; trace=32918309-ae0c-4f6f-9692-50ce250eade7,id=32918309-ae0c-4f6f-9692-50ce250eade7; trace=c8112fed-ce0c-49f9-a940-2cb6fa66d87c,id=c8112fed-ce0c-49f9-a940-2cb6fa66d87c; trace=d0db1cf5-0e35-41d0-8a11-76814992993f,id=d0db1cf5-0e35-41d0-8a11-76814992993f; trace=83abeb40-e1e7-4e90-8c63-a9a89b061470,id=83abeb40-e1e7-4e90-8c63-a9a89b061470; trace=a56a8379-80e8-4406-ba03-d3c0968e4ed8,id=a56a8379-80e8-4406-ba03-d3c0968e4ed8; trace=a18fb1fc-b87e-48ed-820e-8c8e4f44ae9f,id=a18fb1fc-b87e-48ed-820e-8c8e4f44ae9f; trace=2bdff630-bb69-4e49-8792-24a616ced57f,id=2bdff630-bb69-4e49-8792-24a616ced57f; trace=3e794600-f41f-49bf-8d53-ce95bfaa60f3,id=3e794600-f41f-49bf-8d53-ce95bfaa60f3; trace=4d23fa9d-2bae-4db8-b66b-e007df450679,id=4d23fa9d-2bae-4db8-b66b-e007df450679\n",
      "[ragas.testset.evolutions.INFO] seed question generated: What steps are involved in executing a program using the \"Run Module\" option in IDLE?\n",
      "[ragas.testset.evolutions.INFO] seed question generated: How does Python's simple grammar make it easier to learn and use compared to other complex languages?\n",
      "Failed to multipart ingest runs: langsmith.utils.LangSmithRateLimitError: Rate limit exceeded for https://api.smith.langchain.com/runs/multipart. HTTPError('429 Client Error: Too Many Requests for url: https://api.smith.langchain.com/runs/multipart', '{\"detail\":\"Monthly unique traces usage limit exceeded\"}')trace=4d2136cd-d74d-4334-9092-4d8365e94e03,id=4d2136cd-d74d-4334-9092-4d8365e94e03; trace=32918309-ae0c-4f6f-9692-50ce250eade7,id=32918309-ae0c-4f6f-9692-50ce250eade7\n",
      "[ragas.testset.filters.DEBUG] filtered question: {'feedback': 'The question is clear and specific, asking for the purpose of using comments in a Python program. It is independent and does not rely on external references or context, making it understandable and answerable based on the details provided. The intent is straightforward, seeking an explanation of the role or benefits of comments in Python programming.', 'verdict': 1}\n",
      "[ragas.testset.evolutions.DEBUG] [MultiContextEvolution] simple question generated: What is the purpose of using comments in a Python program?\n",
      "[ragas.testset.evolutions.INFO] seed question generated: \\ud30c\\uc774\\uc36c extension\\uc744 \\uc124\\uce58\\ud558\\ub294 \\uc774\\uc720\\ub294 \\ubb34\\uc5c7\\uc778\\uac00?\n",
      "Failed to multipart ingest runs: langsmith.utils.LangSmithRateLimitError: Rate limit exceeded for https://api.smith.langchain.com/runs/multipart. HTTPError('429 Client Error: Too Many Requests for url: https://api.smith.langchain.com/runs/multipart', '{\"detail\":\"Monthly unique traces usage limit exceeded\"}')trace=d42a82c6-377d-44eb-bc7a-662ba3df5c8f,id=d42a82c6-377d-44eb-bc7a-662ba3df5c8f; trace=429c82d9-0f3c-493f-978e-68f37de2e5fc,id=429c82d9-0f3c-493f-978e-68f37de2e5fc; trace=c8112fed-ce0c-49f9-a940-2cb6fa66d87c,id=c8112fed-ce0c-49f9-a940-2cb6fa66d87c; trace=d0db1cf5-0e35-41d0-8a11-76814992993f,id=d0db1cf5-0e35-41d0-8a11-76814992993f\n",
      "[ragas.testset.filters.DEBUG] filtered question: {'feedback': \"The question asks for the steps involved in executing a program using the 'Run Module' option in IDLE. It is specific and clear in its intent, as it seeks a procedural explanation related to a particular feature ('Run Module') within a specific environment (IDLE). The question is independent and does not rely on external references or unspecified contexts, making it understandable and answerable based on the details provided.\", 'verdict': 1}\n",
      "Failed to multipart ingest runs: langsmith.utils.LangSmithRateLimitError: Rate limit exceeded for https://api.smith.langchain.com/runs/multipart. HTTPError('429 Client Error: Too Many Requests for url: https://api.smith.langchain.com/runs/multipart', '{\"detail\":\"Monthly unique traces usage limit exceeded\"}')trace=bd782404-c49c-4b9d-823b-28177085de1f,id=bd782404-c49c-4b9d-823b-28177085de1f; trace=dc0bf63e-dc46-4bd8-afcd-dbbd884f7b8e,id=dc0bf63e-dc46-4bd8-afcd-dbbd884f7b8e; trace=d0dc717e-6a29-4f61-8219-d9e9fbd804ed,id=d0dc717e-6a29-4f61-8219-d9e9fbd804ed; trace=83abeb40-e1e7-4e90-8c63-a9a89b061470,id=83abeb40-e1e7-4e90-8c63-a9a89b061470\n",
      "[ragas.testset.filters.DEBUG] filtered question: {'feedback': 'The question is clear and specific, asking how C and C++ programming can be used in projects that involve Raspberry Pi and the Internet of Things (IoT). It specifies the programming languages of interest (C and C++), the platform (Raspberry Pi), and the application domain (IoT), making the intent clear. The question is independent and does not rely on external references or unspecified contexts, allowing for a direct and relevant response based on the details provided.', 'verdict': 1}\n",
      "[ragas.testset.evolutions.DEBUG] [MultiContextEvolution] multicontext question generated: How do annotations in Python scripts, which are ignored during execution, assist in understanding the code when using both IDLE and command prompt environments?\n",
      "[ragas.testset.filters.DEBUG] filtered question: {'feedback': 'The question asks for the method to execute a Python program using the IDLE editor. It is clear and specific, as it identifies the programming language (Python) and the tool (IDLE editor) involved, and it seeks a straightforward procedural answer. The question is self-contained and does not rely on external references or additional context, making it understandable and answerable based on the details provided.', 'verdict': 1}\n",
      "[ragas.testset.evolutions.DEBUG] [ConditionalEvolution] simple question generated: How can a Python program be executed using IDLE editor?\n",
      "Failed to multipart ingest runs: langsmith.utils.LangSmithRateLimitError: Rate limit exceeded for https://api.smith.langchain.com/runs/multipart. HTTPError('429 Client Error: Too Many Requests for url: https://api.smith.langchain.com/runs/multipart', '{\"detail\":\"Monthly unique traces usage limit exceeded\"}')trace=ada4fcc0-edb9-4cdd-91d5-8f69dd00d079,id=ada4fcc0-edb9-4cdd-91d5-8f69dd00d079; trace=2cf12b0f-738a-4cf0-b865-c41ffbe7777a,id=2cf12b0f-738a-4cf0-b865-c41ffbe7777a\n",
      "Failed to multipart ingest runs: langsmith.utils.LangSmithRateLimitError: Rate limit exceeded for https://api.smith.langchain.com/runs/multipart. HTTPError('429 Client Error: Too Many Requests for url: https://api.smith.langchain.com/runs/multipart', '{\"detail\":\"Monthly unique traces usage limit exceeded\"}')trace=a59972ab-f376-42a9-8e48-7f29948684ec,id=a59972ab-f376-42a9-8e48-7f29948684ec; trace=5738332d-dd62-4f0e-b05a-5de8bb833e97,id=5738332d-dd62-4f0e-b05a-5de8bb833e97; trace=5d179736-cc03-40a9-aba8-fe09f5fdaac5,id=5d179736-cc03-40a9-aba8-fe09f5fdaac5; trace=9878c290-fbbc-49b5-8a72-02386a234b7b,id=9878c290-fbbc-49b5-8a72-02386a234b7b; trace=2dbac5a0-f4f2-4f3e-9396-b30ab27b9bbe,id=2dbac5a0-f4f2-4f3e-9396-b30ab27b9bbe; trace=bd782404-c49c-4b9d-823b-28177085de1f,id=bd782404-c49c-4b9d-823b-28177085de1f\n",
      "[ragas.testset.filters.DEBUG] filtered question: {'feedback': \"The question asks about the expansion of the user base in relation to the recognition of the value of programs developed using Python. While it specifies the programming language of interest (Python) and the general topic (user base expansion and value recognition), it lacks clarity in terms of the specific metrics or aspects of 'user base expansion' and 'recognition of value' it refers to. It is unclear whether the question seeks quantitative data, qualitative insights, or specific examples. To improve clarity and answerability, the question could specify the type of user base (e.g., developers, companies), the context or timeframe of interest, and the criteria for 'recognition of value' (e.g., industry adoption, academic use, community growth).\", 'verdict': 0}\n",
      "Failed to multipart ingest runs: langsmith.utils.LangSmithRateLimitError: Rate limit exceeded for https://api.smith.langchain.com/runs/multipart. HTTPError('429 Client Error: Too Many Requests for url: https://api.smith.langchain.com/runs/multipart', '{\"detail\":\"Monthly unique traces usage limit exceeded\"}')trace=143ca872-ce79-43de-951b-599f3a871f9b,id=143ca872-ce79-43de-951b-599f3a871f9b; trace=ada4fcc0-edb9-4cdd-91d5-8f69dd00d079,id=ada4fcc0-edb9-4cdd-91d5-8f69dd00d079\n",
      "[ragas.testset.filters.DEBUG] filtered question: {'feedback': 'The question asks about the utilization of Python in the field of the Internet of Things (IoT). It is clear and specific, as it identifies both the programming language (Python) and the domain of interest (IoT). The intent is to understand the role or applications of Python within this field, which is a well-defined query. The question does not rely on external references or unspecified contexts, making it independent and answerable with sufficient domain knowledge.', 'verdict': 1}\n",
      "[ragas.testset.filters.DEBUG] filtered question: {'feedback': \"The question asks for the steps involved in executing a program using the 'Run Module' option in IDLE. It is specific and clear in its intent, as it seeks a procedural explanation related to a particular feature ('Run Module') within a specific environment (IDLE). The question is independent and does not rely on external references or unspecified contexts, making it understandable and answerable based on the details provided.\", 'verdict': 1}\n",
      "[ragas.testset.filters.DEBUG] filtered question: {'feedback': \"The question is in Korean and asks for the reason to install the '파이썬 extension' (Python extension). It is clear in its intent, seeking an explanation or justification for installing a Python extension. The question is independent and does not rely on external references or context, making it understandable and answerable based on the details provided.\", 'verdict': 1}\n",
      "[ragas.testset.evolutions.DEBUG] [ReasoningEvolution] simple question generated: \\ud30c\\uc774\\uc36c extension\\uc744 \\uc124\\uce58\\ud558\\ub294 \\uc774\\uc720\\ub294 \\ubb34\\uc5c7\\uc778\\uac00?\n",
      "Failed to multipart ingest runs: langsmith.utils.LangSmithRateLimitError: Rate limit exceeded for https://api.smith.langchain.com/runs/multipart. HTTPError('429 Client Error: Too Many Requests for url: https://api.smith.langchain.com/runs/multipart', '{\"detail\":\"Monthly unique traces usage limit exceeded\"}')trace=076184d7-1dc3-4547-9047-0f0a23dfa01d,id=076184d7-1dc3-4547-9047-0f0a23dfa01d; trace=84ad7984-b4ab-492c-aafc-ec5e1f98d4d1,id=84ad7984-b4ab-492c-aafc-ec5e1f98d4d1; trace=1d7b9992-e281-4b10-9402-a4eac0df2ad3,id=1d7b9992-e281-4b10-9402-a4eac0df2ad3; trace=3a6b5e13-26cd-4e78-81b5-0a4616790da2,id=3a6b5e13-26cd-4e78-81b5-0a4616790da2; trace=a59972ab-f376-42a9-8e48-7f29948684ec,id=a59972ab-f376-42a9-8e48-7f29948684ec; trace=4d2136cd-d74d-4334-9092-4d8365e94e03,id=4d2136cd-d74d-4334-9092-4d8365e94e03\n",
      "[ragas.testset.evolutions.INFO] seed question generated: \"\\ud30c\\uc774\\uc36c\\uc744 \\uc0ac\\uc6a9\\ud558\\uba74 \\ud504\\ub85c\\uadf8\\ub798\\ubc0d \\uac1c\\ubc1c\\uc5d0 \\uc5b4\\ub5a4 \\ucd94\\uac00 \\uac00\\uce58\\uac00 \\uc788\\ub294\\uac00?\"\n",
      "[ragas.testset.evolutions.INFO] rewritten question: \"In what ways has the user base of Python expanded among developers and companies, and how has the recognition of its value been demonstrated through industry adoption and community growth?\"\n",
      "[ragas.testset.evolutions.DEBUG] answer generated: {'answer': 'C and C++ programming can be utilized in projects involving Raspberry Pi and the Internet of Things by using Python to control devices connected to a Raspberry Pi, such as making a motor run or turning on an LED.', 'verdict': 1}\n",
      "Generating:  10%|█         | 1/10 [00:06<00:59,  6.60s/it][ragas.testset.filters.DEBUG] filtered question: {'feedback': \"The question asks for an explanation of how Python's simple grammar contributes to its ease of learning and use compared to other complex programming languages. It is clear in its intent, specifying the aspect of Python (simple grammar) and the comparison to other languages. The question is independent and does not rely on external references or unspecified contexts, making it understandable and answerable with sufficient domain knowledge about programming languages and their syntax. To further enhance clarity, the question could specify which 'complex languages' it is referring to, although this is not strictly necessary for a general comparison.\", 'verdict': 1}\n",
      "[ragas.testset.evolutions.DEBUG] [ReasoningEvolution] simple question generated: How does Python's simple grammar make it easier to learn and use compared to other complex languages?\n",
      "Failed to multipart ingest runs: langsmith.utils.LangSmithRateLimitError: Rate limit exceeded for https://api.smith.langchain.com/runs/multipart. HTTPError('429 Client Error: Too Many Requests for url: https://api.smith.langchain.com/runs/multipart', '{\"detail\":\"Monthly unique traces usage limit exceeded\"}')trace=1d15e03c-c013-4bb9-8b1e-b1becefcc7f1,id=1d15e03c-c013-4bb9-8b1e-b1becefcc7f1; trace=6dd55ab6-32ac-4945-846d-3238a32bd916,id=6dd55ab6-32ac-4945-846d-3238a32bd916; trace=d6569cae-35ee-4750-a356-635801f3f823,id=d6569cae-35ee-4750-a356-635801f3f823; trace=d42a82c6-377d-44eb-bc7a-662ba3df5c8f,id=d42a82c6-377d-44eb-bc7a-662ba3df5c8f; trace=dc0bf63e-dc46-4bd8-afcd-dbbd884f7b8e,id=dc0bf63e-dc46-4bd8-afcd-dbbd884f7b8e; trace=5d179736-cc03-40a9-aba8-fe09f5fdaac5,id=5d179736-cc03-40a9-aba8-fe09f5fdaac5\n",
      "[ragas.testset.evolutions.DEBUG] answer generated: {'answer': \"To execute a program using the 'Run Module' option in IDLE, first, select [Run → Run Module] from the IDLE editor menu or use the shortcut key F5. When you execute the program, a dialog box appears prompting you to save the file first. After selecting [Save As] and naming the file, such as 'hello.py', the program is executed.\", 'verdict': 1}\n",
      "Generating:  20%|██        | 2/10 [00:06<00:22,  2.85s/it]Failed to multipart ingest runs: langsmith.utils.LangSmithRateLimitError: Rate limit exceeded for https://api.smith.langchain.com/runs/multipart. HTTPError('429 Client Error: Too Many Requests for url: https://api.smith.langchain.com/runs/multipart', '{\"detail\":\"Monthly unique traces usage limit exceeded\"}')trace=44aeec6a-9ec7-4609-a5a8-7f26966848aa,id=44aeec6a-9ec7-4609-a5a8-7f26966848aa; trace=ca6810cd-a70c-4c6e-a7f5-a6ac41901368,id=ca6810cd-a70c-4c6e-a7f5-a6ac41901368; trace=f658984b-cd50-4b94-964a-252b9289bd29,id=f658984b-cd50-4b94-964a-252b9289bd29; trace=323209e3-c61e-4e42-b0d0-49208296eae8,id=323209e3-c61e-4e42-b0d0-49208296eae8; trace=429c82d9-0f3c-493f-978e-68f37de2e5fc,id=429c82d9-0f3c-493f-978e-68f37de2e5fc; trace=076184d7-1dc3-4547-9047-0f0a23dfa01d,id=076184d7-1dc3-4547-9047-0f0a23dfa01d; trace=84ad7984-b4ab-492c-aafc-ec5e1f98d4d1,id=84ad7984-b4ab-492c-aafc-ec5e1f98d4d1\n",
      "[ragas.testset.filters.DEBUG] filtered question: {'feedback': 'The question is clear and specific, asking about the role of annotations in Python scripts in aiding code comprehension, particularly in the contexts of using IDLE and command prompt environments. It specifies the focus on annotations, which are known to be ignored during execution, and seeks to understand their utility in code understanding. The question is independent and does not rely on external references or unspecified contexts, making it understandable and answerable based on the details provided.', 'verdict': 1}\n",
      "Failed to multipart ingest runs: langsmith.utils.LangSmithRateLimitError: Rate limit exceeded for https://api.smith.langchain.com/runs/multipart. HTTPError('429 Client Error: Too Many Requests for url: https://api.smith.langchain.com/runs/multipart', '{\"detail\":\"Monthly unique traces usage limit exceeded\"}')trace=7de6cb38-396b-422b-b300-643f59e2b139,id=7de6cb38-396b-422b-b300-643f59e2b139; trace=143ca872-ce79-43de-951b-599f3a871f9b,id=143ca872-ce79-43de-951b-599f3a871f9b; trace=d6569cae-35ee-4750-a356-635801f3f823,id=d6569cae-35ee-4750-a356-635801f3f823\n",
      "[ragas.testset.filters.DEBUG] filtered question: {'feedback': 'The question is clear and specific, asking for alternative methods to execute a Python program if the IDLE editor is unavailable. It does not rely on external references or context, making it independent and self-contained. The intent is straightforward, seeking information on other ways to run Python code.', 'verdict': 1}\n",
      "[ragas.testset.evolutions.DEBUG] [MultiContextEvolution] multicontext question compressed: \"How do Python annotations help in code clarity in IDLE and cmd?\"\n",
      "Failed to multipart ingest runs: langsmith.utils.LangSmithRateLimitError: Rate limit exceeded for https://api.smith.langchain.com/runs/multipart. HTTPError('429 Client Error: Too Many Requests for url: https://api.smith.langchain.com/runs/multipart', '{\"detail\":\"Monthly unique traces usage limit exceeded\"}')trace=821ab305-1849-40ee-8085-7b8f69d01f2e,id=821ab305-1849-40ee-8085-7b8f69d01f2e; trace=16ac5286-20f6-48b7-b67d-1ecad40e3fe8,id=16ac5286-20f6-48b7-b67d-1ecad40e3fe8; trace=f1d8e00b-24a0-4f80-9519-93c8264fda26,id=f1d8e00b-24a0-4f80-9519-93c8264fda26; trace=35cf7443-dbe9-421f-9d93-17636631d0b8,id=35cf7443-dbe9-421f-9d93-17636631d0b8; trace=5738332d-dd62-4f0e-b05a-5de8bb833e97,id=5738332d-dd62-4f0e-b05a-5de8bb833e97; trace=1d7b9992-e281-4b10-9402-a4eac0df2ad3,id=1d7b9992-e281-4b10-9402-a4eac0df2ad3; trace=f658984b-cd50-4b94-964a-252b9289bd29,id=f658984b-cd50-4b94-964a-252b9289bd29; trace=6dd55ab6-32ac-4945-846d-3238a32bd916,id=6dd55ab6-32ac-4945-846d-3238a32bd916\n",
      "[ragas.testset.evolutions.DEBUG] [ConditionalEvolution] question compressed: \"If IDLE editor is unavailable, how else can a Python program be executed?\"\n",
      "[ragas.testset.filters.DEBUG] filtered question: {'feedback': 'The question is in Korean and asks about the additional value that can be gained from using Python in programming development. It is clear in its intent, seeking information on the benefits or advantages of using Python in the context of programming. The question is independent and does not rely on external references or context, making it understandable and answerable based on the details provided.', 'verdict': 1}\n",
      "Failed to multipart ingest runs: langsmith.utils.LangSmithRateLimitError: Rate limit exceeded for https://api.smith.langchain.com/runs/multipart. HTTPError('429 Client Error: Too Many Requests for url: https://api.smith.langchain.com/runs/multipart', '{\"detail\":\"Monthly unique traces usage limit exceeded\"}')trace=d6cd8dff-bc73-40a1-aa44-234f635f3acb,id=d6cd8dff-bc73-40a1-aa44-234f635f3acb; trace=76482397-8a68-4687-ac6b-b126f64b9782,id=76482397-8a68-4687-ac6b-b126f64b9782; trace=1d15e03c-c013-4bb9-8b1e-b1becefcc7f1,id=1d15e03c-c013-4bb9-8b1e-b1becefcc7f1; trace=821ab305-1849-40ee-8085-7b8f69d01f2e,id=821ab305-1849-40ee-8085-7b8f69d01f2e\n",
      "[ragas.testset.evolutions.DEBUG] answer generated: {'answer': 'Python is utilized in the field of the Internet of Things (IoT) for various applications, such as controlling motors connected to a Raspberry Pi or turning on LEDs. It is used to create interesting projects when working with devices like the Raspberry Pi, which is a very small computer based on Linux.', 'verdict': 1}\n",
      "Generating:  30%|███       | 3/10 [00:08<00:16,  2.38s/it][ragas.testset.filters.DEBUG] filtered question: {'feedback': \"The question is clear in its intent, asking about the expansion of Python's user base among developers and companies, and how its value is recognized through industry adoption and community growth. It specifies the areas of interest (user base expansion, industry adoption, community growth) and seeks information on the ways these have occurred. The question is independent and does not rely on external references or unspecified contexts, making it understandable and answerable with sufficient domain knowledge about Python's development and adoption trends.\", 'verdict': 1}\n",
      "[ragas.testset.evolutions.DEBUG] [MultiContextEvolution] simple question generated: \"In what ways has the user base of Python expanded among developers and companies, and how has the recognition of its value been demonstrated through industry adoption and community growth?\"\n",
      "Failed to multipart ingest runs: langsmith.utils.LangSmithRateLimitError: Rate limit exceeded for https://api.smith.langchain.com/runs/multipart. HTTPError('429 Client Error: Too Many Requests for url: https://api.smith.langchain.com/runs/multipart', '{\"detail\":\"Monthly unique traces usage limit exceeded\"}')trace=714c9d68-481d-44cf-8048-04d86c465457,id=714c9d68-481d-44cf-8048-04d86c465457; trace=25ae4bf8-39e0-4bbb-a17b-cb78f02020a3,id=25ae4bf8-39e0-4bbb-a17b-cb78f02020a3; trace=44aeec6a-9ec7-4609-a5a8-7f26966848aa,id=44aeec6a-9ec7-4609-a5a8-7f26966848aa; trace=d6cd8dff-bc73-40a1-aa44-234f635f3acb,id=d6cd8dff-bc73-40a1-aa44-234f635f3acb\n",
      "[ragas.testset.evolutions.DEBUG] answer generated: {'answer': \"To execute a program using the 'Run Module' option in IDLE, first open the IDLE editor window and write your Python program. Then, go to the menu and select [Run → Run Module] or press the shortcut key F5. If the file is not saved, a dialog will prompt you to save it. After saving, the program will execute, and the results will be displayed in the IDLE shell window.\", 'verdict': 1}\n",
      "Generating:  40%|████      | 4/10 [00:09<00:09,  1.64s/it]Failed to multipart ingest runs: langsmith.utils.LangSmithRateLimitError: Rate limit exceeded for https://api.smith.langchain.com/runs/multipart. HTTPError('429 Client Error: Too Many Requests for url: https://api.smith.langchain.com/runs/multipart', '{\"detail\":\"Monthly unique traces usage limit exceeded\"}')trace=815e698c-8110-4bb2-b9e2-6a2ffbf6ae41,id=815e698c-8110-4bb2-b9e2-6a2ffbf6ae41; trace=ca6810cd-a70c-4c6e-a7f5-a6ac41901368,id=ca6810cd-a70c-4c6e-a7f5-a6ac41901368; trace=16ac5286-20f6-48b7-b67d-1ecad40e3fe8,id=16ac5286-20f6-48b7-b67d-1ecad40e3fe8\n",
      "[ragas.testset.filters.DEBUG] filtered question: {'feedback': \"The question asks why a Py extension needs to be installed before using Py in Visual Studio. It is clear in its intent, seeking an explanation for the necessity of installing a specific extension. However, it could be improved by specifying what 'Py' refers to, as it could mean Python or another tool related to Py. Additionally, mentioning the specific version of Visual Studio could help provide a more precise answer. Overall, the question is mostly clear but could benefit from slight elaboration for complete clarity.\", 'verdict': 1}\n",
      "Failed to multipart ingest runs: langsmith.utils.LangSmithRateLimitError: Rate limit exceeded for https://api.smith.langchain.com/runs/multipart. HTTPError('429 Client Error: Too Many Requests for url: https://api.smith.langchain.com/runs/multipart', '{\"detail\":\"Monthly unique traces usage limit exceeded\"}')trace=35cf7443-dbe9-421f-9d93-17636631d0b8,id=35cf7443-dbe9-421f-9d93-17636631d0b8\n",
      "[ragas.testset.filters.DEBUG] evolution filter: {'reason': 'The first question specifically asks about executing a Python program using the IDLE editor, while the second question is about running Python without IDLE, indicating different constraints and requirements.', 'verdict': 0}\n",
      "[ragas.testset.filters.DEBUG] evolution filter: {'reason': 'The first question asks about the purpose of comments in Python, which is related to code documentation and understanding. The second question is about Python annotations, which are used for type hints and can aid in code clarity. These are different concepts with different purposes and depths of inquiry.', 'verdict': 0}\n",
      "[ragas.testset.evolutions.DEBUG] [MultiContextEvolution] multicontext question generated: How has Python's unique appeal influenced its integration into major tech companies and contributed to its widespread community adoption?\n",
      "[ragas.testset.evolutions.DEBUG] [ReasoningEvolution] question compressed: \"Why install Py extension before using Py in V. Studio?\"\n",
      "[ragas.testset.filters.DEBUG] filtered question: {'feedback': 'The question asks about aspects of Python that facilitate rapid learning and align with human thought processes. It is clear in its intent, seeking specific features or characteristics of the Python programming language that contribute to ease of learning and cognitive alignment. The question is independent and does not rely on external references or context, making it understandable and answerable based on general knowledge of Python. However, to enhance clarity, the question could specify whether it is referring to syntax, libraries, or community support, which are common aspects that might aid learning.', 'verdict': 1}\n",
      "Failed to multipart ingest runs: langsmith.utils.LangSmithRateLimitError: Rate limit exceeded for https://api.smith.langchain.com/runs/multipart. HTTPError('429 Client Error: Too Many Requests for url: https://api.smith.langchain.com/runs/multipart', '{\"detail\":\"Monthly unique traces usage limit exceeded\"}')trace=358ddddb-4639-48e6-bb85-ef884b438cc9,id=358ddddb-4639-48e6-bb85-ef884b438cc9; trace=27956ba3-aa90-4270-8b7a-3bf3736f07c4,id=27956ba3-aa90-4270-8b7a-3bf3736f07c4; trace=b51bc277-22ed-48fd-a8dd-5106922d3e43,id=b51bc277-22ed-48fd-a8dd-5106922d3e43; trace=2966a3f4-b333-4083-9151-bfe6b63637a6,id=2966a3f4-b333-4083-9151-bfe6b63637a6; trace=7de6cb38-396b-422b-b300-643f59e2b139,id=7de6cb38-396b-422b-b300-643f59e2b139; trace=714c9d68-481d-44cf-8048-04d86c465457,id=714c9d68-481d-44cf-8048-04d86c465457; trace=76482397-8a68-4687-ac6b-b126f64b9782,id=76482397-8a68-4687-ac6b-b126f64b9782; trace=815e698c-8110-4bb2-b9e2-6a2ffbf6ae41,id=815e698c-8110-4bb2-b9e2-6a2ffbf6ae41\n",
      "[ragas.testset.evolutions.DEBUG] [ReasoningEvolution] question compressed: What aspect of Python aids rapid learning and aligns with human thought?\n",
      "Failed to multipart ingest runs: langsmith.utils.LangSmithRateLimitError: Rate limit exceeded for https://api.smith.langchain.com/runs/multipart. HTTPError('429 Client Error: Too Many Requests for url: https://api.smith.langchain.com/runs/multipart', '{\"detail\":\"Monthly unique traces usage limit exceeded\"}')trace=974e479d-b271-4dce-b5d5-aafddc5efb40,id=974e479d-b271-4dce-b5d5-aafddc5efb40; trace=c2ccaecc-f62a-448e-983c-6c47b21e18f4,id=c2ccaecc-f62a-448e-983c-6c47b21e18f4; trace=27f9986f-d8ab-49d7-ade0-8ba3c3b516d0,id=27f9986f-d8ab-49d7-ade0-8ba3c3b516d0; trace=f1d8e00b-24a0-4f80-9519-93c8264fda26,id=f1d8e00b-24a0-4f80-9519-93c8264fda26; trace=25ae4bf8-39e0-4bbb-a17b-cb78f02020a3,id=25ae4bf8-39e0-4bbb-a17b-cb78f02020a3; trace=358ddddb-4639-48e6-bb85-ef884b438cc9,id=358ddddb-4639-48e6-bb85-ef884b438cc9\n",
      "[ragas.testset.evolutions.DEBUG] answer generated: {'answer': 'Python is widely used in many IT companies, including Google, Instagram, Netflix, and Amazon, due to its ease of collaboration, maintenance, and the ability to rewrite programs initially written in other languages into Python.', 'verdict': 1}\n",
      "Generating:  50%|█████     | 5/10 [00:11<00:08,  1.77s/it][ragas.testset.filters.DEBUG] evolution filter: {'reason': 'The first question asks for reasons to install a Python extension, while the second question asks why to add a Python extension before using Python in Visual Studio. Both questions are related to Python extensions but have different contexts and constraints.', 'verdict': 0}\n",
      "Failed to multipart ingest runs: langsmith.utils.LangSmithRateLimitError: Rate limit exceeded for https://api.smith.langchain.com/runs/multipart. HTTPError('429 Client Error: Too Many Requests for url: https://api.smith.langchain.com/runs/multipart', '{\"detail\":\"Monthly unique traces usage limit exceeded\"}')trace=92ea6593-7b1f-4c32-8632-9443bc1876c1,id=92ea6593-7b1f-4c32-8632-9443bc1876c1; trace=169f4443-c011-4eec-8ef4-24148b94dc6b,id=169f4443-c011-4eec-8ef4-24148b94dc6b; trace=27956ba3-aa90-4270-8b7a-3bf3736f07c4,id=27956ba3-aa90-4270-8b7a-3bf3736f07c4; trace=974e479d-b271-4dce-b5d5-aafddc5efb40,id=974e479d-b271-4dce-b5d5-aafddc5efb40; trace=27f9986f-d8ab-49d7-ade0-8ba3c3b516d0,id=27f9986f-d8ab-49d7-ade0-8ba3c3b516d0\n",
      "[ragas.testset.filters.DEBUG] filtered question: {'feedback': \"The question is clear in its intent, asking about the influence of Python's unique appeal on its integration into major tech companies and its widespread community adoption. It specifies the aspects of interest (integration into tech companies and community adoption) and seeks to understand the impact of Python's appeal. The question is independent and does not rely on external references or unspecified contexts, making it understandable and answerable with sufficient domain knowledge about Python's characteristics and its role in the tech industry.\", 'verdict': 1}\n",
      "Failed to multipart ingest runs: langsmith.utils.LangSmithRateLimitError: Rate limit exceeded for https://api.smith.langchain.com/runs/multipart. HTTPError('429 Client Error: Too Many Requests for url: https://api.smith.langchain.com/runs/multipart', '{\"detail\":\"Monthly unique traces usage limit exceeded\"}')trace=c59f3b51-d761-4f1f-89ed-af177e57e7fd,id=c59f3b51-d761-4f1f-89ed-af177e57e7fd; trace=c2ccaecc-f62a-448e-983c-6c47b21e18f4,id=c2ccaecc-f62a-448e-983c-6c47b21e18f4\n",
      "[ragas.testset.filters.DEBUG] evolution filter: {'reason': \"The first question specifically focuses on Python's simple grammar and its comparison to other complex languages, while the second question is broader, asking about aspects of Python that aid quick learning and align with human thought, without specifying grammar or comparison to other languages.\", 'verdict': 0}\n",
      "[ragas.testset.evolutions.DEBUG] [MultiContextEvolution] multicontext question compressed: \"How has Python's appeal shaped its role in tech firms and community growth?\"\n",
      "Failed to multipart ingest runs: langsmith.utils.LangSmithRateLimitError: Rate limit exceeded for https://api.smith.langchain.com/runs/multipart. HTTPError('429 Client Error: Too Many Requests for url: https://api.smith.langchain.com/runs/multipart', '{\"detail\":\"Monthly unique traces usage limit exceeded\"}')trace=e56573e6-1cef-4860-8881-f2dd46a6743e,id=e56573e6-1cef-4860-8881-f2dd46a6743e; trace=0377031a-fbba-47de-8c22-c0bf5ae12d75,id=0377031a-fbba-47de-8c22-c0bf5ae12d75; trace=2966a3f4-b333-4083-9151-bfe6b63637a6,id=2966a3f4-b333-4083-9151-bfe6b63637a6; trace=c59f3b51-d761-4f1f-89ed-af177e57e7fd,id=c59f3b51-d761-4f1f-89ed-af177e57e7fd\n",
      "[ragas.testset.evolutions.DEBUG] answer generated: {'answer': \"To run a Python program if IDLE isn't available, you can use the command prompt. Open the command prompt and execute the Python file by navigating to its directory and typing the command to run the file.\", 'verdict': 1}\n",
      "Generating:  60%|██████    | 6/10 [00:12<00:07,  1.75s/it][ragas.testset.evolutions.DEBUG] answer generated: {'answer': 'The first thing you need to do to use Python in Visual Studio is to install the Python extension. The Python extension can be installed from the [Extensions] menu in Visual Studio Code.', 'verdict': 1}\n",
      "Generating:  70%|███████   | 7/10 [00:13<00:03,  1.30s/it]Failed to multipart ingest runs: langsmith.utils.LangSmithRateLimitError: Rate limit exceeded for https://api.smith.langchain.com/runs/multipart. HTTPError('429 Client Error: Too Many Requests for url: https://api.smith.langchain.com/runs/multipart', '{\"detail\":\"Monthly unique traces usage limit exceeded\"}')trace=6f7caf39-e161-44bf-944d-5548b09f4439,id=6f7caf39-e161-44bf-944d-5548b09f4439; trace=5caadeab-5366-48a4-ba01-ad11b844ede5,id=5caadeab-5366-48a4-ba01-ad11b844ede5; trace=92ea6593-7b1f-4c32-8632-9443bc1876c1,id=92ea6593-7b1f-4c32-8632-9443bc1876c1; trace=e56573e6-1cef-4860-8881-f2dd46a6743e,id=e56573e6-1cef-4860-8881-f2dd46a6743e; trace=169f4443-c011-4eec-8ef4-24148b94dc6b,id=169f4443-c011-4eec-8ef4-24148b94dc6b\n",
      "Failed to multipart ingest runs: langsmith.utils.LangSmithRateLimitError: Rate limit exceeded for https://api.smith.langchain.com/runs/multipart. HTTPError('429 Client Error: Too Many Requests for url: https://api.smith.langchain.com/runs/multipart', '{\"detail\":\"Monthly unique traces usage limit exceeded\"}')trace=0377031a-fbba-47de-8c22-c0bf5ae12d75,id=0377031a-fbba-47de-8c22-c0bf5ae12d75\n",
      "Failed to multipart ingest runs: langsmith.utils.LangSmithRateLimitError: Rate limit exceeded for https://api.smith.langchain.com/runs/multipart. HTTPError('429 Client Error: Too Many Requests for url: https://api.smith.langchain.com/runs/multipart', '{\"detail\":\"Monthly unique traces usage limit exceeded\"}')trace=12bd5d15-8f31-4698-963f-f39562aa4d78,id=12bd5d15-8f31-4698-963f-f39562aa4d78; trace=b51bc277-22ed-48fd-a8dd-5106922d3e43,id=b51bc277-22ed-48fd-a8dd-5106922d3e43\n",
      "[ragas.testset.evolutions.DEBUG] answer generated: {'answer': 'The answer to given question is not present in context', 'verdict': -1}\n",
      "Generating:  80%|████████  | 8/10 [00:14<00:02,  1.25s/it]Failed to multipart ingest runs: langsmith.utils.LangSmithRateLimitError: Rate limit exceeded for https://api.smith.langchain.com/runs/multipart. HTTPError('429 Client Error: Too Many Requests for url: https://api.smith.langchain.com/runs/multipart', '{\"detail\":\"Monthly unique traces usage limit exceeded\"}')trace=e6581a6e-f969-46ef-9dce-4776c49419eb,id=e6581a6e-f969-46ef-9dce-4776c49419eb; trace=6f7caf39-e161-44bf-944d-5548b09f4439,id=6f7caf39-e161-44bf-944d-5548b09f4439\n",
      "[ragas.testset.filters.DEBUG] evolution filter: {'reason': \"The first question asks about the expansion of Python's user base, industry adoption, and community growth, requiring a detailed exploration of these aspects. The second question focuses on Python's appeal and its role in tech firms and community growth, which is broader and less specific about user base expansion and industry recognition.\", 'verdict': 0}\n",
      "Failed to multipart ingest runs: langsmith.utils.LangSmithRateLimitError: Rate limit exceeded for https://api.smith.langchain.com/runs/multipart. HTTPError('429 Client Error: Too Many Requests for url: https://api.smith.langchain.com/runs/multipart', '{\"detail\":\"Monthly unique traces usage limit exceeded\"}')trace=12bd5d15-8f31-4698-963f-f39562aa4d78,id=12bd5d15-8f31-4698-963f-f39562aa4d78\n",
      "[ragas.testset.evolutions.DEBUG] answer generated: {'answer': 'Python is a human-friendly language with simple syntax that can be learned quickly. It allows people to express their thoughts directly, making it easy to use and understand.', 'verdict': 1}\n",
      "Generating:  90%|█████████ | 9/10 [00:15<00:01,  1.09s/it]Failed to multipart ingest runs: langsmith.utils.LangSmithRateLimitError: Rate limit exceeded for https://api.smith.langchain.com/runs/multipart. HTTPError('429 Client Error: Too Many Requests for url: https://api.smith.langchain.com/runs/multipart', '{\"detail\":\"Monthly unique traces usage limit exceeded\"}')trace=31ebcd61-29df-4af7-ba53-d8c5e58b26eb,id=31ebcd61-29df-4af7-ba53-d8c5e58b26eb; trace=5caadeab-5366-48a4-ba01-ad11b844ede5,id=5caadeab-5366-48a4-ba01-ad11b844ede5\n",
      "Failed to multipart ingest runs: langsmith.utils.LangSmithRateLimitError: Rate limit exceeded for https://api.smith.langchain.com/runs/multipart. HTTPError('429 Client Error: Too Many Requests for url: https://api.smith.langchain.com/runs/multipart', '{\"detail\":\"Monthly unique traces usage limit exceeded\"}')trace=e6581a6e-f969-46ef-9dce-4776c49419eb,id=e6581a6e-f969-46ef-9dce-4776c49419eb\n",
      "Failed to multipart ingest runs: langsmith.utils.LangSmithRateLimitError: Rate limit exceeded for https://api.smith.langchain.com/runs/multipart. HTTPError('429 Client Error: Too Many Requests for url: https://api.smith.langchain.com/runs/multipart', '{\"detail\":\"Monthly unique traces usage limit exceeded\"}')trace=a8b15f36-dd3b-4f57-b48f-51fd6801a5e1,id=a8b15f36-dd3b-4f57-b48f-51fd6801a5e1; trace=31ebcd61-29df-4af7-ba53-d8c5e58b26eb,id=31ebcd61-29df-4af7-ba53-d8c5e58b26eb\n",
      "[ragas.testset.evolutions.DEBUG] answer generated: {'answer': 'Python is widely used in tech firms due to its ease of collaboration and maintenance, making it a preferred choice for many IT companies like Google, Instagram, Netflix, and Amazon. Its appeal has led to a growing user base and the redevelopment of many programs originally written in other languages into Python.', 'verdict': 1}\n",
      "Generating: 100%|██████████| 10/10 [00:17<00:00,  1.78s/it]\n",
      "Failed to multipart ingest runs: langsmith.utils.LangSmithRateLimitError: Rate limit exceeded for https://api.smith.langchain.com/runs/multipart. HTTPError('429 Client Error: Too Many Requests for url: https://api.smith.langchain.com/runs/multipart', '{\"detail\":\"Monthly unique traces usage limit exceeded\"}')trace=a8b15f36-dd3b-4f57-b48f-51fd6801a5e1,id=a8b15f36-dd3b-4f57-b48f-51fd6801a5e1\n"
     ]
    }
   ],
   "source": [
    "testset = generator.generate_with_langchain_docs(\n",
    "    documents = docs,\n",
    "    test_size = 10,\n",
    "    distributions = distributions,\n",
    "    with_debugging_logs = True,\n",
    "    # 로그 활성화\n",
    "    raise_exceptions= False\n",
    "    # 예외가 발생해도 계속 진행, 예외 발생 시 문서가 처리 되지 않거나 문서에 기록됨\n",
    ")"
   ]
  },
  {
   "cell_type": "code",
   "execution_count": 25,
   "metadata": {},
   "outputs": [
    {
     "data": {
      "text/html": [
       "<div>\n",
       "<style scoped>\n",
       "    .dataframe tbody tr th:only-of-type {\n",
       "        vertical-align: middle;\n",
       "    }\n",
       "\n",
       "    .dataframe tbody tr th {\n",
       "        vertical-align: top;\n",
       "    }\n",
       "\n",
       "    .dataframe thead th {\n",
       "        text-align: right;\n",
       "    }\n",
       "</style>\n",
       "<table border=\"1\" class=\"dataframe\">\n",
       "  <thead>\n",
       "    <tr style=\"text-align: right;\">\n",
       "      <th></th>\n",
       "      <th>question</th>\n",
       "      <th>contexts</th>\n",
       "      <th>ground_truth</th>\n",
       "      <th>evolution_type</th>\n",
       "      <th>metadata</th>\n",
       "      <th>episode_done</th>\n",
       "    </tr>\n",
       "  </thead>\n",
       "  <tbody>\n",
       "    <tr>\n",
       "      <th>0</th>\n",
       "      <td>What steps are involved in executing a program...</td>\n",
       "      <td>[IDLE 셸은 IDLE 에디터에서 실행한 프로그램의 결과가 표시되는 창으로, 앞에...</td>\n",
       "      <td>To execute a program using the 'Run Module' op...</td>\n",
       "      <td>simple</td>\n",
       "      <td>[{'source': './data/converted_data_test_with_m...</td>\n",
       "      <td>True</td>\n",
       "    </tr>\n",
       "    <tr>\n",
       "      <th>1</th>\n",
       "      <td>\\ud30c\\uc774\\uc36c\\uc744 \\uc0ac\\uc6a9\\ud558\\ub...</td>\n",
       "      <td>[1장\\n01장 파이썬이란 무엇인가?\\n필자는 파이썬의 프롬프트(&gt;&gt;&gt;)를 처음 본...</td>\n",
       "      <td>Python is widely used in many IT companies, in...</td>\n",
       "      <td>simple</td>\n",
       "      <td>[{'source': './data/converted_data_test_with_m...</td>\n",
       "      <td>True</td>\n",
       "    </tr>\n",
       "    <tr>\n",
       "      <th>2</th>\n",
       "      <td>How can C and C++ programming be utilized in p...</td>\n",
       "      <td>[있기 때문이다. C나 C++로 만든 프로그램을 파이썬에서 사용할 수 있고 파이썬으...</td>\n",
       "      <td>C and C++ programming can be utilized in proje...</td>\n",
       "      <td>simple</td>\n",
       "      <td>[{'source': './data/converted_data_test_with_m...</td>\n",
       "      <td>True</td>\n",
       "    </tr>\n",
       "    <tr>\n",
       "      <th>3</th>\n",
       "      <td>How is Python utilized in the field of the Int...</td>\n",
       "      <td>[있기 때문이다. C나 C++로 만든 프로그램을 파이썬에서 사용할 수 있고 파이썬으...</td>\n",
       "      <td>Python is utilized in the field of the Interne...</td>\n",
       "      <td>simple</td>\n",
       "      <td>[{'source': './data/converted_data_test_with_m...</td>\n",
       "      <td>True</td>\n",
       "    </tr>\n",
       "    <tr>\n",
       "      <th>4</th>\n",
       "      <td>What steps are involved in executing a program...</td>\n",
       "      <td>[IDLE 셸은 IDLE 에디터에서 실행한 프로그램의 결과가 표시되는 창으로, 앞에...</td>\n",
       "      <td>To execute a program using the 'Run Module' op...</td>\n",
       "      <td>simple</td>\n",
       "      <td>[{'source': './data/converted_data_test_with_m...</td>\n",
       "      <td>True</td>\n",
       "    </tr>\n",
       "    <tr>\n",
       "      <th>5</th>\n",
       "      <td>Why add Py ext. before using Py in V. Studio?</td>\n",
       "      <td>[운로드 사이트에서 내려받을 수 있다.\\n비주얼 스튜디오 코드는 파이썬 전용 에디터...</td>\n",
       "      <td>The first thing you need to do to use Python i...</td>\n",
       "      <td>reasoning</td>\n",
       "      <td>[{'source': './data/converted_data_test_with_m...</td>\n",
       "      <td>True</td>\n",
       "    </tr>\n",
       "    <tr>\n",
       "      <th>6</th>\n",
       "      <td>What in Python helps quick learning and aligns...</td>\n",
       "      <td>[• 파이썬은 인간다운 언어이다\\n• 문법이 쉬워 빠르게 배울 수 있다\\n• 무료이...</td>\n",
       "      <td>Python is a human-friendly language with simpl...</td>\n",
       "      <td>reasoning</td>\n",
       "      <td>[{'source': './data/converted_data_test_with_m...</td>\n",
       "      <td>True</td>\n",
       "    </tr>\n",
       "    <tr>\n",
       "      <th>7</th>\n",
       "      <td>How has Python's appeal shaped its role in tec...</td>\n",
       "      <td>[1장\\n01장 파이썬이란 무엇인가?\\n필자는 파이썬의 프롬프트(&gt;&gt;&gt;)를 처음 본...</td>\n",
       "      <td>Python is widely used in tech firms due to its...</td>\n",
       "      <td>multi_context</td>\n",
       "      <td>[{'source': './data/converted_data_test_with_m...</td>\n",
       "      <td>True</td>\n",
       "    </tr>\n",
       "    <tr>\n",
       "      <th>8</th>\n",
       "      <td>How do Python annotations help in code clarity...</td>\n",
       "      <td>[IDLE 셸은 IDLE 에디터에서 실행한 프로그램의 결과가 표시되는 창으로, 앞에...</td>\n",
       "      <td>The answer to given question is not present in...</td>\n",
       "      <td>multi_context</td>\n",
       "      <td>[{'source': './data/converted_data_test_with_m...</td>\n",
       "      <td>True</td>\n",
       "    </tr>\n",
       "    <tr>\n",
       "      <th>9</th>\n",
       "      <td>How to run Python if IDLE isn't available?</td>\n",
       "      <td>[상 .py로 해야 한다. .py는 파이썬 파일이라는 것을 알려 주는 확장자이다.\\...</td>\n",
       "      <td>To run a Python program if IDLE isn't availabl...</td>\n",
       "      <td>conditional</td>\n",
       "      <td>[{'source': './data/converted_data_test_with_m...</td>\n",
       "      <td>True</td>\n",
       "    </tr>\n",
       "  </tbody>\n",
       "</table>\n",
       "</div>"
      ],
      "text/plain": [
       "                                            question  \\\n",
       "0  What steps are involved in executing a program...   \n",
       "1  \\ud30c\\uc774\\uc36c\\uc744 \\uc0ac\\uc6a9\\ud558\\ub...   \n",
       "2  How can C and C++ programming be utilized in p...   \n",
       "3  How is Python utilized in the field of the Int...   \n",
       "4  What steps are involved in executing a program...   \n",
       "5      Why add Py ext. before using Py in V. Studio?   \n",
       "6  What in Python helps quick learning and aligns...   \n",
       "7  How has Python's appeal shaped its role in tec...   \n",
       "8  How do Python annotations help in code clarity...   \n",
       "9         How to run Python if IDLE isn't available?   \n",
       "\n",
       "                                            contexts  \\\n",
       "0  [IDLE 셸은 IDLE 에디터에서 실행한 프로그램의 결과가 표시되는 창으로, 앞에...   \n",
       "1  [1장\\n01장 파이썬이란 무엇인가?\\n필자는 파이썬의 프롬프트(>>>)를 처음 본...   \n",
       "2  [있기 때문이다. C나 C++로 만든 프로그램을 파이썬에서 사용할 수 있고 파이썬으...   \n",
       "3  [있기 때문이다. C나 C++로 만든 프로그램을 파이썬에서 사용할 수 있고 파이썬으...   \n",
       "4  [IDLE 셸은 IDLE 에디터에서 실행한 프로그램의 결과가 표시되는 창으로, 앞에...   \n",
       "5  [운로드 사이트에서 내려받을 수 있다.\\n비주얼 스튜디오 코드는 파이썬 전용 에디터...   \n",
       "6  [• 파이썬은 인간다운 언어이다\\n• 문법이 쉬워 빠르게 배울 수 있다\\n• 무료이...   \n",
       "7  [1장\\n01장 파이썬이란 무엇인가?\\n필자는 파이썬의 프롬프트(>>>)를 처음 본...   \n",
       "8  [IDLE 셸은 IDLE 에디터에서 실행한 프로그램의 결과가 표시되는 창으로, 앞에...   \n",
       "9  [상 .py로 해야 한다. .py는 파이썬 파일이라는 것을 알려 주는 확장자이다.\\...   \n",
       "\n",
       "                                        ground_truth evolution_type  \\\n",
       "0  To execute a program using the 'Run Module' op...         simple   \n",
       "1  Python is widely used in many IT companies, in...         simple   \n",
       "2  C and C++ programming can be utilized in proje...         simple   \n",
       "3  Python is utilized in the field of the Interne...         simple   \n",
       "4  To execute a program using the 'Run Module' op...         simple   \n",
       "5  The first thing you need to do to use Python i...      reasoning   \n",
       "6  Python is a human-friendly language with simpl...      reasoning   \n",
       "7  Python is widely used in tech firms due to its...  multi_context   \n",
       "8  The answer to given question is not present in...  multi_context   \n",
       "9  To run a Python program if IDLE isn't availabl...    conditional   \n",
       "\n",
       "                                            metadata  episode_done  \n",
       "0  [{'source': './data/converted_data_test_with_m...          True  \n",
       "1  [{'source': './data/converted_data_test_with_m...          True  \n",
       "2  [{'source': './data/converted_data_test_with_m...          True  \n",
       "3  [{'source': './data/converted_data_test_with_m...          True  \n",
       "4  [{'source': './data/converted_data_test_with_m...          True  \n",
       "5  [{'source': './data/converted_data_test_with_m...          True  \n",
       "6  [{'source': './data/converted_data_test_with_m...          True  \n",
       "7  [{'source': './data/converted_data_test_with_m...          True  \n",
       "8  [{'source': './data/converted_data_test_with_m...          True  \n",
       "9  [{'source': './data/converted_data_test_with_m...          True  "
      ]
     },
     "execution_count": 25,
     "metadata": {},
     "output_type": "execute_result"
    }
   ],
   "source": [
    "test_df = testset.to_pandas()\n",
    "test_df"
   ]
  },
  {
   "cell_type": "code",
   "execution_count": 26,
   "metadata": {},
   "outputs": [],
   "source": [
    "df = test_df"
   ]
  },
  {
   "cell_type": "code",
   "execution_count": 27,
   "metadata": {},
   "outputs": [
    {
     "data": {
      "text/html": [
       "<div>\n",
       "<style scoped>\n",
       "    .dataframe tbody tr th:only-of-type {\n",
       "        vertical-align: middle;\n",
       "    }\n",
       "\n",
       "    .dataframe tbody tr th {\n",
       "        vertical-align: top;\n",
       "    }\n",
       "\n",
       "    .dataframe thead th {\n",
       "        text-align: right;\n",
       "    }\n",
       "</style>\n",
       "<table border=\"1\" class=\"dataframe\">\n",
       "  <thead>\n",
       "    <tr style=\"text-align: right;\">\n",
       "      <th></th>\n",
       "      <th>question</th>\n",
       "      <th>contexts</th>\n",
       "      <th>ground_truth</th>\n",
       "      <th>evolution_type</th>\n",
       "      <th>metadata</th>\n",
       "      <th>episode_done</th>\n",
       "    </tr>\n",
       "  </thead>\n",
       "  <tbody>\n",
       "    <tr>\n",
       "      <th>0</th>\n",
       "      <td>What steps are involved in executing a program...</td>\n",
       "      <td>[IDLE 셸은 IDLE 에디터에서 실행한 프로그램의 결과가 표시되는 창으로, 앞에...</td>\n",
       "      <td>To execute a program using the 'Run Module' op...</td>\n",
       "      <td>simple</td>\n",
       "      <td>[{'source': './data/converted_data_test_with_m...</td>\n",
       "      <td>True</td>\n",
       "    </tr>\n",
       "    <tr>\n",
       "      <th>1</th>\n",
       "      <td>\\ud30c\\uc774\\uc36c\\uc744 \\uc0ac\\uc6a9\\ud558\\ub...</td>\n",
       "      <td>[1장\\n01장 파이썬이란 무엇인가?\\n필자는 파이썬의 프롬프트(&gt;&gt;&gt;)를 처음 본...</td>\n",
       "      <td>Python is widely used in many IT companies, in...</td>\n",
       "      <td>simple</td>\n",
       "      <td>[{'source': './data/converted_data_test_with_m...</td>\n",
       "      <td>True</td>\n",
       "    </tr>\n",
       "    <tr>\n",
       "      <th>2</th>\n",
       "      <td>How can C and C++ programming be utilized in p...</td>\n",
       "      <td>[있기 때문이다. C나 C++로 만든 프로그램을 파이썬에서 사용할 수 있고 파이썬으...</td>\n",
       "      <td>C and C++ programming can be utilized in proje...</td>\n",
       "      <td>simple</td>\n",
       "      <td>[{'source': './data/converted_data_test_with_m...</td>\n",
       "      <td>True</td>\n",
       "    </tr>\n",
       "    <tr>\n",
       "      <th>3</th>\n",
       "      <td>How is Python utilized in the field of the Int...</td>\n",
       "      <td>[있기 때문이다. C나 C++로 만든 프로그램을 파이썬에서 사용할 수 있고 파이썬으...</td>\n",
       "      <td>Python is utilized in the field of the Interne...</td>\n",
       "      <td>simple</td>\n",
       "      <td>[{'source': './data/converted_data_test_with_m...</td>\n",
       "      <td>True</td>\n",
       "    </tr>\n",
       "    <tr>\n",
       "      <th>4</th>\n",
       "      <td>What steps are involved in executing a program...</td>\n",
       "      <td>[IDLE 셸은 IDLE 에디터에서 실행한 프로그램의 결과가 표시되는 창으로, 앞에...</td>\n",
       "      <td>To execute a program using the 'Run Module' op...</td>\n",
       "      <td>simple</td>\n",
       "      <td>[{'source': './data/converted_data_test_with_m...</td>\n",
       "      <td>True</td>\n",
       "    </tr>\n",
       "  </tbody>\n",
       "</table>\n",
       "</div>"
      ],
      "text/plain": [
       "                                            question  \\\n",
       "0  What steps are involved in executing a program...   \n",
       "1  \\ud30c\\uc774\\uc36c\\uc744 \\uc0ac\\uc6a9\\ud558\\ub...   \n",
       "2  How can C and C++ programming be utilized in p...   \n",
       "3  How is Python utilized in the field of the Int...   \n",
       "4  What steps are involved in executing a program...   \n",
       "\n",
       "                                            contexts  \\\n",
       "0  [IDLE 셸은 IDLE 에디터에서 실행한 프로그램의 결과가 표시되는 창으로, 앞에...   \n",
       "1  [1장\\n01장 파이썬이란 무엇인가?\\n필자는 파이썬의 프롬프트(>>>)를 처음 본...   \n",
       "2  [있기 때문이다. C나 C++로 만든 프로그램을 파이썬에서 사용할 수 있고 파이썬으...   \n",
       "3  [있기 때문이다. C나 C++로 만든 프로그램을 파이썬에서 사용할 수 있고 파이썬으...   \n",
       "4  [IDLE 셸은 IDLE 에디터에서 실행한 프로그램의 결과가 표시되는 창으로, 앞에...   \n",
       "\n",
       "                                        ground_truth evolution_type  \\\n",
       "0  To execute a program using the 'Run Module' op...         simple   \n",
       "1  Python is widely used in many IT companies, in...         simple   \n",
       "2  C and C++ programming can be utilized in proje...         simple   \n",
       "3  Python is utilized in the field of the Interne...         simple   \n",
       "4  To execute a program using the 'Run Module' op...         simple   \n",
       "\n",
       "                                            metadata  episode_done  \n",
       "0  [{'source': './data/converted_data_test_with_m...          True  \n",
       "1  [{'source': './data/converted_data_test_with_m...          True  \n",
       "2  [{'source': './data/converted_data_test_with_m...          True  \n",
       "3  [{'source': './data/converted_data_test_with_m...          True  \n",
       "4  [{'source': './data/converted_data_test_with_m...          True  "
      ]
     },
     "execution_count": 27,
     "metadata": {},
     "output_type": "execute_result"
    }
   ],
   "source": [
    "df.head()"
   ]
  },
  {
   "cell_type": "code",
   "execution_count": 46,
   "metadata": {},
   "outputs": [
    {
     "data": {
      "text/plain": [
       "Dataset({\n",
       "    features: ['question', 'contexts', 'ground_truth', 'evolution_type', 'metadata', 'episode_done'],\n",
       "    num_rows: 10\n",
       "})"
      ]
     },
     "execution_count": 46,
     "metadata": {},
     "output_type": "execute_result"
    }
   ],
   "source": [
    "from datasets import Dataset\n",
    "\n",
    "test_dataset = Dataset.from_pandas(df)\n",
    "test_dataset"
   ]
  },
  {
   "cell_type": "code",
   "execution_count": 47,
   "metadata": {},
   "outputs": [],
   "source": [
    "import ast\n",
    "def convert_to_list(example):\n",
    "    contexts = ast.literal_eval(example['contexts'])\n",
    "    return {'contexts':contexts}"
   ]
  },
  {
   "cell_type": "code",
   "execution_count": 48,
   "metadata": {},
   "outputs": [],
   "source": [
    "# test_dataset = test_dataset.map(convert_to_list)"
   ]
  },
  {
   "cell_type": "code",
   "execution_count": 49,
   "metadata": {},
   "outputs": [],
   "source": [
    "from langchain_text_splitters import RecursiveCharacterTextSplitter\n",
    "from langchain_community.document_loaders import PyMuPDFLoader\n",
    "from langchain_community.vectorstores import FAISS\n",
    "from langchain_core.output_parsers import StrOutputParser\n",
    "from langchain_core.runnables import RunnablePassthrough\n",
    "from langchain_core.prompts import PromptTemplate\n",
    "from langchain_openai import ChatOpenAI, OpenAIEmbeddings"
   ]
  },
  {
   "cell_type": "code",
   "execution_count": 50,
   "metadata": {},
   "outputs": [],
   "source": [
    "loader = PyMuPDFLoader('data/converted_data_with_metadata.pdf')\n",
    "docs = loader.load()"
   ]
  },
  {
   "cell_type": "code",
   "execution_count": 51,
   "metadata": {},
   "outputs": [],
   "source": [
    "text_splitter = RecursiveCharacterTextSplitter(chunk_size = 1000, chunk_overlap = 50)\n",
    "split_documents = text_splitter.split_documents(docs)"
   ]
  },
  {
   "cell_type": "code",
   "execution_count": 52,
   "metadata": {},
   "outputs": [],
   "source": [
    "embeddings = OpenAIEmbeddings()"
   ]
  },
  {
   "cell_type": "code",
   "execution_count": 53,
   "metadata": {},
   "outputs": [],
   "source": [
    "vectorstore = FAISS.from_documents(documents=split_documents, embedding=embeddings)"
   ]
  },
  {
   "cell_type": "code",
   "execution_count": 54,
   "metadata": {},
   "outputs": [],
   "source": [
    "retriever = vectorstore.as_retriever()"
   ]
  },
  {
   "cell_type": "code",
   "execution_count": 71,
   "metadata": {},
   "outputs": [],
   "source": [
    "prompt = PromptTemplate.from_template(\n",
    "    \"\"\"당신은 질문에 답변을 수행하는 파이썬 관련 용어 사전을 제공하는 학습 비서입니다. \n",
    "    당신은 주어진 context에서 주어진 question에 답하는 것을 수행합니다. 검색된 결과인 다음 context를 사용하여 질문인 question에 답하세요.\n",
    "    만약, context에서 답을 찾을 수 없거나, 답을 모른다면 '주어진 정보에서 질문에 대한 정보를 찾을 수 없습니다.'라고 한글로 질문하고 답변해 주세요.\n",
    "    이름이나 기술적인 용어는 번역하지 않고 그대로 출력해주세요.\n",
    "    \n",
    "    \n",
    "    # Context : {context}\n",
    "    # Question : {question}\n",
    "    # Answer :\n",
    "    \"\"\"\n",
    ")"
   ]
  },
  {
   "cell_type": "code",
   "execution_count": 72,
   "metadata": {},
   "outputs": [],
   "source": [
    "llm = ChatOpenAI(model = 'gpt-4o-mini', temperature = 0)"
   ]
  },
  {
   "cell_type": "code",
   "execution_count": 73,
   "metadata": {},
   "outputs": [],
   "source": [
    "chain = (\n",
    "    {'context' : retriever, 'question' : RunnablePassthrough()}\n",
    "    | prompt\n",
    "    | llm\n",
    "    | StrOutputParser()\n",
    ")"
   ]
  },
  {
   "cell_type": "code",
   "execution_count": 74,
   "metadata": {},
   "outputs": [],
   "source": [
    "batch_dataset = []\n",
    "for question in test_dataset['question']:\n",
    "    batch_dataset.append(question)"
   ]
  },
  {
   "cell_type": "code",
   "execution_count": 75,
   "metadata": {},
   "outputs": [
    {
     "data": {
      "text/plain": [
       "['What steps are involved in executing a program using the \"Run Module\" option in IDLE?',\n",
       " '\\\\ud30c\\\\uc774\\\\uc36c\\\\uc744 \\\\uc0ac\\\\uc6a9\\\\ud558\\\\uba74 \\\\ud504\\\\ub85c\\\\uadf8\\\\ub798\\\\ubc0d \\\\uac1c\\\\ubc1c\\\\uc5d0 \\\\uc5b4\\\\ub5a4 \\\\ucd94\\\\uac00 \\\\uac00\\\\uce58\\\\uac00 \\\\uc788\\\\ub294\\\\uac00?',\n",
       " 'How can C and C++ programming be utilized in projects involving Raspberry Pi and the Internet of Things?']"
      ]
     },
     "execution_count": 75,
     "metadata": {},
     "output_type": "execute_result"
    }
   ],
   "source": [
    "batch_dataset[:3]"
   ]
  },
  {
   "cell_type": "code",
   "execution_count": 76,
   "metadata": {},
   "outputs": [
    {
     "data": {
      "text/plain": [
       "['IDLE에서 \"Run Module\" 옵션을 사용하여 프로그램을 실행하는 단계는 다음과 같습니다:\\n\\n1. IDLE 에디터를 실행합니다.\\n2. 메뉴에서 [File → New File]을 선택하여 빈 창을 엽니다.\\n3. 파이썬 프로그램을 작성합니다. 예를 들어, `# hello.py`와 같은 주석과 함께 `print(\"Hello World\")`를 작성합니다.\\n4. 프로그램을 저장합니다. 파일 이름의 확장자는 항상 .py로 해야 하며, 적절한 디렉터리에 저장합니다.\\n5. 메뉴에서 [Run → Run Module]을 선택하거나 단축키 F5를 눌러 프로그램을 실행합니다.\\n6. 프로그램 실행 시 파일을 먼저 저장하라는 대화 상자가 나타나면 [확인]을 선택합니다.\\n\\n이 과정을 통해 IDLE에서 작성한 파이썬 프로그램을 실행할 수 있습니다.',\n",
       " '주어진 정보에서 질문에 대한 정보를 찾을 수 없습니다.',\n",
       " '주어진 정보에서 질문에 대한 정보를 찾을 수 없습니다.']"
      ]
     },
     "execution_count": 76,
     "metadata": {},
     "output_type": "execute_result"
    }
   ],
   "source": [
    "answer = chain.batch(batch_dataset)\n",
    "answer[:3]"
   ]
  },
  {
   "cell_type": "code",
   "execution_count": 77,
   "metadata": {},
   "outputs": [],
   "source": [
    "if 'answer' in test_dataset.column_names:\n",
    "    test_dataset = test_dataset.remove_columns(['answer']).add_column('answer', answer)\n",
    "else:\n",
    "    test_dataset = test_dataset.add_column('answer', answer)"
   ]
  },
  {
   "cell_type": "code",
   "execution_count": 78,
   "metadata": {},
   "outputs": [
    {
     "data": {
      "text/plain": [
       "Dataset({\n",
       "    features: ['question', 'contexts', 'ground_truth', 'evolution_type', 'metadata', 'episode_done', 'answer'],\n",
       "    num_rows: 10\n",
       "})"
      ]
     },
     "execution_count": 78,
     "metadata": {},
     "output_type": "execute_result"
    }
   ],
   "source": [
    "test_dataset"
   ]
  },
  {
   "cell_type": "code",
   "execution_count": 79,
   "metadata": {},
   "outputs": [],
   "source": [
    "from ragas import evaluate\n",
    "from ragas.metrics import answer_relevancy,faithfulness,context_recall,context_precision"
   ]
  },
  {
   "cell_type": "code",
   "execution_count": 80,
   "metadata": {},
   "outputs": [
    {
     "name": "stderr",
     "output_type": "stream",
     "text": [
      "Evaluating: 100%|██████████| 40/40 [00:51<00:00,  1.29s/it]\n"
     ]
    }
   ],
   "source": [
    "result = evaluate(\n",
    "    dataset = test_dataset,\n",
    "    metrics = [\n",
    "        answer_relevancy,\n",
    "        faithfulness,\n",
    "        context_recall,\n",
    "        context_precision\n",
    "    ]\n",
    ")\n",
    "\n",
    "\n",
    "# answer_relevancy : 모델이 문맥에서 중요한 정보를 잘 회상, 재현했는가\n",
    "# faithfulness : 모델의 답변이 문맥에 기반해서 사실적인가(factual)\n",
    "# context_recall : 전체 질문에 대해 모델의 답변이 질문과 얼마나 관련성이 있는가\n",
    "# context_precision : 모델이 문맥에서 필요한 정보를 정확히 활용했는가"
   ]
  },
  {
   "cell_type": "code",
   "execution_count": 81,
   "metadata": {},
   "outputs": [
    {
     "data": {
      "text/plain": [
       "{'answer_relevancy': 0.2815, 'faithfulness': 0.3714, 'context_recall': 0.3500, 'context_precision': 0.8000}"
      ]
     },
     "execution_count": 81,
     "metadata": {},
     "output_type": "execute_result"
    }
   ],
   "source": [
    "result"
   ]
  },
  {
   "cell_type": "code",
   "execution_count": 84,
   "metadata": {},
   "outputs": [
    {
     "data": {
      "text/html": [
       "<div>\n",
       "<style scoped>\n",
       "    .dataframe tbody tr th:only-of-type {\n",
       "        vertical-align: middle;\n",
       "    }\n",
       "\n",
       "    .dataframe tbody tr th {\n",
       "        vertical-align: top;\n",
       "    }\n",
       "\n",
       "    .dataframe thead th {\n",
       "        text-align: right;\n",
       "    }\n",
       "</style>\n",
       "<table border=\"1\" class=\"dataframe\">\n",
       "  <thead>\n",
       "    <tr style=\"text-align: right;\">\n",
       "      <th></th>\n",
       "      <th>question</th>\n",
       "      <th>contexts</th>\n",
       "      <th>answer</th>\n",
       "      <th>ground_truth</th>\n",
       "      <th>answer_relevancy</th>\n",
       "      <th>faithfulness</th>\n",
       "      <th>context_recall</th>\n",
       "      <th>context_precision</th>\n",
       "    </tr>\n",
       "  </thead>\n",
       "  <tbody>\n",
       "    <tr>\n",
       "      <th>0</th>\n",
       "      <td>What steps are involved in executing a program...</td>\n",
       "      <td>[IDLE 셸은 IDLE 에디터에서 실행한 프로그램의 결과가 표시되는 창으로, 앞에...</td>\n",
       "      <td>IDLE에서 \"Run Module\" 옵션을 사용하여 프로그램을 실행하는 단계는 다음...</td>\n",
       "      <td>To execute a program using the 'Run Module' op...</td>\n",
       "      <td>0.962739</td>\n",
       "      <td>1.000000</td>\n",
       "      <td>1.0</td>\n",
       "      <td>1.0</td>\n",
       "    </tr>\n",
       "    <tr>\n",
       "      <th>1</th>\n",
       "      <td>\\ud30c\\uc774\\uc36c\\uc744 \\uc0ac\\uc6a9\\ud558\\ub...</td>\n",
       "      <td>[1장\\n01장 파이썬이란 무엇인가?\\n필자는 파이썬의 프롬프트(&gt;&gt;&gt;)를 처음 본...</td>\n",
       "      <td>주어진 정보에서 질문에 대한 정보를 찾을 수 없습니다.</td>\n",
       "      <td>Python is widely used in many IT companies, in...</td>\n",
       "      <td>0.000000</td>\n",
       "      <td>0.000000</td>\n",
       "      <td>0.0</td>\n",
       "      <td>1.0</td>\n",
       "    </tr>\n",
       "    <tr>\n",
       "      <th>2</th>\n",
       "      <td>How can C and C++ programming be utilized in p...</td>\n",
       "      <td>[있기 때문이다. C나 C++로 만든 프로그램을 파이썬에서 사용할 수 있고 파이썬으...</td>\n",
       "      <td>주어진 정보에서 질문에 대한 정보를 찾을 수 없습니다.</td>\n",
       "      <td>C and C++ programming can be utilized in proje...</td>\n",
       "      <td>0.000000</td>\n",
       "      <td>0.000000</td>\n",
       "      <td>0.5</td>\n",
       "      <td>0.0</td>\n",
       "    </tr>\n",
       "    <tr>\n",
       "      <th>3</th>\n",
       "      <td>How is Python utilized in the field of the Int...</td>\n",
       "      <td>[있기 때문이다. C나 C++로 만든 프로그램을 파이썬에서 사용할 수 있고 파이썬으...</td>\n",
       "      <td>파이썬은 사물 인터넷(Internet of Things) 분야에서도 활용도가 높습니...</td>\n",
       "      <td>Python is utilized in the field of the Interne...</td>\n",
       "      <td>0.894766</td>\n",
       "      <td>1.000000</td>\n",
       "      <td>0.0</td>\n",
       "      <td>1.0</td>\n",
       "    </tr>\n",
       "    <tr>\n",
       "      <th>4</th>\n",
       "      <td>What steps are involved in executing a program...</td>\n",
       "      <td>[IDLE 셸은 IDLE 에디터에서 실행한 프로그램의 결과가 표시되는 창으로, 앞에...</td>\n",
       "      <td>IDLE에서 \"Run Module\" 옵션을 사용하여 프로그램을 실행하는 단계는 다음...</td>\n",
       "      <td>To execute a program using the 'Run Module' op...</td>\n",
       "      <td>0.957441</td>\n",
       "      <td>1.000000</td>\n",
       "      <td>1.0</td>\n",
       "      <td>1.0</td>\n",
       "    </tr>\n",
       "    <tr>\n",
       "      <th>5</th>\n",
       "      <td>Why add Py ext. before using Py in V. Studio?</td>\n",
       "      <td>[운로드 사이트에서 내려받을 수 있다.\\n비주얼 스튜디오 코드는 파이썬 전용 에디터...</td>\n",
       "      <td>주어진 정보에서 질문에 대한 정보를 찾을 수 없습니다.</td>\n",
       "      <td>The first thing you need to do to use Python i...</td>\n",
       "      <td>0.000000</td>\n",
       "      <td>0.000000</td>\n",
       "      <td>0.0</td>\n",
       "      <td>1.0</td>\n",
       "    </tr>\n",
       "    <tr>\n",
       "      <th>6</th>\n",
       "      <td>What in Python helps quick learning and aligns...</td>\n",
       "      <td>[• 파이썬은 인간다운 언어이다\\n• 문법이 쉬워 빠르게 배울 수 있다\\n• 무료이...</td>\n",
       "      <td>파이썬의 문법이 매우 쉽고 간결하여 사람의 사고 체계와 매우 닮아 있기 때문에 빠르...</td>\n",
       "      <td>Python is a human-friendly language with simpl...</td>\n",
       "      <td>0.000000</td>\n",
       "      <td>0.714286</td>\n",
       "      <td>0.0</td>\n",
       "      <td>1.0</td>\n",
       "    </tr>\n",
       "    <tr>\n",
       "      <th>7</th>\n",
       "      <td>How has Python's appeal shaped its role in tec...</td>\n",
       "      <td>[1장\\n01장 파이썬이란 무엇인가?\\n필자는 파이썬의 프롬프트(&gt;&gt;&gt;)를 처음 본...</td>\n",
       "      <td>주어진 정보에서 질문에 대한 정보를 찾을 수 없습니다.</td>\n",
       "      <td>Python is widely used in tech firms due to its...</td>\n",
       "      <td>0.000000</td>\n",
       "      <td>0.000000</td>\n",
       "      <td>0.0</td>\n",
       "      <td>1.0</td>\n",
       "    </tr>\n",
       "    <tr>\n",
       "      <th>8</th>\n",
       "      <td>How do Python annotations help in code clarity...</td>\n",
       "      <td>[IDLE 셸은 IDLE 에디터에서 실행한 프로그램의 결과가 표시되는 창으로, 앞에...</td>\n",
       "      <td>주어진 정보에서 질문에 대한 정보를 찾을 수 없습니다.</td>\n",
       "      <td>The answer to given question is not present in...</td>\n",
       "      <td>0.000000</td>\n",
       "      <td>0.000000</td>\n",
       "      <td>1.0</td>\n",
       "      <td>0.0</td>\n",
       "    </tr>\n",
       "    <tr>\n",
       "      <th>9</th>\n",
       "      <td>How to run Python if IDLE isn't available?</td>\n",
       "      <td>[상 .py로 해야 한다. .py는 파이썬 파일이라는 것을 알려 주는 확장자이다.\\...</td>\n",
       "      <td>주어진 정보에서 질문에 대한 정보를 찾을 수 없습니다.</td>\n",
       "      <td>To run a Python program if IDLE isn't availabl...</td>\n",
       "      <td>0.000000</td>\n",
       "      <td>0.000000</td>\n",
       "      <td>0.0</td>\n",
       "      <td>1.0</td>\n",
       "    </tr>\n",
       "  </tbody>\n",
       "</table>\n",
       "</div>"
      ],
      "text/plain": [
       "                                            question  \\\n",
       "0  What steps are involved in executing a program...   \n",
       "1  \\ud30c\\uc774\\uc36c\\uc744 \\uc0ac\\uc6a9\\ud558\\ub...   \n",
       "2  How can C and C++ programming be utilized in p...   \n",
       "3  How is Python utilized in the field of the Int...   \n",
       "4  What steps are involved in executing a program...   \n",
       "5      Why add Py ext. before using Py in V. Studio?   \n",
       "6  What in Python helps quick learning and aligns...   \n",
       "7  How has Python's appeal shaped its role in tec...   \n",
       "8  How do Python annotations help in code clarity...   \n",
       "9         How to run Python if IDLE isn't available?   \n",
       "\n",
       "                                            contexts  \\\n",
       "0  [IDLE 셸은 IDLE 에디터에서 실행한 프로그램의 결과가 표시되는 창으로, 앞에...   \n",
       "1  [1장\\n01장 파이썬이란 무엇인가?\\n필자는 파이썬의 프롬프트(>>>)를 처음 본...   \n",
       "2  [있기 때문이다. C나 C++로 만든 프로그램을 파이썬에서 사용할 수 있고 파이썬으...   \n",
       "3  [있기 때문이다. C나 C++로 만든 프로그램을 파이썬에서 사용할 수 있고 파이썬으...   \n",
       "4  [IDLE 셸은 IDLE 에디터에서 실행한 프로그램의 결과가 표시되는 창으로, 앞에...   \n",
       "5  [운로드 사이트에서 내려받을 수 있다.\\n비주얼 스튜디오 코드는 파이썬 전용 에디터...   \n",
       "6  [• 파이썬은 인간다운 언어이다\\n• 문법이 쉬워 빠르게 배울 수 있다\\n• 무료이...   \n",
       "7  [1장\\n01장 파이썬이란 무엇인가?\\n필자는 파이썬의 프롬프트(>>>)를 처음 본...   \n",
       "8  [IDLE 셸은 IDLE 에디터에서 실행한 프로그램의 결과가 표시되는 창으로, 앞에...   \n",
       "9  [상 .py로 해야 한다. .py는 파이썬 파일이라는 것을 알려 주는 확장자이다.\\...   \n",
       "\n",
       "                                              answer  \\\n",
       "0  IDLE에서 \"Run Module\" 옵션을 사용하여 프로그램을 실행하는 단계는 다음...   \n",
       "1                     주어진 정보에서 질문에 대한 정보를 찾을 수 없습니다.   \n",
       "2                     주어진 정보에서 질문에 대한 정보를 찾을 수 없습니다.   \n",
       "3  파이썬은 사물 인터넷(Internet of Things) 분야에서도 활용도가 높습니...   \n",
       "4  IDLE에서 \"Run Module\" 옵션을 사용하여 프로그램을 실행하는 단계는 다음...   \n",
       "5                     주어진 정보에서 질문에 대한 정보를 찾을 수 없습니다.   \n",
       "6  파이썬의 문법이 매우 쉽고 간결하여 사람의 사고 체계와 매우 닮아 있기 때문에 빠르...   \n",
       "7                     주어진 정보에서 질문에 대한 정보를 찾을 수 없습니다.   \n",
       "8                     주어진 정보에서 질문에 대한 정보를 찾을 수 없습니다.   \n",
       "9                     주어진 정보에서 질문에 대한 정보를 찾을 수 없습니다.   \n",
       "\n",
       "                                        ground_truth  answer_relevancy  \\\n",
       "0  To execute a program using the 'Run Module' op...          0.962739   \n",
       "1  Python is widely used in many IT companies, in...          0.000000   \n",
       "2  C and C++ programming can be utilized in proje...          0.000000   \n",
       "3  Python is utilized in the field of the Interne...          0.894766   \n",
       "4  To execute a program using the 'Run Module' op...          0.957441   \n",
       "5  The first thing you need to do to use Python i...          0.000000   \n",
       "6  Python is a human-friendly language with simpl...          0.000000   \n",
       "7  Python is widely used in tech firms due to its...          0.000000   \n",
       "8  The answer to given question is not present in...          0.000000   \n",
       "9  To run a Python program if IDLE isn't availabl...          0.000000   \n",
       "\n",
       "   faithfulness  context_recall  context_precision  \n",
       "0      1.000000             1.0                1.0  \n",
       "1      0.000000             0.0                1.0  \n",
       "2      0.000000             0.5                0.0  \n",
       "3      1.000000             0.0                1.0  \n",
       "4      1.000000             1.0                1.0  \n",
       "5      0.000000             0.0                1.0  \n",
       "6      0.714286             0.0                1.0  \n",
       "7      0.000000             0.0                1.0  \n",
       "8      0.000000             1.0                0.0  \n",
       "9      0.000000             0.0                1.0  "
      ]
     },
     "execution_count": 84,
     "metadata": {},
     "output_type": "execute_result"
    }
   ],
   "source": [
    "result_df = result.to_pandas()\n",
    "result_df"
   ]
  },
  {
   "cell_type": "code",
   "execution_count": 85,
   "metadata": {},
   "outputs": [
    {
     "data": {
      "text/html": [
       "<div>\n",
       "<style scoped>\n",
       "    .dataframe tbody tr th:only-of-type {\n",
       "        vertical-align: middle;\n",
       "    }\n",
       "\n",
       "    .dataframe tbody tr th {\n",
       "        vertical-align: top;\n",
       "    }\n",
       "\n",
       "    .dataframe thead th {\n",
       "        text-align: right;\n",
       "    }\n",
       "</style>\n",
       "<table border=\"1\" class=\"dataframe\">\n",
       "  <thead>\n",
       "    <tr style=\"text-align: right;\">\n",
       "      <th></th>\n",
       "      <th>context_recall</th>\n",
       "      <th>context_precision</th>\n",
       "    </tr>\n",
       "  </thead>\n",
       "  <tbody>\n",
       "    <tr>\n",
       "      <th>0</th>\n",
       "      <td>1.0</td>\n",
       "      <td>1.0</td>\n",
       "    </tr>\n",
       "    <tr>\n",
       "      <th>1</th>\n",
       "      <td>0.0</td>\n",
       "      <td>1.0</td>\n",
       "    </tr>\n",
       "    <tr>\n",
       "      <th>2</th>\n",
       "      <td>0.5</td>\n",
       "      <td>0.0</td>\n",
       "    </tr>\n",
       "    <tr>\n",
       "      <th>3</th>\n",
       "      <td>0.0</td>\n",
       "      <td>1.0</td>\n",
       "    </tr>\n",
       "    <tr>\n",
       "      <th>4</th>\n",
       "      <td>1.0</td>\n",
       "      <td>1.0</td>\n",
       "    </tr>\n",
       "    <tr>\n",
       "      <th>5</th>\n",
       "      <td>0.0</td>\n",
       "      <td>1.0</td>\n",
       "    </tr>\n",
       "    <tr>\n",
       "      <th>6</th>\n",
       "      <td>0.0</td>\n",
       "      <td>1.0</td>\n",
       "    </tr>\n",
       "    <tr>\n",
       "      <th>7</th>\n",
       "      <td>0.0</td>\n",
       "      <td>1.0</td>\n",
       "    </tr>\n",
       "    <tr>\n",
       "      <th>8</th>\n",
       "      <td>1.0</td>\n",
       "      <td>0.0</td>\n",
       "    </tr>\n",
       "    <tr>\n",
       "      <th>9</th>\n",
       "      <td>0.0</td>\n",
       "      <td>1.0</td>\n",
       "    </tr>\n",
       "  </tbody>\n",
       "</table>\n",
       "</div>"
      ],
      "text/plain": [
       "   context_recall  context_precision\n",
       "0             1.0                1.0\n",
       "1             0.0                1.0\n",
       "2             0.5                0.0\n",
       "3             0.0                1.0\n",
       "4             1.0                1.0\n",
       "5             0.0                1.0\n",
       "6             0.0                1.0\n",
       "7             0.0                1.0\n",
       "8             1.0                0.0\n",
       "9             0.0                1.0"
      ]
     },
     "execution_count": 85,
     "metadata": {},
     "output_type": "execute_result"
    }
   ],
   "source": [
    "\n",
    "result_df.loc[:,'context_recall' : 'context_precision']"
   ]
  },
  {
   "cell_type": "markdown",
   "metadata": {},
   "source": [
    "|context_precision (문맥 정밀도)|faithfulness (신뢰성)|answer_relevancy (답변 적합성)|context_recall (문맥 재현율)|\n",
    "|---|---|---|---|\n",
    "|답변에 사용된 문맥이 정확했는지|답변이 문맥에 기반해 사실적(factual)인지|답변이 질문과 관련성이 있는지|답변이 문맥에서 얼마나 많은 정보를 활용했는지|\n",
    "|1.0: 답변에 사용된 정보가 문맥에서 매우 정확하게 활용됨|1.0: 답변이 문맥과 매우 정확하게 일치|1.0: 답변이 질문과 매우 높은 관련성을 가짐|1.0: 답변이 문맥의 모든 중요한 정보를 잘 회상|\n",
    "|0.0: 답변이 문맥과 무관하거나, 부정확한 정보를 활용|0.0: 답변이 문맥에 기반하지 않고, 사실과 다를 가능성이 큼|0.0: 답변이 질문과 관련이 없거나, 부정확|0.0: 답변이 문맥을 활용하지 못함|"
   ]
  }
 ],
 "metadata": {
  "kernelspec": {
   "display_name": "langchain",
   "language": "python",
   "name": "python3"
  },
  "language_info": {
   "codemirror_mode": {
    "name": "ipython",
    "version": 3
   },
   "file_extension": ".py",
   "mimetype": "text/x-python",
   "name": "python",
   "nbconvert_exporter": "python",
   "pygments_lexer": "ipython3",
   "version": "3.11.10"
  }
 },
 "nbformat": 4,
 "nbformat_minor": 2
}
