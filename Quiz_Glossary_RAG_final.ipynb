{
 "cells": [
  {
   "cell_type": "code",
   "execution_count": 2,
   "metadata": {},
   "outputs": [
    {
     "data": {
      "text/plain": [
       "True"
      ]
     },
     "execution_count": 2,
     "metadata": {},
     "output_type": "execute_result"
    }
   ],
   "source": [
    "from dotenv import load_dotenv\n",
    "\n",
    "load_dotenv()"
   ]
  },
  {
   "cell_type": "code",
   "execution_count": 2,
   "metadata": {},
   "outputs": [
    {
     "name": "stdout",
     "output_type": "stream",
     "text": [
      "LangSmith 추적을 시작합니다.\n",
      "[프로젝트명]\n",
      "CLASS\n"
     ]
    }
   ],
   "source": [
    "from langchain_teddynote import logging\n",
    "logging.langsmith(\"CLASS\")"
   ]
  },
  {
   "cell_type": "code",
   "execution_count": 3,
   "metadata": {},
   "outputs": [],
   "source": [
    "from langchain_community.document_loaders import PDFPlumberLoader"
   ]
  },
  {
   "cell_type": "code",
   "execution_count": 4,
   "metadata": {},
   "outputs": [],
   "source": [
    "# pip install pdfplumber"
   ]
  },
  {
   "cell_type": "code",
   "execution_count": null,
   "metadata": {},
   "outputs": [],
   "source": [
    "loader = PDFPlumberLoader('./data/converted_data_with_metadata.pdf')"
   ]
  },
  {
   "cell_type": "code",
   "execution_count": 6,
   "metadata": {},
   "outputs": [],
   "source": [
    "docs = loader.load()"
   ]
  },
  {
   "cell_type": "code",
   "execution_count": 7,
   "metadata": {},
   "outputs": [
    {
     "data": {
      "text/plain": [
       "349"
      ]
     },
     "execution_count": 8,
     "metadata": {},
     "output_type": "execute_result"
    }
   ],
   "source": [
    "len(docs)"
   ]
  },
  {
   "cell_type": "code",
   "execution_count": null,
   "metadata": {},
   "outputs": [
    {
     "data": {
      "text/plain": [
       "Document(metadata={'title': '점프 투 파이썬', 'author': '박응용', 'url': 'https://wikidocs.net/4307'}, page_content=\"32\\n>>> print(re.match('<.*>', s).span())\\n(0, 32)\\n>>> print(re.match('<.*>', s).group())\\n<html><head><title>Title</title>\\n<.*> 정규식의 매치 결과로 <html> 문자열을 리턴해 주기를 기대했을 것이다. 하지\\n만 * 메타 문자는 매우 탐욕스러워서 매치할 수 있는 최대한의 문자열\\n인 <html><head><title>Title</title> 문자열을 모두 소비해 버렸다. 어떻게 하면 이 탐\\n욕스러움을 제한하고 <html> 문자열까지만 소비하도록 막을 수 있을까?\\n다음과 같이 non-greedy 문자인 ?를 사용하면 *의 탐욕을 제한할 수 있다.\\n>>> print(re.match('<.*?>', s).group())\\n<html>\\nnon-greedy 문자인 ?는 *?, +?, ??, {m,n}?와 같이 사용할 수 있다. 되도록 최소한으로 반\\n복을 수행하도록 도와주는 역할을 한다.\\n\")"
      ]
     },
     "execution_count": 13,
     "metadata": {},
     "output_type": "execute_result"
    }
   ],
   "source": [
    "docs"
   ]
  },
  {
   "cell_type": "code",
   "execution_count": 10,
   "metadata": {},
   "outputs": [],
   "source": [
    "for doc in docs:\n",
    "    doc.metadata['filename'] = doc.metadata['source']"
   ]
  },
  {
   "cell_type": "code",
   "execution_count": 11,
   "metadata": {},
   "outputs": [],
   "source": [
    "doc.metadata = {\n",
    "    \"title\" : \"점프 투 파이썬\",\n",
    "    \"author\" : \"박응용\",\n",
    "    \"url\" : \"https://wikidocs.net/4307\"\n",
    "}"
   ]
  },
  {
   "cell_type": "code",
   "execution_count": 12,
   "metadata": {},
   "outputs": [],
   "source": [
    "# !pip install -q ragas==0.1.19"
   ]
  },
  {
   "cell_type": "code",
   "execution_count": 11,
   "metadata": {},
   "outputs": [
    {
     "name": "stderr",
     "output_type": "stream",
     "text": [
      "c:\\Users\\RMARKET\\anaconda3\\envs\\langchain\\Lib\\site-packages\\tqdm\\auto.py:21: TqdmWarning: IProgress not found. Please update jupyter and ipywidgets. See https://ipywidgets.readthedocs.io/en/stable/user_install.html\n",
      "  from .autonotebook import tqdm as notebook_tqdm\n"
     ]
    }
   ],
   "source": [
    "from ragas.testset.generator import TestsetGenerator\n",
    "from ragas.testset.evolutions import simple, reasoning, multi_context, conditional\n",
    "from ragas.llms import LangchainLLMWrapper\n",
    "from ragas.embeddings import LangchainEmbeddingsWrapper\n",
    "from ragas.testset.extractor import KeyphraseExtractor\n",
    "from ragas.testset.docstore import InMemoryDocumentStore\n",
    "from langchain_openai import ChatOpenAI, OpenAIEmbeddings\n",
    "from langchain.text_splitter import RecursiveCharacterTextSplitter"
   ]
  },
  {
   "cell_type": "code",
   "execution_count": null,
   "metadata": {},
   "outputs": [],
   "source": [
    "# 생성기\n",
    "generator_llm = ChatOpenAI(model = 'gpt-4o-mini')"
   ]
  },
  {
   "cell_type": "code",
   "execution_count": null,
   "metadata": {},
   "outputs": [],
   "source": [
    "# 평가를 할 수 있는 비평기\n",
    "critic_llm = ChatOpenAI(model = 'gpt-4o-mini')"
   ]
  },
  {
   "cell_type": "code",
   "execution_count": 14,
   "metadata": {},
   "outputs": [],
   "source": [
    "# 임베딩 모델\n",
    "embeddings = OpenAIEmbeddings(model = 'text-embedding-3-small')"
   ]
  },
  {
   "cell_type": "code",
   "execution_count": 15,
   "metadata": {},
   "outputs": [],
   "source": [
    "# 텍스트 분할기\n",
    "splitter = RecursiveCharacterTextSplitter(chunk_size = 1000, chunk_overlap = 100)"
   ]
  },
  {
   "cell_type": "code",
   "execution_count": 16,
   "metadata": {},
   "outputs": [],
   "source": [
    "langchain_llm = LangchainLLMWrapper(ChatOpenAI(model = 'gpt-4o-mini'))\n",
    "# 구문추출기 생성을 위한 모델 호출(RAGAS와의 호환을 위한 Wrapper)"
   ]
  },
  {
   "cell_type": "code",
   "execution_count": 17,
   "metadata": {},
   "outputs": [],
   "source": [
    "# 구문추출기 : 문서 핵심 정보 식별 및 추출 역할\n",
    "Keyphrase_extractor = KeyphraseExtractor(llm = langchain_llm)"
   ]
  },
  {
   "cell_type": "code",
   "execution_count": 18,
   "metadata": {},
   "outputs": [],
   "source": [
    "# 임베딩 모델도 RAGAS와 호환을 위해 Wrapper 적용\n",
    "ragas_embeddings = LangchainEmbeddingsWrapper(embeddings)"
   ]
  },
  {
   "cell_type": "code",
   "execution_count": 19,
   "metadata": {},
   "outputs": [],
   "source": [
    "# 저장소, docstore 만들기\n",
    "docstore = InMemoryDocumentStore(\n",
    "    splitter = splitter,\n",
    "    embeddings = ragas_embeddings,\n",
    "    extractor = Keyphrase_extractor\n",
    ")"
   ]
  },
  {
   "cell_type": "code",
   "execution_count": 20,
   "metadata": {},
   "outputs": [],
   "source": [
    "# 생성기 만들기\n",
    "generator = TestsetGenerator.from_langchain(\n",
    "    generator_llm, # 생성기\n",
    "    critic_llm,  # 판별기\n",
    "    ragas_embeddings, # 임베딩모델\n",
    "    docstore = docstore # 문서저장소\n",
    ")"
   ]
  },
  {
   "cell_type": "code",
   "execution_count": 21,
   "metadata": {},
   "outputs": [],
   "source": [
    "# # 질문 유형 분포를 설정하는 딕셔너리입니다.\n",
    "# # 각 질문 유형과 그에 해당하는 비율(0~1)을 정의합니다.\n",
    "# distributions = {\n",
    "#     \"simple\": 0.4,          # 단순한 질문 유형의 비율 (전체의 40%)\n",
    "#     \"reasoning\": 0.2,       # 논리적 사고가 필요한 질문 유형의 비율 (전체의 20%)\n",
    "#     \"multi_context\": 0.2,   # 여러 문맥을 고려해야 하는 질문 유형의 비율 (전체의 20%)\n",
    "#     \"conditional\": 0.2      # 조건에 따라 답변이 달라지는 질문 유형의 비율 (전체의 20%)\n",
    "# }"
   ]
  },
  {
   "cell_type": "code",
   "execution_count": 22,
   "metadata": {},
   "outputs": [],
   "source": [
    "# 질문 유형 분포 결정\n",
    "distributions = {simple : 0.5, reasoning : 0.2, multi_context : 0.2, conditional : 0.1}"
   ]
  },
  {
   "cell_type": "markdown",
   "metadata": {},
   "source": [
    "## 배치 사이즈"
   ]
  },
  {
   "cell_type": "code",
   "execution_count": 23,
   "metadata": {},
   "outputs": [],
   "source": [
    "# def batch_documents(documents, batch_size):\n",
    "#     \"\"\"\n",
    "#     문서를 일정 크기의 배치로 나눕니다.\n",
    "    \n",
    "#     Args:\n",
    "#         documents (list): 문서 목록.\n",
    "#         batch_size (int): 각 배치의 크기.\n",
    "    \n",
    "#     Returns:\n",
    "#         list: 배치로 나뉜 문서 그룹.\n",
    "#     \"\"\"\n",
    "#     for i in range(0, len(documents), batch_size):\n",
    "#         yield documents[i:i + batch_size]\n",
    "\n",
    "# def generate_testset_in_batches(generator, documents, test_size, distributions, batch_size=10):\n",
    "#     \"\"\"\n",
    "#     문서를 배치 단위로 나누어 처리하여 테스트 세트를 생성합니다.\n",
    "    \n",
    "#     Args:\n",
    "#         generator: 테스트 세트 생성기 객체.\n",
    "#         documents (list): 전체 문서 목록.\n",
    "#         test_size (int): 각 배치에서 생성할 질문 세트 크기.\n",
    "#         distributions (dict): 질문 유형 분포.\n",
    "#         batch_size (int): 배치 크기 (기본값: 10).\n",
    "    \n",
    "#     Returns:\n",
    "#         list: 각 배치의 결과를 결합한 전체 테스트 세트.\n",
    "#     \"\"\"\n",
    "#     all_testsets = []\n",
    "#     for batch_index, document_batch in enumerate(batch_documents(documents, batch_size)):\n",
    "#         print(f\"Processing batch {batch_index + 1}/{len(documents) // batch_size + 1}...\")\n",
    "#         try:\n",
    "#             batch_testset = generator.generate_with_langchain_docs(\n",
    "#                 documents=document_batch,\n",
    "#                 test_size=test_size,\n",
    "#                 distributions=distributions,\n",
    "#                 with_debugging_logs=True,\n",
    "#                 raise_exceptions=False\n",
    "#             )\n",
    "#             all_testsets.extend(batch_testset.to_dict())  # 배치 결과를 결합\n",
    "#         except Exception as e:\n",
    "#             print(f\"Error processing batch {batch_index + 1}: {e}\")\n",
    "    \n",
    "#     return all_testsets\n",
    "\n",
    "# # 예제 사용\n",
    "# testset = generate_testset_in_batches(\n",
    "#     generator=generator,\n",
    "#     documents=docs,  # 전체 문서\n",
    "#     test_size=10,    # 각 배치에서 생성할 테스트 세트 크기\n",
    "#     distributions=distributions,\n",
    "#     batch_size=50    # 배치 크기\n",
    "# )\n",
    "\n",
    "# # 결과를 pandas DataFrame으로 변환\n",
    "# import pandas as pd\n",
    "# test_df = pd.DataFrame(testset)\n",
    "\n",
    "# # DataFrame 확인\n",
    "# print(test_df.head())\n"
   ]
  },
  {
   "cell_type": "code",
   "execution_count": null,
   "metadata": {},
   "outputs": [
    {
     "name": "stderr",
     "output_type": "stream",
     "text": [
      "embedding nodes:  16%|█▌        | 7/44 [00:00<00:03, 11.02it/s]Failed to multipart ingest runs: langsmith.utils.LangSmithRateLimitError: Rate limit exceeded for https://api.smith.langchain.com/runs/multipart. HTTPError('429 Client Error: Too Many Requests for url: https://api.smith.langchain.com/runs/multipart', '{\"detail\":\"Monthly unique traces usage limit exceeded\"}')trace=60b54d7b-ae08-46a1-bfb9-34de916b8f71,id=60b54d7b-ae08-46a1-bfb9-34de916b8f71; trace=86e2a881-8adb-46a4-80d0-a0d3921cd494,id=86e2a881-8adb-46a4-80d0-a0d3921cd494; trace=0ff16d8b-65fb-4fe0-8ea7-13e7e41fcae2,id=0ff16d8b-65fb-4fe0-8ea7-13e7e41fcae2; trace=31fbf060-caf0-4342-bd7b-61b3c2f77810,id=31fbf060-caf0-4342-bd7b-61b3c2f77810; trace=988dd51a-47cf-42d4-bfad-301d3b87ea72,id=988dd51a-47cf-42d4-bfad-301d3b87ea72; trace=a2d5ad31-d1c7-4c0b-99bb-ffaf8043e4cf,id=a2d5ad31-d1c7-4c0b-99bb-ffaf8043e4cf; trace=e60b8db3-25d9-4997-93ce-b85f702eff88,id=e60b8db3-25d9-4997-93ce-b85f702eff88; trace=35b88df7-9117-41ad-9e15-e42b2f363c06,id=35b88df7-9117-41ad-9e15-e42b2f363c06\n",
      "embedding nodes:  48%|████▊     | 21/44 [00:01<00:01, 20.07it/s]Failed to multipart ingest runs: langsmith.utils.LangSmithRateLimitError: Rate limit exceeded for https://api.smith.langchain.com/runs/multipart. HTTPError('429 Client Error: Too Many Requests for url: https://api.smith.langchain.com/runs/multipart', '{\"detail\":\"Monthly unique traces usage limit exceeded\"}')trace=3aaecbb7-ddf5-46a7-8a64-319d2acd8818,id=3aaecbb7-ddf5-46a7-8a64-319d2acd8818; trace=1be62c3a-99a4-4352-823b-1943f3a1957c,id=1be62c3a-99a4-4352-823b-1943f3a1957c; trace=ebf38960-42fa-4691-b71f-a2b8297aaf66,id=ebf38960-42fa-4691-b71f-a2b8297aaf66; trace=9ccb5452-d7b7-4e54-91eb-f1a6d46806af,id=9ccb5452-d7b7-4e54-91eb-f1a6d46806af; trace=655e5895-09ac-48f3-9b2e-3c0f0d7db2ae,id=655e5895-09ac-48f3-9b2e-3c0f0d7db2ae\n",
      "embedding nodes:  64%|██████▎   | 28/44 [00:01<00:00, 21.94it/s]Failed to multipart ingest runs: langsmith.utils.LangSmithRateLimitError: Rate limit exceeded for https://api.smith.langchain.com/runs/multipart. HTTPError('429 Client Error: Too Many Requests for url: https://api.smith.langchain.com/runs/multipart', '{\"detail\":\"Monthly unique traces usage limit exceeded\"}')trace=d83b90dd-0162-4895-b2e3-8c7dc6b3d7aa,id=d83b90dd-0162-4895-b2e3-8c7dc6b3d7aa; trace=30fe328e-ec3e-40ee-8c94-78d84f9e6846,id=30fe328e-ec3e-40ee-8c94-78d84f9e6846; trace=c30f5dbf-bbcb-4535-ba5e-787d3b499913,id=c30f5dbf-bbcb-4535-ba5e-787d3b499913; trace=948b466a-b1f3-461a-ab08-40d949545266,id=948b466a-b1f3-461a-ab08-40d949545266; trace=9f95827e-7ab7-4437-addf-950c715321c5,id=9f95827e-7ab7-4437-addf-950c715321c5; trace=82351211-a5cf-40a5-9693-db99018f82ae,id=82351211-a5cf-40a5-9693-db99018f82ae; trace=0c6e6688-91d5-4d2e-b539-eda8c57b1fb2,id=0c6e6688-91d5-4d2e-b539-eda8c57b1fb2; trace=7ffabf4f-e44c-4304-a05c-7e7c4dbde7fa,id=7ffabf4f-e44c-4304-a05c-7e7c4dbde7fa; trace=0ff16d8b-65fb-4fe0-8ea7-13e7e41fcae2,id=0ff16d8b-65fb-4fe0-8ea7-13e7e41fcae2; trace=86e2a881-8adb-46a4-80d0-a0d3921cd494,id=86e2a881-8adb-46a4-80d0-a0d3921cd494; trace=31fbf060-caf0-4342-bd7b-61b3c2f77810,id=31fbf060-caf0-4342-bd7b-61b3c2f77810; trace=e60b8db3-25d9-4997-93ce-b85f702eff88,id=e60b8db3-25d9-4997-93ce-b85f702eff88; trace=a2d5ad31-d1c7-4c0b-99bb-ffaf8043e4cf,id=a2d5ad31-d1c7-4c0b-99bb-ffaf8043e4cf; trace=35b88df7-9117-41ad-9e15-e42b2f363c06,id=35b88df7-9117-41ad-9e15-e42b2f363c06; trace=3aaecbb7-ddf5-46a7-8a64-319d2acd8818,id=3aaecbb7-ddf5-46a7-8a64-319d2acd8818; trace=988dd51a-47cf-42d4-bfad-301d3b87ea72,id=988dd51a-47cf-42d4-bfad-301d3b87ea72; trace=1be62c3a-99a4-4352-823b-1943f3a1957c,id=1be62c3a-99a4-4352-823b-1943f3a1957c; trace=60b54d7b-ae08-46a1-bfb9-34de916b8f71,id=60b54d7b-ae08-46a1-bfb9-34de916b8f71\n",
      "embedding nodes:  84%|████████▍ | 37/44 [00:02<00:00, 22.13it/s]Failed to multipart ingest runs: langsmith.utils.LangSmithRateLimitError: Rate limit exceeded for https://api.smith.langchain.com/runs/multipart. HTTPError('429 Client Error: Too Many Requests for url: https://api.smith.langchain.com/runs/multipart', '{\"detail\":\"Monthly unique traces usage limit exceeded\"}')trace=65205ec1-e591-4a95-b97a-7907c8099eb5,id=65205ec1-e591-4a95-b97a-7907c8099eb5; trace=ebf38960-42fa-4691-b71f-a2b8297aaf66,id=ebf38960-42fa-4691-b71f-a2b8297aaf66\n",
      "embedding nodes:  91%|█████████ | 40/44 [00:02<00:00, 13.65it/s]Failed to multipart ingest runs: langsmith.utils.LangSmithRateLimitError: Rate limit exceeded for https://api.smith.langchain.com/runs/multipart. HTTPError('429 Client Error: Too Many Requests for url: https://api.smith.langchain.com/runs/multipart', '{\"detail\":\"Monthly unique traces usage limit exceeded\"}')trace=9ccb5452-d7b7-4e54-91eb-f1a6d46806af,id=9ccb5452-d7b7-4e54-91eb-f1a6d46806af; trace=655e5895-09ac-48f3-9b2e-3c0f0d7db2ae,id=655e5895-09ac-48f3-9b2e-3c0f0d7db2ae; trace=d83b90dd-0162-4895-b2e3-8c7dc6b3d7aa,id=d83b90dd-0162-4895-b2e3-8c7dc6b3d7aa; trace=30fe328e-ec3e-40ee-8c94-78d84f9e6846,id=30fe328e-ec3e-40ee-8c94-78d84f9e6846\n",
      "Failed to multipart ingest runs: langsmith.utils.LangSmithRateLimitError: Rate limit exceeded for https://api.smith.langchain.com/runs/multipart. HTTPError('429 Client Error: Too Many Requests for url: https://api.smith.langchain.com/runs/multipart', '{\"detail\":\"Monthly unique traces usage limit exceeded\"}')trace=948b466a-b1f3-461a-ab08-40d949545266,id=948b466a-b1f3-461a-ab08-40d949545266; trace=9f95827e-7ab7-4437-addf-950c715321c5,id=9f95827e-7ab7-4437-addf-950c715321c5; trace=82351211-a5cf-40a5-9693-db99018f82ae,id=82351211-a5cf-40a5-9693-db99018f82ae; trace=7ffabf4f-e44c-4304-a05c-7e7c4dbde7fa,id=7ffabf4f-e44c-4304-a05c-7e7c4dbde7fa\n",
      "Generating:   0%|          | 0/10 [00:00<?, ?it/s]Failed to multipart ingest runs: langsmith.utils.LangSmithRateLimitError: Rate limit exceeded for https://api.smith.langchain.com/runs/multipart. HTTPError('429 Client Error: Too Many Requests for url: https://api.smith.langchain.com/runs/multipart', '{\"detail\":\"Monthly unique traces usage limit exceeded\"}')trace=50a2228d-27d4-482d-9aff-bff0d6c4f150,id=50a2228d-27d4-482d-9aff-bff0d6c4f150; trace=a56a8379-80e8-4406-ba03-d3c0968e4ed8,id=a56a8379-80e8-4406-ba03-d3c0968e4ed8; trace=220c4203-fbe2-4937-9e94-8c9400e7cf39,id=220c4203-fbe2-4937-9e94-8c9400e7cf39; trace=a18fb1fc-b87e-48ed-820e-8c8e4f44ae9f,id=a18fb1fc-b87e-48ed-820e-8c8e4f44ae9f; trace=6b4e8da9-9d83-4dbb-94bc-9d2f97bf2026,id=6b4e8da9-9d83-4dbb-94bc-9d2f97bf2026; trace=db2a97e8-363e-41ba-ac29-d293d5cfe752,id=db2a97e8-363e-41ba-ac29-d293d5cfe752; trace=2bdff630-bb69-4e49-8792-24a616ced57f,id=2bdff630-bb69-4e49-8792-24a616ced57f; trace=3e794600-f41f-49bf-8d53-ce95bfaa60f3,id=3e794600-f41f-49bf-8d53-ce95bfaa60f3; trace=470af86c-5c7d-4fa0-a940-f5de31849e5d,id=470af86c-5c7d-4fa0-a940-f5de31849e5d; trace=4d23fa9d-2bae-4db8-b66b-e007df450679,id=4d23fa9d-2bae-4db8-b66b-e007df450679; trace=c30f5dbf-bbcb-4535-ba5e-787d3b499913,id=c30f5dbf-bbcb-4535-ba5e-787d3b499913; trace=0c6e6688-91d5-4d2e-b539-eda8c57b1fb2,id=0c6e6688-91d5-4d2e-b539-eda8c57b1fb2; trace=65205ec1-e591-4a95-b97a-7907c8099eb5,id=65205ec1-e591-4a95-b97a-7907c8099eb5\n",
      "[ragas.testset.filters.DEBUG] context scoring: {'clarity': 1, 'depth': 2, 'structure': 2, 'relevance': 2, 'score': 1.75}\n",
      "[ragas.testset.evolutions.DEBUG] keyphrases in merged node: ['파이썬 재구성', '프로그래밍 언어', '사용자 층 확대', '프로그래밍 개발', '파이썬의 매력']\n",
      "[ragas.testset.filters.DEBUG] context scoring: {'clarity': 2, 'depth': 2, 'structure': 2, 'relevance': 3, 'score': 2.25}\n",
      "[ragas.testset.evolutions.DEBUG] keyphrases in merged node: ['IDLE editor', 'Python program execution', 'File creation', 'Program comments', 'Run Module']\n",
      "[ragas.testset.filters.DEBUG] context scoring: {'clarity': 1, 'depth': 2, 'structure': 2, 'relevance': 2, 'score': 1.75}\n",
      "[ragas.testset.evolutions.DEBUG] keyphrases in merged node: ['C and C++ programming', 'Python usage', 'Internet of Things', 'Raspberry Pi', 'Small computer applications']\n",
      "[ragas.testset.filters.DEBUG] context scoring: {'clarity': 2, 'depth': 2, 'structure': 2, 'relevance': 3, 'score': 2.25}\n",
      "[ragas.testset.evolutions.DEBUG] keyphrases in merged node: ['IDLE editor', 'Python program execution', 'File creation', 'Program comments', 'Run Module']\n",
      "[ragas.testset.filters.DEBUG] context scoring: {'clarity': 2, 'depth': 2, 'structure': 2, 'relevance': 3, 'score': 2.25}\n",
      "[ragas.testset.evolutions.DEBUG] keyphrases in merged node: ['IDLE editor', 'Python program execution', 'File creation', 'Program comments', 'Run Module']\n",
      "Failed to multipart ingest runs: langsmith.utils.LangSmithRateLimitError: Rate limit exceeded for https://api.smith.langchain.com/runs/multipart. HTTPError('429 Client Error: Too Many Requests for url: https://api.smith.langchain.com/runs/multipart', '{\"detail\":\"Monthly unique traces usage limit exceeded\"}')trace=1876180d-2b01-4e10-ba13-4da15f62189a,id=1876180d-2b01-4e10-ba13-4da15f62189a; trace=c3847218-1302-4556-b3e4-9124b0fe4df0,id=c3847218-1302-4556-b3e4-9124b0fe4df0; trace=6b4e8da9-9d83-4dbb-94bc-9d2f97bf2026,id=6b4e8da9-9d83-4dbb-94bc-9d2f97bf2026; trace=db2a97e8-363e-41ba-ac29-d293d5cfe752,id=db2a97e8-363e-41ba-ac29-d293d5cfe752\n",
      "[ragas.testset.evolutions.INFO] seed question generated: How can a Python program be executed using IDLE editor?\n",
      "[ragas.testset.evolutions.INFO] seed question generated: How is the user base expanding in relation to the recognition of the value of programs developed using Python?\n",
      "[ragas.testset.evolutions.INFO] seed question generated: How can C and C++ programming be utilized in projects involving Raspberry Pi and the Internet of Things?\n",
      "[ragas.testset.evolutions.INFO] seed question generated: What is the purpose of using comments in a Python program?\n",
      "[ragas.testset.evolutions.INFO] seed question generated: What steps are involved in executing a program using the \"Run Module\" option in IDLE?\n",
      "Failed to multipart ingest runs: langsmith.utils.LangSmithRateLimitError: Rate limit exceeded for https://api.smith.langchain.com/runs/multipart. HTTPError('429 Client Error: Too Many Requests for url: https://api.smith.langchain.com/runs/multipart', '{\"detail\":\"Monthly unique traces usage limit exceeded\"}')trace=ede9d495-cfee-4066-ae90-493b8aafa9fa,id=ede9d495-cfee-4066-ae90-493b8aafa9fa; trace=6807f873-8a7f-4735-b8f7-77e5082952a6,id=6807f873-8a7f-4735-b8f7-77e5082952a6; trace=3ee985aa-c78e-4900-9021-35922aaf423b,id=3ee985aa-c78e-4900-9021-35922aaf423b; trace=50a2228d-27d4-482d-9aff-bff0d6c4f150,id=50a2228d-27d4-482d-9aff-bff0d6c4f150; trace=220c4203-fbe2-4937-9e94-8c9400e7cf39,id=220c4203-fbe2-4937-9e94-8c9400e7cf39; trace=470af86c-5c7d-4fa0-a940-f5de31849e5d,id=470af86c-5c7d-4fa0-a940-f5de31849e5d\n",
      "[ragas.testset.filters.DEBUG] context scoring: {'clarity': 1, 'depth': 2, 'structure': 2, 'relevance': 2, 'score': 1.75}\n",
      "[ragas.testset.evolutions.DEBUG] keyphrases in merged node: ['파이썬 재구성', '프로그래밍 언어', '사용자 층 확대', '프로그래밍 개발', '파이썬의 매력']\n",
      "[ragas.testset.filters.DEBUG] context scoring: {'clarity': 1, 'depth': 2, 'structure': 2, 'relevance': 2, 'score': 1.75}\n",
      "[ragas.testset.evolutions.DEBUG] keyphrases in merged node: ['C and C++ programming', 'Python usage', 'Internet of Things', 'Raspberry Pi', 'Small computer applications']\n",
      "[ragas.testset.filters.DEBUG] context scoring: {'clarity': 2, 'depth': 2, 'structure': 2, 'relevance': 3, 'score': 2.25}\n",
      "[ragas.testset.evolutions.DEBUG] keyphrases in merged node: ['IDLE editor', 'Python program execution', 'File creation', 'Program comments', 'Run Module']\n",
      "[ragas.testset.filters.DEBUG] context scoring: {'clarity': 2, 'depth': 2, 'structure': 2, 'relevance': 2, 'score': 2.0}\n",
      "[ragas.testset.evolutions.DEBUG] keyphrases in merged node: ['Python programming', 'Human language', 'Simple grammar', 'Free and powerful', 'Rapid development']\n",
      "[ragas.testset.filters.DEBUG] context scoring: {'clarity': 1, 'depth': 2, 'structure': 2, 'relevance': 2, 'score': 1.75}\n",
      "[ragas.testset.evolutions.DEBUG] keyphrases in merged node: ['비주얼 스튜디오 코드', '파이썬 전용 에디터', '파이썬 extension 설치', '파이참', '자동 완성 및 문법 체크']\n",
      "Failed to multipart ingest runs: langsmith.utils.LangSmithRateLimitError: Rate limit exceeded for https://api.smith.langchain.com/runs/multipart. HTTPError('429 Client Error: Too Many Requests for url: https://api.smith.langchain.com/runs/multipart', '{\"detail\":\"Monthly unique traces usage limit exceeded\"}')trace=9878c290-fbbc-49b5-8a72-02386a234b7b,id=9878c290-fbbc-49b5-8a72-02386a234b7b; trace=3a6b5e13-26cd-4e78-81b5-0a4616790da2,id=3a6b5e13-26cd-4e78-81b5-0a4616790da2; trace=2dbac5a0-f4f2-4f3e-9396-b30ab27b9bbe,id=2dbac5a0-f4f2-4f3e-9396-b30ab27b9bbe; trace=d0dc717e-6a29-4f61-8219-d9e9fbd804ed,id=d0dc717e-6a29-4f61-8219-d9e9fbd804ed; trace=2cf12b0f-738a-4cf0-b865-c41ffbe7777a,id=2cf12b0f-738a-4cf0-b865-c41ffbe7777a; trace=1876180d-2b01-4e10-ba13-4da15f62189a,id=1876180d-2b01-4e10-ba13-4da15f62189a; trace=c3847218-1302-4556-b3e4-9124b0fe4df0,id=c3847218-1302-4556-b3e4-9124b0fe4df0; trace=ede9d495-cfee-4066-ae90-493b8aafa9fa,id=ede9d495-cfee-4066-ae90-493b8aafa9fa; trace=6807f873-8a7f-4735-b8f7-77e5082952a6,id=6807f873-8a7f-4735-b8f7-77e5082952a6; trace=3ee985aa-c78e-4900-9021-35922aaf423b,id=3ee985aa-c78e-4900-9021-35922aaf423b\n",
      "[ragas.testset.evolutions.INFO] seed question generated: How is Python utilized in the field of the Internet of Things?\n",
      "Failed to multipart ingest runs: langsmith.utils.LangSmithRateLimitError: Rate limit exceeded for https://api.smith.langchain.com/runs/multipart. HTTPError('429 Client Error: Too Many Requests for url: https://api.smith.langchain.com/runs/multipart', '{\"detail\":\"Monthly unique traces usage limit exceeded\"}')trace=323209e3-c61e-4e42-b0d0-49208296eae8,id=323209e3-c61e-4e42-b0d0-49208296eae8; trace=32918309-ae0c-4f6f-9692-50ce250eade7,id=32918309-ae0c-4f6f-9692-50ce250eade7; trace=c8112fed-ce0c-49f9-a940-2cb6fa66d87c,id=c8112fed-ce0c-49f9-a940-2cb6fa66d87c; trace=d0db1cf5-0e35-41d0-8a11-76814992993f,id=d0db1cf5-0e35-41d0-8a11-76814992993f; trace=83abeb40-e1e7-4e90-8c63-a9a89b061470,id=83abeb40-e1e7-4e90-8c63-a9a89b061470; trace=a56a8379-80e8-4406-ba03-d3c0968e4ed8,id=a56a8379-80e8-4406-ba03-d3c0968e4ed8; trace=a18fb1fc-b87e-48ed-820e-8c8e4f44ae9f,id=a18fb1fc-b87e-48ed-820e-8c8e4f44ae9f; trace=2bdff630-bb69-4e49-8792-24a616ced57f,id=2bdff630-bb69-4e49-8792-24a616ced57f; trace=3e794600-f41f-49bf-8d53-ce95bfaa60f3,id=3e794600-f41f-49bf-8d53-ce95bfaa60f3; trace=4d23fa9d-2bae-4db8-b66b-e007df450679,id=4d23fa9d-2bae-4db8-b66b-e007df450679\n",
      "[ragas.testset.evolutions.INFO] seed question generated: What steps are involved in executing a program using the \"Run Module\" option in IDLE?\n",
      "[ragas.testset.evolutions.INFO] seed question generated: How does Python's simple grammar make it easier to learn and use compared to other complex languages?\n",
      "Failed to multipart ingest runs: langsmith.utils.LangSmithRateLimitError: Rate limit exceeded for https://api.smith.langchain.com/runs/multipart. HTTPError('429 Client Error: Too Many Requests for url: https://api.smith.langchain.com/runs/multipart', '{\"detail\":\"Monthly unique traces usage limit exceeded\"}')trace=4d2136cd-d74d-4334-9092-4d8365e94e03,id=4d2136cd-d74d-4334-9092-4d8365e94e03; trace=32918309-ae0c-4f6f-9692-50ce250eade7,id=32918309-ae0c-4f6f-9692-50ce250eade7\n",
      "[ragas.testset.filters.DEBUG] filtered question: {'feedback': 'The question is clear and specific, asking for the purpose of using comments in a Python program. It is independent and does not rely on external references or context, making it understandable and answerable based on the details provided. The intent is straightforward, seeking an explanation of the role or benefits of comments in Python programming.', 'verdict': 1}\n",
      "[ragas.testset.evolutions.DEBUG] [MultiContextEvolution] simple question generated: What is the purpose of using comments in a Python program?\n",
      "[ragas.testset.evolutions.INFO] seed question generated: \\ud30c\\uc774\\uc36c extension\\uc744 \\uc124\\uce58\\ud558\\ub294 \\uc774\\uc720\\ub294 \\ubb34\\uc5c7\\uc778\\uac00?\n",
      "Failed to multipart ingest runs: langsmith.utils.LangSmithRateLimitError: Rate limit exceeded for https://api.smith.langchain.com/runs/multipart. HTTPError('429 Client Error: Too Many Requests for url: https://api.smith.langchain.com/runs/multipart', '{\"detail\":\"Monthly unique traces usage limit exceeded\"}')trace=d42a82c6-377d-44eb-bc7a-662ba3df5c8f,id=d42a82c6-377d-44eb-bc7a-662ba3df5c8f; trace=429c82d9-0f3c-493f-978e-68f37de2e5fc,id=429c82d9-0f3c-493f-978e-68f37de2e5fc; trace=c8112fed-ce0c-49f9-a940-2cb6fa66d87c,id=c8112fed-ce0c-49f9-a940-2cb6fa66d87c; trace=d0db1cf5-0e35-41d0-8a11-76814992993f,id=d0db1cf5-0e35-41d0-8a11-76814992993f\n",
      "[ragas.testset.filters.DEBUG] filtered question: {'feedback': \"The question asks for the steps involved in executing a program using the 'Run Module' option in IDLE. It is specific and clear in its intent, as it seeks a procedural explanation related to a particular feature ('Run Module') within a specific environment (IDLE). The question is independent and does not rely on external references or unspecified contexts, making it understandable and answerable based on the details provided.\", 'verdict': 1}\n",
      "Failed to multipart ingest runs: langsmith.utils.LangSmithRateLimitError: Rate limit exceeded for https://api.smith.langchain.com/runs/multipart. HTTPError('429 Client Error: Too Many Requests for url: https://api.smith.langchain.com/runs/multipart', '{\"detail\":\"Monthly unique traces usage limit exceeded\"}')trace=bd782404-c49c-4b9d-823b-28177085de1f,id=bd782404-c49c-4b9d-823b-28177085de1f; trace=dc0bf63e-dc46-4bd8-afcd-dbbd884f7b8e,id=dc0bf63e-dc46-4bd8-afcd-dbbd884f7b8e; trace=d0dc717e-6a29-4f61-8219-d9e9fbd804ed,id=d0dc717e-6a29-4f61-8219-d9e9fbd804ed; trace=83abeb40-e1e7-4e90-8c63-a9a89b061470,id=83abeb40-e1e7-4e90-8c63-a9a89b061470\n",
      "[ragas.testset.filters.DEBUG] filtered question: {'feedback': 'The question is clear and specific, asking how C and C++ programming can be used in projects that involve Raspberry Pi and the Internet of Things (IoT). It specifies the programming languages of interest (C and C++), the platform (Raspberry Pi), and the application domain (IoT), making the intent clear. The question is independent and does not rely on external references or unspecified contexts, allowing for a direct and relevant response based on the details provided.', 'verdict': 1}\n",
      "[ragas.testset.evolutions.DEBUG] [MultiContextEvolution] multicontext question generated: How do annotations in Python scripts, which are ignored during execution, assist in understanding the code when using both IDLE and command prompt environments?\n",
      "[ragas.testset.filters.DEBUG] filtered question: {'feedback': 'The question asks for the method to execute a Python program using the IDLE editor. It is clear and specific, as it identifies the programming language (Python) and the tool (IDLE editor) involved, and it seeks a straightforward procedural answer. The question is self-contained and does not rely on external references or additional context, making it understandable and answerable based on the details provided.', 'verdict': 1}\n",
      "[ragas.testset.evolutions.DEBUG] [ConditionalEvolution] simple question generated: How can a Python program be executed using IDLE editor?\n",
      "Failed to multipart ingest runs: langsmith.utils.LangSmithRateLimitError: Rate limit exceeded for https://api.smith.langchain.com/runs/multipart. HTTPError('429 Client Error: Too Many Requests for url: https://api.smith.langchain.com/runs/multipart', '{\"detail\":\"Monthly unique traces usage limit exceeded\"}')trace=ada4fcc0-edb9-4cdd-91d5-8f69dd00d079,id=ada4fcc0-edb9-4cdd-91d5-8f69dd00d079; trace=2cf12b0f-738a-4cf0-b865-c41ffbe7777a,id=2cf12b0f-738a-4cf0-b865-c41ffbe7777a\n",
      "Failed to multipart ingest runs: langsmith.utils.LangSmithRateLimitError: Rate limit exceeded for https://api.smith.langchain.com/runs/multipart. HTTPError('429 Client Error: Too Many Requests for url: https://api.smith.langchain.com/runs/multipart', '{\"detail\":\"Monthly unique traces usage limit exceeded\"}')trace=a59972ab-f376-42a9-8e48-7f29948684ec,id=a59972ab-f376-42a9-8e48-7f29948684ec; trace=5738332d-dd62-4f0e-b05a-5de8bb833e97,id=5738332d-dd62-4f0e-b05a-5de8bb833e97; trace=5d179736-cc03-40a9-aba8-fe09f5fdaac5,id=5d179736-cc03-40a9-aba8-fe09f5fdaac5; trace=9878c290-fbbc-49b5-8a72-02386a234b7b,id=9878c290-fbbc-49b5-8a72-02386a234b7b; trace=2dbac5a0-f4f2-4f3e-9396-b30ab27b9bbe,id=2dbac5a0-f4f2-4f3e-9396-b30ab27b9bbe; trace=bd782404-c49c-4b9d-823b-28177085de1f,id=bd782404-c49c-4b9d-823b-28177085de1f\n",
      "[ragas.testset.filters.DEBUG] filtered question: {'feedback': \"The question asks about the expansion of the user base in relation to the recognition of the value of programs developed using Python. While it specifies the programming language of interest (Python) and the general topic (user base expansion and value recognition), it lacks clarity in terms of the specific metrics or aspects of 'user base expansion' and 'recognition of value' it refers to. It is unclear whether the question seeks quantitative data, qualitative insights, or specific examples. To improve clarity and answerability, the question could specify the type of user base (e.g., developers, companies), the context or timeframe of interest, and the criteria for 'recognition of value' (e.g., industry adoption, academic use, community growth).\", 'verdict': 0}\n",
      "Failed to multipart ingest runs: langsmith.utils.LangSmithRateLimitError: Rate limit exceeded for https://api.smith.langchain.com/runs/multipart. HTTPError('429 Client Error: Too Many Requests for url: https://api.smith.langchain.com/runs/multipart', '{\"detail\":\"Monthly unique traces usage limit exceeded\"}')trace=143ca872-ce79-43de-951b-599f3a871f9b,id=143ca872-ce79-43de-951b-599f3a871f9b; trace=ada4fcc0-edb9-4cdd-91d5-8f69dd00d079,id=ada4fcc0-edb9-4cdd-91d5-8f69dd00d079\n",
      "[ragas.testset.filters.DEBUG] filtered question: {'feedback': 'The question asks about the utilization of Python in the field of the Internet of Things (IoT). It is clear and specific, as it identifies both the programming language (Python) and the domain of interest (IoT). The intent is to understand the role or applications of Python within this field, which is a well-defined query. The question does not rely on external references or unspecified contexts, making it independent and answerable with sufficient domain knowledge.', 'verdict': 1}\n",
      "[ragas.testset.filters.DEBUG] filtered question: {'feedback': \"The question asks for the steps involved in executing a program using the 'Run Module' option in IDLE. It is specific and clear in its intent, as it seeks a procedural explanation related to a particular feature ('Run Module') within a specific environment (IDLE). The question is independent and does not rely on external references or unspecified contexts, making it understandable and answerable based on the details provided.\", 'verdict': 1}\n",
      "[ragas.testset.filters.DEBUG] filtered question: {'feedback': \"The question is in Korean and asks for the reason to install the '파이썬 extension' (Python extension). It is clear in its intent, seeking an explanation or justification for installing a Python extension. The question is independent and does not rely on external references or context, making it understandable and answerable based on the details provided.\", 'verdict': 1}\n",
      "[ragas.testset.evolutions.DEBUG] [ReasoningEvolution] simple question generated: \\ud30c\\uc774\\uc36c extension\\uc744 \\uc124\\uce58\\ud558\\ub294 \\uc774\\uc720\\ub294 \\ubb34\\uc5c7\\uc778\\uac00?\n",
      "Failed to multipart ingest runs: langsmith.utils.LangSmithRateLimitError: Rate limit exceeded for https://api.smith.langchain.com/runs/multipart. HTTPError('429 Client Error: Too Many Requests for url: https://api.smith.langchain.com/runs/multipart', '{\"detail\":\"Monthly unique traces usage limit exceeded\"}')trace=076184d7-1dc3-4547-9047-0f0a23dfa01d,id=076184d7-1dc3-4547-9047-0f0a23dfa01d; trace=84ad7984-b4ab-492c-aafc-ec5e1f98d4d1,id=84ad7984-b4ab-492c-aafc-ec5e1f98d4d1; trace=1d7b9992-e281-4b10-9402-a4eac0df2ad3,id=1d7b9992-e281-4b10-9402-a4eac0df2ad3; trace=3a6b5e13-26cd-4e78-81b5-0a4616790da2,id=3a6b5e13-26cd-4e78-81b5-0a4616790da2; trace=a59972ab-f376-42a9-8e48-7f29948684ec,id=a59972ab-f376-42a9-8e48-7f29948684ec; trace=4d2136cd-d74d-4334-9092-4d8365e94e03,id=4d2136cd-d74d-4334-9092-4d8365e94e03\n",
      "[ragas.testset.evolutions.INFO] seed question generated: \"\\ud30c\\uc774\\uc36c\\uc744 \\uc0ac\\uc6a9\\ud558\\uba74 \\ud504\\ub85c\\uadf8\\ub798\\ubc0d \\uac1c\\ubc1c\\uc5d0 \\uc5b4\\ub5a4 \\ucd94\\uac00 \\uac00\\uce58\\uac00 \\uc788\\ub294\\uac00?\"\n",
      "[ragas.testset.evolutions.INFO] rewritten question: \"In what ways has the user base of Python expanded among developers and companies, and how has the recognition of its value been demonstrated through industry adoption and community growth?\"\n",
      "[ragas.testset.evolutions.DEBUG] answer generated: {'answer': 'C and C++ programming can be utilized in projects involving Raspberry Pi and the Internet of Things by using Python to control devices connected to a Raspberry Pi, such as making a motor run or turning on an LED.', 'verdict': 1}\n",
      "Generating:  10%|█         | 1/10 [00:06<00:59,  6.60s/it][ragas.testset.filters.DEBUG] filtered question: {'feedback': \"The question asks for an explanation of how Python's simple grammar contributes to its ease of learning and use compared to other complex programming languages. It is clear in its intent, specifying the aspect of Python (simple grammar) and the comparison to other languages. The question is independent and does not rely on external references or unspecified contexts, making it understandable and answerable with sufficient domain knowledge about programming languages and their syntax. To further enhance clarity, the question could specify which 'complex languages' it is referring to, although this is not strictly necessary for a general comparison.\", 'verdict': 1}\n",
      "[ragas.testset.evolutions.DEBUG] [ReasoningEvolution] simple question generated: How does Python's simple grammar make it easier to learn and use compared to other complex languages?\n",
      "Failed to multipart ingest runs: langsmith.utils.LangSmithRateLimitError: Rate limit exceeded for https://api.smith.langchain.com/runs/multipart. HTTPError('429 Client Error: Too Many Requests for url: https://api.smith.langchain.com/runs/multipart', '{\"detail\":\"Monthly unique traces usage limit exceeded\"}')trace=1d15e03c-c013-4bb9-8b1e-b1becefcc7f1,id=1d15e03c-c013-4bb9-8b1e-b1becefcc7f1; trace=6dd55ab6-32ac-4945-846d-3238a32bd916,id=6dd55ab6-32ac-4945-846d-3238a32bd916; trace=d6569cae-35ee-4750-a356-635801f3f823,id=d6569cae-35ee-4750-a356-635801f3f823; trace=d42a82c6-377d-44eb-bc7a-662ba3df5c8f,id=d42a82c6-377d-44eb-bc7a-662ba3df5c8f; trace=dc0bf63e-dc46-4bd8-afcd-dbbd884f7b8e,id=dc0bf63e-dc46-4bd8-afcd-dbbd884f7b8e; trace=5d179736-cc03-40a9-aba8-fe09f5fdaac5,id=5d179736-cc03-40a9-aba8-fe09f5fdaac5\n",
      "[ragas.testset.evolutions.DEBUG] answer generated: {'answer': \"To execute a program using the 'Run Module' option in IDLE, first, select [Run → Run Module] from the IDLE editor menu or use the shortcut key F5. When you execute the program, a dialog box appears prompting you to save the file first. After selecting [Save As] and naming the file, such as 'hello.py', the program is executed.\", 'verdict': 1}\n",
      "Generating:  20%|██        | 2/10 [00:06<00:22,  2.85s/it]Failed to multipart ingest runs: langsmith.utils.LangSmithRateLimitError: Rate limit exceeded for https://api.smith.langchain.com/runs/multipart. HTTPError('429 Client Error: Too Many Requests for url: https://api.smith.langchain.com/runs/multipart', '{\"detail\":\"Monthly unique traces usage limit exceeded\"}')trace=44aeec6a-9ec7-4609-a5a8-7f26966848aa,id=44aeec6a-9ec7-4609-a5a8-7f26966848aa; trace=ca6810cd-a70c-4c6e-a7f5-a6ac41901368,id=ca6810cd-a70c-4c6e-a7f5-a6ac41901368; trace=f658984b-cd50-4b94-964a-252b9289bd29,id=f658984b-cd50-4b94-964a-252b9289bd29; trace=323209e3-c61e-4e42-b0d0-49208296eae8,id=323209e3-c61e-4e42-b0d0-49208296eae8; trace=429c82d9-0f3c-493f-978e-68f37de2e5fc,id=429c82d9-0f3c-493f-978e-68f37de2e5fc; trace=076184d7-1dc3-4547-9047-0f0a23dfa01d,id=076184d7-1dc3-4547-9047-0f0a23dfa01d; trace=84ad7984-b4ab-492c-aafc-ec5e1f98d4d1,id=84ad7984-b4ab-492c-aafc-ec5e1f98d4d1\n",
      "[ragas.testset.filters.DEBUG] filtered question: {'feedback': 'The question is clear and specific, asking about the role of annotations in Python scripts in aiding code comprehension, particularly in the contexts of using IDLE and command prompt environments. It specifies the focus on annotations, which are known to be ignored during execution, and seeks to understand their utility in code understanding. The question is independent and does not rely on external references or unspecified contexts, making it understandable and answerable based on the details provided.', 'verdict': 1}\n",
      "Failed to multipart ingest runs: langsmith.utils.LangSmithRateLimitError: Rate limit exceeded for https://api.smith.langchain.com/runs/multipart. HTTPError('429 Client Error: Too Many Requests for url: https://api.smith.langchain.com/runs/multipart', '{\"detail\":\"Monthly unique traces usage limit exceeded\"}')trace=7de6cb38-396b-422b-b300-643f59e2b139,id=7de6cb38-396b-422b-b300-643f59e2b139; trace=143ca872-ce79-43de-951b-599f3a871f9b,id=143ca872-ce79-43de-951b-599f3a871f9b; trace=d6569cae-35ee-4750-a356-635801f3f823,id=d6569cae-35ee-4750-a356-635801f3f823\n",
      "[ragas.testset.filters.DEBUG] filtered question: {'feedback': 'The question is clear and specific, asking for alternative methods to execute a Python program if the IDLE editor is unavailable. It does not rely on external references or context, making it independent and self-contained. The intent is straightforward, seeking information on other ways to run Python code.', 'verdict': 1}\n",
      "[ragas.testset.evolutions.DEBUG] [MultiContextEvolution] multicontext question compressed: \"How do Python annotations help in code clarity in IDLE and cmd?\"\n",
      "Failed to multipart ingest runs: langsmith.utils.LangSmithRateLimitError: Rate limit exceeded for https://api.smith.langchain.com/runs/multipart. HTTPError('429 Client Error: Too Many Requests for url: https://api.smith.langchain.com/runs/multipart', '{\"detail\":\"Monthly unique traces usage limit exceeded\"}')trace=821ab305-1849-40ee-8085-7b8f69d01f2e,id=821ab305-1849-40ee-8085-7b8f69d01f2e; trace=16ac5286-20f6-48b7-b67d-1ecad40e3fe8,id=16ac5286-20f6-48b7-b67d-1ecad40e3fe8; trace=f1d8e00b-24a0-4f80-9519-93c8264fda26,id=f1d8e00b-24a0-4f80-9519-93c8264fda26; trace=35cf7443-dbe9-421f-9d93-17636631d0b8,id=35cf7443-dbe9-421f-9d93-17636631d0b8; trace=5738332d-dd62-4f0e-b05a-5de8bb833e97,id=5738332d-dd62-4f0e-b05a-5de8bb833e97; trace=1d7b9992-e281-4b10-9402-a4eac0df2ad3,id=1d7b9992-e281-4b10-9402-a4eac0df2ad3; trace=f658984b-cd50-4b94-964a-252b9289bd29,id=f658984b-cd50-4b94-964a-252b9289bd29; trace=6dd55ab6-32ac-4945-846d-3238a32bd916,id=6dd55ab6-32ac-4945-846d-3238a32bd916\n",
      "[ragas.testset.evolutions.DEBUG] [ConditionalEvolution] question compressed: \"If IDLE editor is unavailable, how else can a Python program be executed?\"\n",
      "[ragas.testset.filters.DEBUG] filtered question: {'feedback': 'The question is in Korean and asks about the additional value that can be gained from using Python in programming development. It is clear in its intent, seeking information on the benefits or advantages of using Python in the context of programming. The question is independent and does not rely on external references or context, making it understandable and answerable based on the details provided.', 'verdict': 1}\n",
      "Failed to multipart ingest runs: langsmith.utils.LangSmithRateLimitError: Rate limit exceeded for https://api.smith.langchain.com/runs/multipart. HTTPError('429 Client Error: Too Many Requests for url: https://api.smith.langchain.com/runs/multipart', '{\"detail\":\"Monthly unique traces usage limit exceeded\"}')trace=d6cd8dff-bc73-40a1-aa44-234f635f3acb,id=d6cd8dff-bc73-40a1-aa44-234f635f3acb; trace=76482397-8a68-4687-ac6b-b126f64b9782,id=76482397-8a68-4687-ac6b-b126f64b9782; trace=1d15e03c-c013-4bb9-8b1e-b1becefcc7f1,id=1d15e03c-c013-4bb9-8b1e-b1becefcc7f1; trace=821ab305-1849-40ee-8085-7b8f69d01f2e,id=821ab305-1849-40ee-8085-7b8f69d01f2e\n",
      "[ragas.testset.evolutions.DEBUG] answer generated: {'answer': 'Python is utilized in the field of the Internet of Things (IoT) for various applications, such as controlling motors connected to a Raspberry Pi or turning on LEDs. It is used to create interesting projects when working with devices like the Raspberry Pi, which is a very small computer based on Linux.', 'verdict': 1}\n",
      "Generating:  30%|███       | 3/10 [00:08<00:16,  2.38s/it][ragas.testset.filters.DEBUG] filtered question: {'feedback': \"The question is clear in its intent, asking about the expansion of Python's user base among developers and companies, and how its value is recognized through industry adoption and community growth. It specifies the areas of interest (user base expansion, industry adoption, community growth) and seeks information on the ways these have occurred. The question is independent and does not rely on external references or unspecified contexts, making it understandable and answerable with sufficient domain knowledge about Python's development and adoption trends.\", 'verdict': 1}\n",
      "[ragas.testset.evolutions.DEBUG] [MultiContextEvolution] simple question generated: \"In what ways has the user base of Python expanded among developers and companies, and how has the recognition of its value been demonstrated through industry adoption and community growth?\"\n",
      "Failed to multipart ingest runs: langsmith.utils.LangSmithRateLimitError: Rate limit exceeded for https://api.smith.langchain.com/runs/multipart. HTTPError('429 Client Error: Too Many Requests for url: https://api.smith.langchain.com/runs/multipart', '{\"detail\":\"Monthly unique traces usage limit exceeded\"}')trace=714c9d68-481d-44cf-8048-04d86c465457,id=714c9d68-481d-44cf-8048-04d86c465457; trace=25ae4bf8-39e0-4bbb-a17b-cb78f02020a3,id=25ae4bf8-39e0-4bbb-a17b-cb78f02020a3; trace=44aeec6a-9ec7-4609-a5a8-7f26966848aa,id=44aeec6a-9ec7-4609-a5a8-7f26966848aa; trace=d6cd8dff-bc73-40a1-aa44-234f635f3acb,id=d6cd8dff-bc73-40a1-aa44-234f635f3acb\n",
      "[ragas.testset.evolutions.DEBUG] answer generated: {'answer': \"To execute a program using the 'Run Module' option in IDLE, first open the IDLE editor window and write your Python program. Then, go to the menu and select [Run → Run Module] or press the shortcut key F5. If the file is not saved, a dialog will prompt you to save it. After saving, the program will execute, and the results will be displayed in the IDLE shell window.\", 'verdict': 1}\n",
      "Generating:  40%|████      | 4/10 [00:09<00:09,  1.64s/it]Failed to multipart ingest runs: langsmith.utils.LangSmithRateLimitError: Rate limit exceeded for https://api.smith.langchain.com/runs/multipart. HTTPError('429 Client Error: Too Many Requests for url: https://api.smith.langchain.com/runs/multipart', '{\"detail\":\"Monthly unique traces usage limit exceeded\"}')trace=815e698c-8110-4bb2-b9e2-6a2ffbf6ae41,id=815e698c-8110-4bb2-b9e2-6a2ffbf6ae41; trace=ca6810cd-a70c-4c6e-a7f5-a6ac41901368,id=ca6810cd-a70c-4c6e-a7f5-a6ac41901368; trace=16ac5286-20f6-48b7-b67d-1ecad40e3fe8,id=16ac5286-20f6-48b7-b67d-1ecad40e3fe8\n",
      "[ragas.testset.filters.DEBUG] filtered question: {'feedback': \"The question asks why a Py extension needs to be installed before using Py in Visual Studio. It is clear in its intent, seeking an explanation for the necessity of installing a specific extension. However, it could be improved by specifying what 'Py' refers to, as it could mean Python or another tool related to Py. Additionally, mentioning the specific version of Visual Studio could help provide a more precise answer. Overall, the question is mostly clear but could benefit from slight elaboration for complete clarity.\", 'verdict': 1}\n",
      "Failed to multipart ingest runs: langsmith.utils.LangSmithRateLimitError: Rate limit exceeded for https://api.smith.langchain.com/runs/multipart. HTTPError('429 Client Error: Too Many Requests for url: https://api.smith.langchain.com/runs/multipart', '{\"detail\":\"Monthly unique traces usage limit exceeded\"}')trace=35cf7443-dbe9-421f-9d93-17636631d0b8,id=35cf7443-dbe9-421f-9d93-17636631d0b8\n",
      "[ragas.testset.filters.DEBUG] evolution filter: {'reason': 'The first question specifically asks about executing a Python program using the IDLE editor, while the second question is about running Python without IDLE, indicating different constraints and requirements.', 'verdict': 0}\n",
      "[ragas.testset.filters.DEBUG] evolution filter: {'reason': 'The first question asks about the purpose of comments in Python, which is related to code documentation and understanding. The second question is about Python annotations, which are used for type hints and can aid in code clarity. These are different concepts with different purposes and depths of inquiry.', 'verdict': 0}\n",
      "[ragas.testset.evolutions.DEBUG] [MultiContextEvolution] multicontext question generated: How has Python's unique appeal influenced its integration into major tech companies and contributed to its widespread community adoption?\n",
      "[ragas.testset.evolutions.DEBUG] [ReasoningEvolution] question compressed: \"Why install Py extension before using Py in V. Studio?\"\n",
      "[ragas.testset.filters.DEBUG] filtered question: {'feedback': 'The question asks about aspects of Python that facilitate rapid learning and align with human thought processes. It is clear in its intent, seeking specific features or characteristics of the Python programming language that contribute to ease of learning and cognitive alignment. The question is independent and does not rely on external references or context, making it understandable and answerable based on general knowledge of Python. However, to enhance clarity, the question could specify whether it is referring to syntax, libraries, or community support, which are common aspects that might aid learning.', 'verdict': 1}\n",
      "Failed to multipart ingest runs: langsmith.utils.LangSmithRateLimitError: Rate limit exceeded for https://api.smith.langchain.com/runs/multipart. HTTPError('429 Client Error: Too Many Requests for url: https://api.smith.langchain.com/runs/multipart', '{\"detail\":\"Monthly unique traces usage limit exceeded\"}')trace=358ddddb-4639-48e6-bb85-ef884b438cc9,id=358ddddb-4639-48e6-bb85-ef884b438cc9; trace=27956ba3-aa90-4270-8b7a-3bf3736f07c4,id=27956ba3-aa90-4270-8b7a-3bf3736f07c4; trace=b51bc277-22ed-48fd-a8dd-5106922d3e43,id=b51bc277-22ed-48fd-a8dd-5106922d3e43; trace=2966a3f4-b333-4083-9151-bfe6b63637a6,id=2966a3f4-b333-4083-9151-bfe6b63637a6; trace=7de6cb38-396b-422b-b300-643f59e2b139,id=7de6cb38-396b-422b-b300-643f59e2b139; trace=714c9d68-481d-44cf-8048-04d86c465457,id=714c9d68-481d-44cf-8048-04d86c465457; trace=76482397-8a68-4687-ac6b-b126f64b9782,id=76482397-8a68-4687-ac6b-b126f64b9782; trace=815e698c-8110-4bb2-b9e2-6a2ffbf6ae41,id=815e698c-8110-4bb2-b9e2-6a2ffbf6ae41\n",
      "[ragas.testset.evolutions.DEBUG] [ReasoningEvolution] question compressed: What aspect of Python aids rapid learning and aligns with human thought?\n",
      "Failed to multipart ingest runs: langsmith.utils.LangSmithRateLimitError: Rate limit exceeded for https://api.smith.langchain.com/runs/multipart. HTTPError('429 Client Error: Too Many Requests for url: https://api.smith.langchain.com/runs/multipart', '{\"detail\":\"Monthly unique traces usage limit exceeded\"}')trace=974e479d-b271-4dce-b5d5-aafddc5efb40,id=974e479d-b271-4dce-b5d5-aafddc5efb40; trace=c2ccaecc-f62a-448e-983c-6c47b21e18f4,id=c2ccaecc-f62a-448e-983c-6c47b21e18f4; trace=27f9986f-d8ab-49d7-ade0-8ba3c3b516d0,id=27f9986f-d8ab-49d7-ade0-8ba3c3b516d0; trace=f1d8e00b-24a0-4f80-9519-93c8264fda26,id=f1d8e00b-24a0-4f80-9519-93c8264fda26; trace=25ae4bf8-39e0-4bbb-a17b-cb78f02020a3,id=25ae4bf8-39e0-4bbb-a17b-cb78f02020a3; trace=358ddddb-4639-48e6-bb85-ef884b438cc9,id=358ddddb-4639-48e6-bb85-ef884b438cc9\n",
      "[ragas.testset.evolutions.DEBUG] answer generated: {'answer': 'Python is widely used in many IT companies, including Google, Instagram, Netflix, and Amazon, due to its ease of collaboration, maintenance, and the ability to rewrite programs initially written in other languages into Python.', 'verdict': 1}\n",
      "Generating:  50%|█████     | 5/10 [00:11<00:08,  1.77s/it][ragas.testset.filters.DEBUG] evolution filter: {'reason': 'The first question asks for reasons to install a Python extension, while the second question asks why to add a Python extension before using Python in Visual Studio. Both questions are related to Python extensions but have different contexts and constraints.', 'verdict': 0}\n",
      "Failed to multipart ingest runs: langsmith.utils.LangSmithRateLimitError: Rate limit exceeded for https://api.smith.langchain.com/runs/multipart. HTTPError('429 Client Error: Too Many Requests for url: https://api.smith.langchain.com/runs/multipart', '{\"detail\":\"Monthly unique traces usage limit exceeded\"}')trace=92ea6593-7b1f-4c32-8632-9443bc1876c1,id=92ea6593-7b1f-4c32-8632-9443bc1876c1; trace=169f4443-c011-4eec-8ef4-24148b94dc6b,id=169f4443-c011-4eec-8ef4-24148b94dc6b; trace=27956ba3-aa90-4270-8b7a-3bf3736f07c4,id=27956ba3-aa90-4270-8b7a-3bf3736f07c4; trace=974e479d-b271-4dce-b5d5-aafddc5efb40,id=974e479d-b271-4dce-b5d5-aafddc5efb40; trace=27f9986f-d8ab-49d7-ade0-8ba3c3b516d0,id=27f9986f-d8ab-49d7-ade0-8ba3c3b516d0\n",
      "[ragas.testset.filters.DEBUG] filtered question: {'feedback': \"The question is clear in its intent, asking about the influence of Python's unique appeal on its integration into major tech companies and its widespread community adoption. It specifies the aspects of interest (integration into tech companies and community adoption) and seeks to understand the impact of Python's appeal. The question is independent and does not rely on external references or unspecified contexts, making it understandable and answerable with sufficient domain knowledge about Python's characteristics and its role in the tech industry.\", 'verdict': 1}\n",
      "Failed to multipart ingest runs: langsmith.utils.LangSmithRateLimitError: Rate limit exceeded for https://api.smith.langchain.com/runs/multipart. HTTPError('429 Client Error: Too Many Requests for url: https://api.smith.langchain.com/runs/multipart', '{\"detail\":\"Monthly unique traces usage limit exceeded\"}')trace=c59f3b51-d761-4f1f-89ed-af177e57e7fd,id=c59f3b51-d761-4f1f-89ed-af177e57e7fd; trace=c2ccaecc-f62a-448e-983c-6c47b21e18f4,id=c2ccaecc-f62a-448e-983c-6c47b21e18f4\n",
      "[ragas.testset.filters.DEBUG] evolution filter: {'reason': \"The first question specifically focuses on Python's simple grammar and its comparison to other complex languages, while the second question is broader, asking about aspects of Python that aid quick learning and align with human thought, without specifying grammar or comparison to other languages.\", 'verdict': 0}\n",
      "[ragas.testset.evolutions.DEBUG] [MultiContextEvolution] multicontext question compressed: \"How has Python's appeal shaped its role in tech firms and community growth?\"\n",
      "Failed to multipart ingest runs: langsmith.utils.LangSmithRateLimitError: Rate limit exceeded for https://api.smith.langchain.com/runs/multipart. HTTPError('429 Client Error: Too Many Requests for url: https://api.smith.langchain.com/runs/multipart', '{\"detail\":\"Monthly unique traces usage limit exceeded\"}')trace=e56573e6-1cef-4860-8881-f2dd46a6743e,id=e56573e6-1cef-4860-8881-f2dd46a6743e; trace=0377031a-fbba-47de-8c22-c0bf5ae12d75,id=0377031a-fbba-47de-8c22-c0bf5ae12d75; trace=2966a3f4-b333-4083-9151-bfe6b63637a6,id=2966a3f4-b333-4083-9151-bfe6b63637a6; trace=c59f3b51-d761-4f1f-89ed-af177e57e7fd,id=c59f3b51-d761-4f1f-89ed-af177e57e7fd\n",
      "[ragas.testset.evolutions.DEBUG] answer generated: {'answer': \"To run a Python program if IDLE isn't available, you can use the command prompt. Open the command prompt and execute the Python file by navigating to its directory and typing the command to run the file.\", 'verdict': 1}\n",
      "Generating:  60%|██████    | 6/10 [00:12<00:07,  1.75s/it][ragas.testset.evolutions.DEBUG] answer generated: {'answer': 'The first thing you need to do to use Python in Visual Studio is to install the Python extension. The Python extension can be installed from the [Extensions] menu in Visual Studio Code.', 'verdict': 1}\n",
      "Generating:  70%|███████   | 7/10 [00:13<00:03,  1.30s/it]Failed to multipart ingest runs: langsmith.utils.LangSmithRateLimitError: Rate limit exceeded for https://api.smith.langchain.com/runs/multipart. HTTPError('429 Client Error: Too Many Requests for url: https://api.smith.langchain.com/runs/multipart', '{\"detail\":\"Monthly unique traces usage limit exceeded\"}')trace=6f7caf39-e161-44bf-944d-5548b09f4439,id=6f7caf39-e161-44bf-944d-5548b09f4439; trace=5caadeab-5366-48a4-ba01-ad11b844ede5,id=5caadeab-5366-48a4-ba01-ad11b844ede5; trace=92ea6593-7b1f-4c32-8632-9443bc1876c1,id=92ea6593-7b1f-4c32-8632-9443bc1876c1; trace=e56573e6-1cef-4860-8881-f2dd46a6743e,id=e56573e6-1cef-4860-8881-f2dd46a6743e; trace=169f4443-c011-4eec-8ef4-24148b94dc6b,id=169f4443-c011-4eec-8ef4-24148b94dc6b\n",
      "Failed to multipart ingest runs: langsmith.utils.LangSmithRateLimitError: Rate limit exceeded for https://api.smith.langchain.com/runs/multipart. HTTPError('429 Client Error: Too Many Requests for url: https://api.smith.langchain.com/runs/multipart', '{\"detail\":\"Monthly unique traces usage limit exceeded\"}')trace=0377031a-fbba-47de-8c22-c0bf5ae12d75,id=0377031a-fbba-47de-8c22-c0bf5ae12d75\n",
      "Failed to multipart ingest runs: langsmith.utils.LangSmithRateLimitError: Rate limit exceeded for https://api.smith.langchain.com/runs/multipart. HTTPError('429 Client Error: Too Many Requests for url: https://api.smith.langchain.com/runs/multipart', '{\"detail\":\"Monthly unique traces usage limit exceeded\"}')trace=12bd5d15-8f31-4698-963f-f39562aa4d78,id=12bd5d15-8f31-4698-963f-f39562aa4d78; trace=b51bc277-22ed-48fd-a8dd-5106922d3e43,id=b51bc277-22ed-48fd-a8dd-5106922d3e43\n",
      "[ragas.testset.evolutions.DEBUG] answer generated: {'answer': 'The answer to given question is not present in context', 'verdict': -1}\n",
      "Generating:  80%|████████  | 8/10 [00:14<00:02,  1.25s/it]Failed to multipart ingest runs: langsmith.utils.LangSmithRateLimitError: Rate limit exceeded for https://api.smith.langchain.com/runs/multipart. HTTPError('429 Client Error: Too Many Requests for url: https://api.smith.langchain.com/runs/multipart', '{\"detail\":\"Monthly unique traces usage limit exceeded\"}')trace=e6581a6e-f969-46ef-9dce-4776c49419eb,id=e6581a6e-f969-46ef-9dce-4776c49419eb; trace=6f7caf39-e161-44bf-944d-5548b09f4439,id=6f7caf39-e161-44bf-944d-5548b09f4439\n",
      "[ragas.testset.filters.DEBUG] evolution filter: {'reason': \"The first question asks about the expansion of Python's user base, industry adoption, and community growth, requiring a detailed exploration of these aspects. The second question focuses on Python's appeal and its role in tech firms and community growth, which is broader and less specific about user base expansion and industry recognition.\", 'verdict': 0}\n",
      "Failed to multipart ingest runs: langsmith.utils.LangSmithRateLimitError: Rate limit exceeded for https://api.smith.langchain.com/runs/multipart. HTTPError('429 Client Error: Too Many Requests for url: https://api.smith.langchain.com/runs/multipart', '{\"detail\":\"Monthly unique traces usage limit exceeded\"}')trace=12bd5d15-8f31-4698-963f-f39562aa4d78,id=12bd5d15-8f31-4698-963f-f39562aa4d78\n",
      "[ragas.testset.evolutions.DEBUG] answer generated: {'answer': 'Python is a human-friendly language with simple syntax that can be learned quickly. It allows people to express their thoughts directly, making it easy to use and understand.', 'verdict': 1}\n",
      "Generating:  90%|█████████ | 9/10 [00:15<00:01,  1.09s/it]Failed to multipart ingest runs: langsmith.utils.LangSmithRateLimitError: Rate limit exceeded for https://api.smith.langchain.com/runs/multipart. HTTPError('429 Client Error: Too Many Requests for url: https://api.smith.langchain.com/runs/multipart', '{\"detail\":\"Monthly unique traces usage limit exceeded\"}')trace=31ebcd61-29df-4af7-ba53-d8c5e58b26eb,id=31ebcd61-29df-4af7-ba53-d8c5e58b26eb; trace=5caadeab-5366-48a4-ba01-ad11b844ede5,id=5caadeab-5366-48a4-ba01-ad11b844ede5\n",
      "Failed to multipart ingest runs: langsmith.utils.LangSmithRateLimitError: Rate limit exceeded for https://api.smith.langchain.com/runs/multipart. HTTPError('429 Client Error: Too Many Requests for url: https://api.smith.langchain.com/runs/multipart', '{\"detail\":\"Monthly unique traces usage limit exceeded\"}')trace=e6581a6e-f969-46ef-9dce-4776c49419eb,id=e6581a6e-f969-46ef-9dce-4776c49419eb\n",
      "Failed to multipart ingest runs: langsmith.utils.LangSmithRateLimitError: Rate limit exceeded for https://api.smith.langchain.com/runs/multipart. HTTPError('429 Client Error: Too Many Requests for url: https://api.smith.langchain.com/runs/multipart', '{\"detail\":\"Monthly unique traces usage limit exceeded\"}')trace=a8b15f36-dd3b-4f57-b48f-51fd6801a5e1,id=a8b15f36-dd3b-4f57-b48f-51fd6801a5e1; trace=31ebcd61-29df-4af7-ba53-d8c5e58b26eb,id=31ebcd61-29df-4af7-ba53-d8c5e58b26eb\n",
      "[ragas.testset.evolutions.DEBUG] answer generated: {'answer': 'Python is widely used in tech firms due to its ease of collaboration and maintenance, making it a preferred choice for many IT companies like Google, Instagram, Netflix, and Amazon. Its appeal has led to a growing user base and the redevelopment of many programs originally written in other languages into Python.', 'verdict': 1}\n",
      "Generating: 100%|██████████| 10/10 [00:17<00:00,  1.78s/it]\n",
      "Failed to multipart ingest runs: langsmith.utils.LangSmithRateLimitError: Rate limit exceeded for https://api.smith.langchain.com/runs/multipart. HTTPError('429 Client Error: Too Many Requests for url: https://api.smith.langchain.com/runs/multipart', '{\"detail\":\"Monthly unique traces usage limit exceeded\"}')trace=a8b15f36-dd3b-4f57-b48f-51fd6801a5e1,id=a8b15f36-dd3b-4f57-b48f-51fd6801a5e1\n"
     ]
    }
   ],
   "source": [
    "testset = generator.generate_with_langchain_docs(\n",
    "    documents = docs,\n",
    "    test_size = 10,\n",
    "    distributions = distributions,\n",
    "    with_debugging_logs = True,\n",
    "    # 로그 활성화\n",
    "    raise_exceptions= False\n",
    "    # 예외가 발생해도 계속 진행, 예외 발생 시 문서가 처리 되지 않거나 문서에 기록됨\n",
    ")"
   ]
  },
  {
   "cell_type": "code",
   "execution_count": 25,
   "metadata": {},
   "outputs": [
    {
     "data": {
      "text/html": [
       "<div>\n",
       "<style scoped>\n",
       "    .dataframe tbody tr th:only-of-type {\n",
       "        vertical-align: middle;\n",
       "    }\n",
       "\n",
       "    .dataframe tbody tr th {\n",
       "        vertical-align: top;\n",
       "    }\n",
       "\n",
       "    .dataframe thead th {\n",
       "        text-align: right;\n",
       "    }\n",
       "</style>\n",
       "<table border=\"1\" class=\"dataframe\">\n",
       "  <thead>\n",
       "    <tr style=\"text-align: right;\">\n",
       "      <th></th>\n",
       "      <th>question</th>\n",
       "      <th>contexts</th>\n",
       "      <th>ground_truth</th>\n",
       "      <th>evolution_type</th>\n",
       "      <th>metadata</th>\n",
       "      <th>episode_done</th>\n",
       "    </tr>\n",
       "  </thead>\n",
       "  <tbody>\n",
       "    <tr>\n",
       "      <th>0</th>\n",
       "      <td>What steps are involved in executing a program...</td>\n",
       "      <td>[IDLE 셸은 IDLE 에디터에서 실행한 프로그램의 결과가 표시되는 창으로, 앞에...</td>\n",
       "      <td>To execute a program using the 'Run Module' op...</td>\n",
       "      <td>simple</td>\n",
       "      <td>[{'source': './data/converted_data_test_with_m...</td>\n",
       "      <td>True</td>\n",
       "    </tr>\n",
       "    <tr>\n",
       "      <th>1</th>\n",
       "      <td>\\ud30c\\uc774\\uc36c\\uc744 \\uc0ac\\uc6a9\\ud558\\ub...</td>\n",
       "      <td>[1장\\n01장 파이썬이란 무엇인가?\\n필자는 파이썬의 프롬프트(&gt;&gt;&gt;)를 처음 본...</td>\n",
       "      <td>Python is widely used in many IT companies, in...</td>\n",
       "      <td>simple</td>\n",
       "      <td>[{'source': './data/converted_data_test_with_m...</td>\n",
       "      <td>True</td>\n",
       "    </tr>\n",
       "    <tr>\n",
       "      <th>2</th>\n",
       "      <td>How can C and C++ programming be utilized in p...</td>\n",
       "      <td>[있기 때문이다. C나 C++로 만든 프로그램을 파이썬에서 사용할 수 있고 파이썬으...</td>\n",
       "      <td>C and C++ programming can be utilized in proje...</td>\n",
       "      <td>simple</td>\n",
       "      <td>[{'source': './data/converted_data_test_with_m...</td>\n",
       "      <td>True</td>\n",
       "    </tr>\n",
       "    <tr>\n",
       "      <th>3</th>\n",
       "      <td>How is Python utilized in the field of the Int...</td>\n",
       "      <td>[있기 때문이다. C나 C++로 만든 프로그램을 파이썬에서 사용할 수 있고 파이썬으...</td>\n",
       "      <td>Python is utilized in the field of the Interne...</td>\n",
       "      <td>simple</td>\n",
       "      <td>[{'source': './data/converted_data_test_with_m...</td>\n",
       "      <td>True</td>\n",
       "    </tr>\n",
       "    <tr>\n",
       "      <th>4</th>\n",
       "      <td>What steps are involved in executing a program...</td>\n",
       "      <td>[IDLE 셸은 IDLE 에디터에서 실행한 프로그램의 결과가 표시되는 창으로, 앞에...</td>\n",
       "      <td>To execute a program using the 'Run Module' op...</td>\n",
       "      <td>simple</td>\n",
       "      <td>[{'source': './data/converted_data_test_with_m...</td>\n",
       "      <td>True</td>\n",
       "    </tr>\n",
       "    <tr>\n",
       "      <th>5</th>\n",
       "      <td>Why add Py ext. before using Py in V. Studio?</td>\n",
       "      <td>[운로드 사이트에서 내려받을 수 있다.\\n비주얼 스튜디오 코드는 파이썬 전용 에디터...</td>\n",
       "      <td>The first thing you need to do to use Python i...</td>\n",
       "      <td>reasoning</td>\n",
       "      <td>[{'source': './data/converted_data_test_with_m...</td>\n",
       "      <td>True</td>\n",
       "    </tr>\n",
       "    <tr>\n",
       "      <th>6</th>\n",
       "      <td>What in Python helps quick learning and aligns...</td>\n",
       "      <td>[• 파이썬은 인간다운 언어이다\\n• 문법이 쉬워 빠르게 배울 수 있다\\n• 무료이...</td>\n",
       "      <td>Python is a human-friendly language with simpl...</td>\n",
       "      <td>reasoning</td>\n",
       "      <td>[{'source': './data/converted_data_test_with_m...</td>\n",
       "      <td>True</td>\n",
       "    </tr>\n",
       "    <tr>\n",
       "      <th>7</th>\n",
       "      <td>How has Python's appeal shaped its role in tec...</td>\n",
       "      <td>[1장\\n01장 파이썬이란 무엇인가?\\n필자는 파이썬의 프롬프트(&gt;&gt;&gt;)를 처음 본...</td>\n",
       "      <td>Python is widely used in tech firms due to its...</td>\n",
       "      <td>multi_context</td>\n",
       "      <td>[{'source': './data/converted_data_test_with_m...</td>\n",
       "      <td>True</td>\n",
       "    </tr>\n",
       "    <tr>\n",
       "      <th>8</th>\n",
       "      <td>How do Python annotations help in code clarity...</td>\n",
       "      <td>[IDLE 셸은 IDLE 에디터에서 실행한 프로그램의 결과가 표시되는 창으로, 앞에...</td>\n",
       "      <td>The answer to given question is not present in...</td>\n",
       "      <td>multi_context</td>\n",
       "      <td>[{'source': './data/converted_data_test_with_m...</td>\n",
       "      <td>True</td>\n",
       "    </tr>\n",
       "    <tr>\n",
       "      <th>9</th>\n",
       "      <td>How to run Python if IDLE isn't available?</td>\n",
       "      <td>[상 .py로 해야 한다. .py는 파이썬 파일이라는 것을 알려 주는 확장자이다.\\...</td>\n",
       "      <td>To run a Python program if IDLE isn't availabl...</td>\n",
       "      <td>conditional</td>\n",
       "      <td>[{'source': './data/converted_data_test_with_m...</td>\n",
       "      <td>True</td>\n",
       "    </tr>\n",
       "  </tbody>\n",
       "</table>\n",
       "</div>"
      ],
      "text/plain": [
       "                                            question  \\\n",
       "0  What steps are involved in executing a program...   \n",
       "1  \\ud30c\\uc774\\uc36c\\uc744 \\uc0ac\\uc6a9\\ud558\\ub...   \n",
       "2  How can C and C++ programming be utilized in p...   \n",
       "3  How is Python utilized in the field of the Int...   \n",
       "4  What steps are involved in executing a program...   \n",
       "5      Why add Py ext. before using Py in V. Studio?   \n",
       "6  What in Python helps quick learning and aligns...   \n",
       "7  How has Python's appeal shaped its role in tec...   \n",
       "8  How do Python annotations help in code clarity...   \n",
       "9         How to run Python if IDLE isn't available?   \n",
       "\n",
       "                                            contexts  \\\n",
       "0  [IDLE 셸은 IDLE 에디터에서 실행한 프로그램의 결과가 표시되는 창으로, 앞에...   \n",
       "1  [1장\\n01장 파이썬이란 무엇인가?\\n필자는 파이썬의 프롬프트(>>>)를 처음 본...   \n",
       "2  [있기 때문이다. C나 C++로 만든 프로그램을 파이썬에서 사용할 수 있고 파이썬으...   \n",
       "3  [있기 때문이다. C나 C++로 만든 프로그램을 파이썬에서 사용할 수 있고 파이썬으...   \n",
       "4  [IDLE 셸은 IDLE 에디터에서 실행한 프로그램의 결과가 표시되는 창으로, 앞에...   \n",
       "5  [운로드 사이트에서 내려받을 수 있다.\\n비주얼 스튜디오 코드는 파이썬 전용 에디터...   \n",
       "6  [• 파이썬은 인간다운 언어이다\\n• 문법이 쉬워 빠르게 배울 수 있다\\n• 무료이...   \n",
       "7  [1장\\n01장 파이썬이란 무엇인가?\\n필자는 파이썬의 프롬프트(>>>)를 처음 본...   \n",
       "8  [IDLE 셸은 IDLE 에디터에서 실행한 프로그램의 결과가 표시되는 창으로, 앞에...   \n",
       "9  [상 .py로 해야 한다. .py는 파이썬 파일이라는 것을 알려 주는 확장자이다.\\...   \n",
       "\n",
       "                                        ground_truth evolution_type  \\\n",
       "0  To execute a program using the 'Run Module' op...         simple   \n",
       "1  Python is widely used in many IT companies, in...         simple   \n",
       "2  C and C++ programming can be utilized in proje...         simple   \n",
       "3  Python is utilized in the field of the Interne...         simple   \n",
       "4  To execute a program using the 'Run Module' op...         simple   \n",
       "5  The first thing you need to do to use Python i...      reasoning   \n",
       "6  Python is a human-friendly language with simpl...      reasoning   \n",
       "7  Python is widely used in tech firms due to its...  multi_context   \n",
       "8  The answer to given question is not present in...  multi_context   \n",
       "9  To run a Python program if IDLE isn't availabl...    conditional   \n",
       "\n",
       "                                            metadata  episode_done  \n",
       "0  [{'source': './data/converted_data_test_with_m...          True  \n",
       "1  [{'source': './data/converted_data_test_with_m...          True  \n",
       "2  [{'source': './data/converted_data_test_with_m...          True  \n",
       "3  [{'source': './data/converted_data_test_with_m...          True  \n",
       "4  [{'source': './data/converted_data_test_with_m...          True  \n",
       "5  [{'source': './data/converted_data_test_with_m...          True  \n",
       "6  [{'source': './data/converted_data_test_with_m...          True  \n",
       "7  [{'source': './data/converted_data_test_with_m...          True  \n",
       "8  [{'source': './data/converted_data_test_with_m...          True  \n",
       "9  [{'source': './data/converted_data_test_with_m...          True  "
      ]
     },
     "execution_count": 25,
     "metadata": {},
     "output_type": "execute_result"
    }
   ],
   "source": [
    "test_df = testset.to_pandas()\n",
    "test_df"
   ]
  },
  {
   "cell_type": "code",
   "execution_count": 26,
   "metadata": {},
   "outputs": [],
   "source": [
    "df = test_df"
   ]
  },
  {
   "cell_type": "code",
   "execution_count": 27,
   "metadata": {},
   "outputs": [
    {
     "data": {
      "text/html": [
       "<div>\n",
       "<style scoped>\n",
       "    .dataframe tbody tr th:only-of-type {\n",
       "        vertical-align: middle;\n",
       "    }\n",
       "\n",
       "    .dataframe tbody tr th {\n",
       "        vertical-align: top;\n",
       "    }\n",
       "\n",
       "    .dataframe thead th {\n",
       "        text-align: right;\n",
       "    }\n",
       "</style>\n",
       "<table border=\"1\" class=\"dataframe\">\n",
       "  <thead>\n",
       "    <tr style=\"text-align: right;\">\n",
       "      <th></th>\n",
       "      <th>question</th>\n",
       "      <th>contexts</th>\n",
       "      <th>ground_truth</th>\n",
       "      <th>evolution_type</th>\n",
       "      <th>metadata</th>\n",
       "      <th>episode_done</th>\n",
       "    </tr>\n",
       "  </thead>\n",
       "  <tbody>\n",
       "    <tr>\n",
       "      <th>0</th>\n",
       "      <td>What steps are involved in executing a program...</td>\n",
       "      <td>[IDLE 셸은 IDLE 에디터에서 실행한 프로그램의 결과가 표시되는 창으로, 앞에...</td>\n",
       "      <td>To execute a program using the 'Run Module' op...</td>\n",
       "      <td>simple</td>\n",
       "      <td>[{'source': './data/converted_data_test_with_m...</td>\n",
       "      <td>True</td>\n",
       "    </tr>\n",
       "    <tr>\n",
       "      <th>1</th>\n",
       "      <td>\\ud30c\\uc774\\uc36c\\uc744 \\uc0ac\\uc6a9\\ud558\\ub...</td>\n",
       "      <td>[1장\\n01장 파이썬이란 무엇인가?\\n필자는 파이썬의 프롬프트(&gt;&gt;&gt;)를 처음 본...</td>\n",
       "      <td>Python is widely used in many IT companies, in...</td>\n",
       "      <td>simple</td>\n",
       "      <td>[{'source': './data/converted_data_test_with_m...</td>\n",
       "      <td>True</td>\n",
       "    </tr>\n",
       "    <tr>\n",
       "      <th>2</th>\n",
       "      <td>How can C and C++ programming be utilized in p...</td>\n",
       "      <td>[있기 때문이다. C나 C++로 만든 프로그램을 파이썬에서 사용할 수 있고 파이썬으...</td>\n",
       "      <td>C and C++ programming can be utilized in proje...</td>\n",
       "      <td>simple</td>\n",
       "      <td>[{'source': './data/converted_data_test_with_m...</td>\n",
       "      <td>True</td>\n",
       "    </tr>\n",
       "    <tr>\n",
       "      <th>3</th>\n",
       "      <td>How is Python utilized in the field of the Int...</td>\n",
       "      <td>[있기 때문이다. C나 C++로 만든 프로그램을 파이썬에서 사용할 수 있고 파이썬으...</td>\n",
       "      <td>Python is utilized in the field of the Interne...</td>\n",
       "      <td>simple</td>\n",
       "      <td>[{'source': './data/converted_data_test_with_m...</td>\n",
       "      <td>True</td>\n",
       "    </tr>\n",
       "    <tr>\n",
       "      <th>4</th>\n",
       "      <td>What steps are involved in executing a program...</td>\n",
       "      <td>[IDLE 셸은 IDLE 에디터에서 실행한 프로그램의 결과가 표시되는 창으로, 앞에...</td>\n",
       "      <td>To execute a program using the 'Run Module' op...</td>\n",
       "      <td>simple</td>\n",
       "      <td>[{'source': './data/converted_data_test_with_m...</td>\n",
       "      <td>True</td>\n",
       "    </tr>\n",
       "  </tbody>\n",
       "</table>\n",
       "</div>"
      ],
      "text/plain": [
       "                                            question  \\\n",
       "0  What steps are involved in executing a program...   \n",
       "1  \\ud30c\\uc774\\uc36c\\uc744 \\uc0ac\\uc6a9\\ud558\\ub...   \n",
       "2  How can C and C++ programming be utilized in p...   \n",
       "3  How is Python utilized in the field of the Int...   \n",
       "4  What steps are involved in executing a program...   \n",
       "\n",
       "                                            contexts  \\\n",
       "0  [IDLE 셸은 IDLE 에디터에서 실행한 프로그램의 결과가 표시되는 창으로, 앞에...   \n",
       "1  [1장\\n01장 파이썬이란 무엇인가?\\n필자는 파이썬의 프롬프트(>>>)를 처음 본...   \n",
       "2  [있기 때문이다. C나 C++로 만든 프로그램을 파이썬에서 사용할 수 있고 파이썬으...   \n",
       "3  [있기 때문이다. C나 C++로 만든 프로그램을 파이썬에서 사용할 수 있고 파이썬으...   \n",
       "4  [IDLE 셸은 IDLE 에디터에서 실행한 프로그램의 결과가 표시되는 창으로, 앞에...   \n",
       "\n",
       "                                        ground_truth evolution_type  \\\n",
       "0  To execute a program using the 'Run Module' op...         simple   \n",
       "1  Python is widely used in many IT companies, in...         simple   \n",
       "2  C and C++ programming can be utilized in proje...         simple   \n",
       "3  Python is utilized in the field of the Interne...         simple   \n",
       "4  To execute a program using the 'Run Module' op...         simple   \n",
       "\n",
       "                                            metadata  episode_done  \n",
       "0  [{'source': './data/converted_data_test_with_m...          True  \n",
       "1  [{'source': './data/converted_data_test_with_m...          True  \n",
       "2  [{'source': './data/converted_data_test_with_m...          True  \n",
       "3  [{'source': './data/converted_data_test_with_m...          True  \n",
       "4  [{'source': './data/converted_data_test_with_m...          True  "
      ]
     },
     "execution_count": 27,
     "metadata": {},
     "output_type": "execute_result"
    }
   ],
   "source": [
    "df.head()"
   ]
  },
  {
   "cell_type": "code",
   "execution_count": 46,
   "metadata": {},
   "outputs": [
    {
     "data": {
      "text/plain": [
       "Dataset({\n",
       "    features: ['question', 'contexts', 'ground_truth', 'evolution_type', 'metadata', 'episode_done'],\n",
       "    num_rows: 10\n",
       "})"
      ]
     },
     "execution_count": 46,
     "metadata": {},
     "output_type": "execute_result"
    }
   ],
   "source": [
    "from datasets import Dataset\n",
    "\n",
    "test_dataset = Dataset.from_pandas(df)\n",
    "test_dataset"
   ]
  },
  {
   "cell_type": "code",
   "execution_count": 47,
   "metadata": {},
   "outputs": [],
   "source": [
    "import ast\n",
    "def convert_to_list(example):\n",
    "    contexts = ast.literal_eval(example['contexts'])\n",
    "    return {'contexts':contexts}"
   ]
  },
  {
   "cell_type": "code",
   "execution_count": 48,
   "metadata": {},
   "outputs": [],
   "source": [
    "# test_dataset = test_dataset.map(convert_to_list)"
   ]
  },
  {
   "cell_type": "code",
   "execution_count": 49,
   "metadata": {},
   "outputs": [],
   "source": [
    "from langchain_text_splitters import RecursiveCharacterTextSplitter\n",
    "from langchain_community.document_loaders import PyMuPDFLoader\n",
    "from langchain_community.vectorstores import FAISS\n",
    "from langchain_core.output_parsers import StrOutputParser\n",
    "from langchain_core.runnables import RunnablePassthrough\n",
    "from langchain_core.prompts import PromptTemplate\n",
    "from langchain_openai import ChatOpenAI, OpenAIEmbeddings"
   ]
  },
  {
   "cell_type": "code",
   "execution_count": null,
   "metadata": {},
   "outputs": [],
   "source": [
    "loader = PyMuPDFLoader('./data/converted_data_with_metadata.pdf')\n",
    "docs = loader.load()"
   ]
  },
  {
   "cell_type": "code",
   "execution_count": null,
   "metadata": {},
   "outputs": [],
   "source": [
    "text_splitter = RecursiveCharacterTextSplitter(chunk_size = 1100, chunk_overlap = 50)\n",
    "split_documents = text_splitter.split_documents(docs)"
   ]
  },
  {
   "cell_type": "code",
   "execution_count": 52,
   "metadata": {},
   "outputs": [],
   "source": [
    "embeddings = OpenAIEmbeddings()"
   ]
  },
  {
   "cell_type": "code",
   "execution_count": 53,
   "metadata": {},
   "outputs": [],
   "source": [
    "vectorstore = FAISS.from_documents(documents=split_documents, embedding=embeddings)"
   ]
  },
  {
   "cell_type": "code",
   "execution_count": 54,
   "metadata": {},
   "outputs": [],
   "source": [
    "retriever = vectorstore.as_retriever()"
   ]
  },
  {
   "cell_type": "code",
   "execution_count": 71,
   "metadata": {},
   "outputs": [],
   "source": [
    "prompt = PromptTemplate.from_template(\n",
    "    \"\"\"당신은 질문에 답변을 수행하는 파이썬 관련 용어 사전을 제공하는 학습 비서입니다. \n",
    "    당신은 주어진 context에서 주어진 question에 답하는 것을 수행합니다. 검색된 결과인 다음 context를 사용하여 질문인 question에 답하세요.\n",
    "    만약, context에서 답을 찾을 수 없거나, 답을 모른다면 '주어진 정보에서 질문에 대한 정보를 찾을 수 없습니다.'라고 한글로 질문하고 답변해 주세요.\n",
    "    이름이나 기술적인 용어는 번역하지 않고 그대로 출력해주세요.\n",
    "    \n",
    "    \n",
    "    # Context : {context}\n",
    "    # Question : {question}\n",
    "    # Answer :\n",
    "    \"\"\"\n",
    ")"
   ]
  },
  {
   "cell_type": "code",
   "execution_count": 72,
   "metadata": {},
   "outputs": [],
   "source": [
    "llm = ChatOpenAI(model = 'gpt-4o-mini', temperature = 0)"
   ]
  },
  {
   "cell_type": "code",
   "execution_count": 73,
   "metadata": {},
   "outputs": [],
   "source": [
    "chain = (\n",
    "    {'context' : retriever, 'question' : RunnablePassthrough()}\n",
    "    | prompt\n",
    "    | llm\n",
    "    | StrOutputParser()\n",
    ")"
   ]
  },
  {
   "cell_type": "code",
   "execution_count": 74,
   "metadata": {},
   "outputs": [],
   "source": [
    "batch_dataset = []\n",
    "for question in test_dataset['question']:\n",
    "    batch_dataset.append(question)"
   ]
  },
  {
   "cell_type": "code",
   "execution_count": 75,
   "metadata": {},
   "outputs": [
    {
     "data": {
      "text/plain": [
       "['What steps are involved in executing a program using the \"Run Module\" option in IDLE?',\n",
       " '\\\\ud30c\\\\uc774\\\\uc36c\\\\uc744 \\\\uc0ac\\\\uc6a9\\\\ud558\\\\uba74 \\\\ud504\\\\ub85c\\\\uadf8\\\\ub798\\\\ubc0d \\\\uac1c\\\\ubc1c\\\\uc5d0 \\\\uc5b4\\\\ub5a4 \\\\ucd94\\\\uac00 \\\\uac00\\\\uce58\\\\uac00 \\\\uc788\\\\ub294\\\\uac00?',\n",
       " 'How can C and C++ programming be utilized in projects involving Raspberry Pi and the Internet of Things?']"
      ]
     },
     "execution_count": 75,
     "metadata": {},
     "output_type": "execute_result"
    }
   ],
   "source": [
    "batch_dataset[:3]"
   ]
  },
  {
   "cell_type": "code",
   "execution_count": 76,
   "metadata": {},
   "outputs": [
    {
     "data": {
      "text/plain": [
       "['IDLE에서 \"Run Module\" 옵션을 사용하여 프로그램을 실행하는 단계는 다음과 같습니다:\\n\\n1. IDLE 에디터를 실행합니다.\\n2. 메뉴에서 [File → New File]을 선택하여 빈 창을 엽니다.\\n3. 파이썬 프로그램을 작성합니다. 예를 들어, `# hello.py`와 같은 주석과 함께 `print(\"Hello World\")`를 작성합니다.\\n4. 프로그램을 저장합니다. 파일 이름의 확장자는 항상 .py로 해야 하며, 적절한 디렉터리에 저장합니다.\\n5. 메뉴에서 [Run → Run Module]을 선택하거나 단축키 F5를 눌러 프로그램을 실행합니다.\\n6. 프로그램 실행 시 파일을 먼저 저장하라는 대화 상자가 나타나면 [확인]을 선택합니다.\\n\\n이 과정을 통해 IDLE에서 작성한 파이썬 프로그램을 실행할 수 있습니다.',\n",
       " '주어진 정보에서 질문에 대한 정보를 찾을 수 없습니다.',\n",
       " '주어진 정보에서 질문에 대한 정보를 찾을 수 없습니다.']"
      ]
     },
     "execution_count": 76,
     "metadata": {},
     "output_type": "execute_result"
    }
   ],
   "source": [
    "answer = chain.batch(batch_dataset)\n",
    "answer[:3]"
   ]
  },
  {
   "cell_type": "code",
   "execution_count": 77,
   "metadata": {},
   "outputs": [],
   "source": [
    "if 'answer' in test_dataset.column_names:\n",
    "    test_dataset = test_dataset.remove_columns(['answer']).add_column('answer', answer)\n",
    "else:\n",
    "    test_dataset = test_dataset.add_column('answer', answer)"
   ]
  },
  {
   "cell_type": "code",
   "execution_count": 78,
   "metadata": {},
   "outputs": [
    {
     "data": {
      "text/plain": [
       "Dataset({\n",
       "    features: ['question', 'contexts', 'ground_truth', 'evolution_type', 'metadata', 'episode_done', 'answer'],\n",
       "    num_rows: 10\n",
       "})"
      ]
     },
     "execution_count": 78,
     "metadata": {},
     "output_type": "execute_result"
    }
   ],
   "source": [
    "test_dataset"
   ]
  },
  {
   "cell_type": "code",
   "execution_count": 79,
   "metadata": {},
   "outputs": [],
   "source": [
    "from ragas import evaluate\n",
    "from ragas.metrics import answer_relevancy,faithfulness,context_recall,context_precision"
   ]
  },
  {
   "cell_type": "code",
   "execution_count": null,
   "metadata": {},
   "outputs": [
    {
     "name": "stderr",
     "output_type": "stream",
     "text": [
      "Evaluating: 100%|██████████| 40/40 [00:51<00:00,  1.29s/it]\n"
     ]
    }
   ],
   "source": [
    "result = evaluate(\n",
    "    dataset = 3,\n",
    "    metrics = [\n",
    "        answer_relevancy,\n",
    "        faithfulness,\n",
    "        context_recall,\n",
    "        context_precision\n",
    "    ]\n",
    ")\n",
    "\n",
    "\n",
    "# answer_relevancy : 모델이 문맥에서 중요한 정보를 잘 회상, 재현했는가\n",
    "# faithfulness : 모델의 답변이 문맥에 기반해서 사실적인가(factual)\n",
    "# context_recall : 전체 질문에 대해 모델의 답변이 질문과 얼마나 관련성이 있는가\n",
    "# context_precision : 모델이 문맥에서 필요한 정보를 정확히 활용했는가"
   ]
  },
  {
   "cell_type": "code",
   "execution_count": 81,
   "metadata": {},
   "outputs": [
    {
     "data": {
      "text/plain": [
       "{'answer_relevancy': 0.2815, 'faithfulness': 0.3714, 'context_recall': 0.3500, 'context_precision': 0.8000}"
      ]
     },
     "execution_count": 81,
     "metadata": {},
     "output_type": "execute_result"
    }
   ],
   "source": [
    "result"
   ]
  },
  {
   "cell_type": "code",
   "execution_count": 84,
   "metadata": {},
   "outputs": [
    {
     "data": {
      "text/html": [
       "<div>\n",
       "<style scoped>\n",
       "    .dataframe tbody tr th:only-of-type {\n",
       "        vertical-align: middle;\n",
       "    }\n",
       "\n",
       "    .dataframe tbody tr th {\n",
       "        vertical-align: top;\n",
       "    }\n",
       "\n",
       "    .dataframe thead th {\n",
       "        text-align: right;\n",
       "    }\n",
       "</style>\n",
       "<table border=\"1\" class=\"dataframe\">\n",
       "  <thead>\n",
       "    <tr style=\"text-align: right;\">\n",
       "      <th></th>\n",
       "      <th>question</th>\n",
       "      <th>contexts</th>\n",
       "      <th>answer</th>\n",
       "      <th>ground_truth</th>\n",
       "      <th>answer_relevancy</th>\n",
       "      <th>faithfulness</th>\n",
       "      <th>context_recall</th>\n",
       "      <th>context_precision</th>\n",
       "    </tr>\n",
       "  </thead>\n",
       "  <tbody>\n",
       "    <tr>\n",
       "      <th>0</th>\n",
       "      <td>What steps are involved in executing a program...</td>\n",
       "      <td>[IDLE 셸은 IDLE 에디터에서 실행한 프로그램의 결과가 표시되는 창으로, 앞에...</td>\n",
       "      <td>IDLE에서 \"Run Module\" 옵션을 사용하여 프로그램을 실행하는 단계는 다음...</td>\n",
       "      <td>To execute a program using the 'Run Module' op...</td>\n",
       "      <td>0.962739</td>\n",
       "      <td>1.000000</td>\n",
       "      <td>1.0</td>\n",
       "      <td>1.0</td>\n",
       "    </tr>\n",
       "    <tr>\n",
       "      <th>1</th>\n",
       "      <td>\\ud30c\\uc774\\uc36c\\uc744 \\uc0ac\\uc6a9\\ud558\\ub...</td>\n",
       "      <td>[1장\\n01장 파이썬이란 무엇인가?\\n필자는 파이썬의 프롬프트(&gt;&gt;&gt;)를 처음 본...</td>\n",
       "      <td>주어진 정보에서 질문에 대한 정보를 찾을 수 없습니다.</td>\n",
       "      <td>Python is widely used in many IT companies, in...</td>\n",
       "      <td>0.000000</td>\n",
       "      <td>0.000000</td>\n",
       "      <td>0.0</td>\n",
       "      <td>1.0</td>\n",
       "    </tr>\n",
       "    <tr>\n",
       "      <th>2</th>\n",
       "      <td>How can C and C++ programming be utilized in p...</td>\n",
       "      <td>[있기 때문이다. C나 C++로 만든 프로그램을 파이썬에서 사용할 수 있고 파이썬으...</td>\n",
       "      <td>주어진 정보에서 질문에 대한 정보를 찾을 수 없습니다.</td>\n",
       "      <td>C and C++ programming can be utilized in proje...</td>\n",
       "      <td>0.000000</td>\n",
       "      <td>0.000000</td>\n",
       "      <td>0.5</td>\n",
       "      <td>0.0</td>\n",
       "    </tr>\n",
       "    <tr>\n",
       "      <th>3</th>\n",
       "      <td>How is Python utilized in the field of the Int...</td>\n",
       "      <td>[있기 때문이다. C나 C++로 만든 프로그램을 파이썬에서 사용할 수 있고 파이썬으...</td>\n",
       "      <td>파이썬은 사물 인터넷(Internet of Things) 분야에서도 활용도가 높습니...</td>\n",
       "      <td>Python is utilized in the field of the Interne...</td>\n",
       "      <td>0.894766</td>\n",
       "      <td>1.000000</td>\n",
       "      <td>0.0</td>\n",
       "      <td>1.0</td>\n",
       "    </tr>\n",
       "    <tr>\n",
       "      <th>4</th>\n",
       "      <td>What steps are involved in executing a program...</td>\n",
       "      <td>[IDLE 셸은 IDLE 에디터에서 실행한 프로그램의 결과가 표시되는 창으로, 앞에...</td>\n",
       "      <td>IDLE에서 \"Run Module\" 옵션을 사용하여 프로그램을 실행하는 단계는 다음...</td>\n",
       "      <td>To execute a program using the 'Run Module' op...</td>\n",
       "      <td>0.957441</td>\n",
       "      <td>1.000000</td>\n",
       "      <td>1.0</td>\n",
       "      <td>1.0</td>\n",
       "    </tr>\n",
       "    <tr>\n",
       "      <th>5</th>\n",
       "      <td>Why add Py ext. before using Py in V. Studio?</td>\n",
       "      <td>[운로드 사이트에서 내려받을 수 있다.\\n비주얼 스튜디오 코드는 파이썬 전용 에디터...</td>\n",
       "      <td>주어진 정보에서 질문에 대한 정보를 찾을 수 없습니다.</td>\n",
       "      <td>The first thing you need to do to use Python i...</td>\n",
       "      <td>0.000000</td>\n",
       "      <td>0.000000</td>\n",
       "      <td>0.0</td>\n",
       "      <td>1.0</td>\n",
       "    </tr>\n",
       "    <tr>\n",
       "      <th>6</th>\n",
       "      <td>What in Python helps quick learning and aligns...</td>\n",
       "      <td>[• 파이썬은 인간다운 언어이다\\n• 문법이 쉬워 빠르게 배울 수 있다\\n• 무료이...</td>\n",
       "      <td>파이썬의 문법이 매우 쉽고 간결하여 사람의 사고 체계와 매우 닮아 있기 때문에 빠르...</td>\n",
       "      <td>Python is a human-friendly language with simpl...</td>\n",
       "      <td>0.000000</td>\n",
       "      <td>0.714286</td>\n",
       "      <td>0.0</td>\n",
       "      <td>1.0</td>\n",
       "    </tr>\n",
       "    <tr>\n",
       "      <th>7</th>\n",
       "      <td>How has Python's appeal shaped its role in tec...</td>\n",
       "      <td>[1장\\n01장 파이썬이란 무엇인가?\\n필자는 파이썬의 프롬프트(&gt;&gt;&gt;)를 처음 본...</td>\n",
       "      <td>주어진 정보에서 질문에 대한 정보를 찾을 수 없습니다.</td>\n",
       "      <td>Python is widely used in tech firms due to its...</td>\n",
       "      <td>0.000000</td>\n",
       "      <td>0.000000</td>\n",
       "      <td>0.0</td>\n",
       "      <td>1.0</td>\n",
       "    </tr>\n",
       "    <tr>\n",
       "      <th>8</th>\n",
       "      <td>How do Python annotations help in code clarity...</td>\n",
       "      <td>[IDLE 셸은 IDLE 에디터에서 실행한 프로그램의 결과가 표시되는 창으로, 앞에...</td>\n",
       "      <td>주어진 정보에서 질문에 대한 정보를 찾을 수 없습니다.</td>\n",
       "      <td>The answer to given question is not present in...</td>\n",
       "      <td>0.000000</td>\n",
       "      <td>0.000000</td>\n",
       "      <td>1.0</td>\n",
       "      <td>0.0</td>\n",
       "    </tr>\n",
       "    <tr>\n",
       "      <th>9</th>\n",
       "      <td>How to run Python if IDLE isn't available?</td>\n",
       "      <td>[상 .py로 해야 한다. .py는 파이썬 파일이라는 것을 알려 주는 확장자이다.\\...</td>\n",
       "      <td>주어진 정보에서 질문에 대한 정보를 찾을 수 없습니다.</td>\n",
       "      <td>To run a Python program if IDLE isn't availabl...</td>\n",
       "      <td>0.000000</td>\n",
       "      <td>0.000000</td>\n",
       "      <td>0.0</td>\n",
       "      <td>1.0</td>\n",
       "    </tr>\n",
       "  </tbody>\n",
       "</table>\n",
       "</div>"
      ],
      "text/plain": [
       "                                            question  \\\n",
       "0  What steps are involved in executing a program...   \n",
       "1  \\ud30c\\uc774\\uc36c\\uc744 \\uc0ac\\uc6a9\\ud558\\ub...   \n",
       "2  How can C and C++ programming be utilized in p...   \n",
       "3  How is Python utilized in the field of the Int...   \n",
       "4  What steps are involved in executing a program...   \n",
       "5      Why add Py ext. before using Py in V. Studio?   \n",
       "6  What in Python helps quick learning and aligns...   \n",
       "7  How has Python's appeal shaped its role in tec...   \n",
       "8  How do Python annotations help in code clarity...   \n",
       "9         How to run Python if IDLE isn't available?   \n",
       "\n",
       "                                            contexts  \\\n",
       "0  [IDLE 셸은 IDLE 에디터에서 실행한 프로그램의 결과가 표시되는 창으로, 앞에...   \n",
       "1  [1장\\n01장 파이썬이란 무엇인가?\\n필자는 파이썬의 프롬프트(>>>)를 처음 본...   \n",
       "2  [있기 때문이다. C나 C++로 만든 프로그램을 파이썬에서 사용할 수 있고 파이썬으...   \n",
       "3  [있기 때문이다. C나 C++로 만든 프로그램을 파이썬에서 사용할 수 있고 파이썬으...   \n",
       "4  [IDLE 셸은 IDLE 에디터에서 실행한 프로그램의 결과가 표시되는 창으로, 앞에...   \n",
       "5  [운로드 사이트에서 내려받을 수 있다.\\n비주얼 스튜디오 코드는 파이썬 전용 에디터...   \n",
       "6  [• 파이썬은 인간다운 언어이다\\n• 문법이 쉬워 빠르게 배울 수 있다\\n• 무료이...   \n",
       "7  [1장\\n01장 파이썬이란 무엇인가?\\n필자는 파이썬의 프롬프트(>>>)를 처음 본...   \n",
       "8  [IDLE 셸은 IDLE 에디터에서 실행한 프로그램의 결과가 표시되는 창으로, 앞에...   \n",
       "9  [상 .py로 해야 한다. .py는 파이썬 파일이라는 것을 알려 주는 확장자이다.\\...   \n",
       "\n",
       "                                              answer  \\\n",
       "0  IDLE에서 \"Run Module\" 옵션을 사용하여 프로그램을 실행하는 단계는 다음...   \n",
       "1                     주어진 정보에서 질문에 대한 정보를 찾을 수 없습니다.   \n",
       "2                     주어진 정보에서 질문에 대한 정보를 찾을 수 없습니다.   \n",
       "3  파이썬은 사물 인터넷(Internet of Things) 분야에서도 활용도가 높습니...   \n",
       "4  IDLE에서 \"Run Module\" 옵션을 사용하여 프로그램을 실행하는 단계는 다음...   \n",
       "5                     주어진 정보에서 질문에 대한 정보를 찾을 수 없습니다.   \n",
       "6  파이썬의 문법이 매우 쉽고 간결하여 사람의 사고 체계와 매우 닮아 있기 때문에 빠르...   \n",
       "7                     주어진 정보에서 질문에 대한 정보를 찾을 수 없습니다.   \n",
       "8                     주어진 정보에서 질문에 대한 정보를 찾을 수 없습니다.   \n",
       "9                     주어진 정보에서 질문에 대한 정보를 찾을 수 없습니다.   \n",
       "\n",
       "                                        ground_truth  answer_relevancy  \\\n",
       "0  To execute a program using the 'Run Module' op...          0.962739   \n",
       "1  Python is widely used in many IT companies, in...          0.000000   \n",
       "2  C and C++ programming can be utilized in proje...          0.000000   \n",
       "3  Python is utilized in the field of the Interne...          0.894766   \n",
       "4  To execute a program using the 'Run Module' op...          0.957441   \n",
       "5  The first thing you need to do to use Python i...          0.000000   \n",
       "6  Python is a human-friendly language with simpl...          0.000000   \n",
       "7  Python is widely used in tech firms due to its...          0.000000   \n",
       "8  The answer to given question is not present in...          0.000000   \n",
       "9  To run a Python program if IDLE isn't availabl...          0.000000   \n",
       "\n",
       "   faithfulness  context_recall  context_precision  \n",
       "0      1.000000             1.0                1.0  \n",
       "1      0.000000             0.0                1.0  \n",
       "2      0.000000             0.5                0.0  \n",
       "3      1.000000             0.0                1.0  \n",
       "4      1.000000             1.0                1.0  \n",
       "5      0.000000             0.0                1.0  \n",
       "6      0.714286             0.0                1.0  \n",
       "7      0.000000             0.0                1.0  \n",
       "8      0.000000             1.0                0.0  \n",
       "9      0.000000             0.0                1.0  "
      ]
     },
     "execution_count": 84,
     "metadata": {},
     "output_type": "execute_result"
    }
   ],
   "source": [
    "result_df = result.to_pandas()\n",
    "result_df"
   ]
  },
  {
   "cell_type": "code",
   "execution_count": 85,
   "metadata": {},
   "outputs": [
    {
     "data": {
      "text/html": [
       "<div>\n",
       "<style scoped>\n",
       "    .dataframe tbody tr th:only-of-type {\n",
       "        vertical-align: middle;\n",
       "    }\n",
       "\n",
       "    .dataframe tbody tr th {\n",
       "        vertical-align: top;\n",
       "    }\n",
       "\n",
       "    .dataframe thead th {\n",
       "        text-align: right;\n",
       "    }\n",
       "</style>\n",
       "<table border=\"1\" class=\"dataframe\">\n",
       "  <thead>\n",
       "    <tr style=\"text-align: right;\">\n",
       "      <th></th>\n",
       "      <th>context_recall</th>\n",
       "      <th>context_precision</th>\n",
       "    </tr>\n",
       "  </thead>\n",
       "  <tbody>\n",
       "    <tr>\n",
       "      <th>0</th>\n",
       "      <td>1.0</td>\n",
       "      <td>1.0</td>\n",
       "    </tr>\n",
       "    <tr>\n",
       "      <th>1</th>\n",
       "      <td>0.0</td>\n",
       "      <td>1.0</td>\n",
       "    </tr>\n",
       "    <tr>\n",
       "      <th>2</th>\n",
       "      <td>0.5</td>\n",
       "      <td>0.0</td>\n",
       "    </tr>\n",
       "    <tr>\n",
       "      <th>3</th>\n",
       "      <td>0.0</td>\n",
       "      <td>1.0</td>\n",
       "    </tr>\n",
       "    <tr>\n",
       "      <th>4</th>\n",
       "      <td>1.0</td>\n",
       "      <td>1.0</td>\n",
       "    </tr>\n",
       "    <tr>\n",
       "      <th>5</th>\n",
       "      <td>0.0</td>\n",
       "      <td>1.0</td>\n",
       "    </tr>\n",
       "    <tr>\n",
       "      <th>6</th>\n",
       "      <td>0.0</td>\n",
       "      <td>1.0</td>\n",
       "    </tr>\n",
       "    <tr>\n",
       "      <th>7</th>\n",
       "      <td>0.0</td>\n",
       "      <td>1.0</td>\n",
       "    </tr>\n",
       "    <tr>\n",
       "      <th>8</th>\n",
       "      <td>1.0</td>\n",
       "      <td>0.0</td>\n",
       "    </tr>\n",
       "    <tr>\n",
       "      <th>9</th>\n",
       "      <td>0.0</td>\n",
       "      <td>1.0</td>\n",
       "    </tr>\n",
       "  </tbody>\n",
       "</table>\n",
       "</div>"
      ],
      "text/plain": [
       "   context_recall  context_precision\n",
       "0             1.0                1.0\n",
       "1             0.0                1.0\n",
       "2             0.5                0.0\n",
       "3             0.0                1.0\n",
       "4             1.0                1.0\n",
       "5             0.0                1.0\n",
       "6             0.0                1.0\n",
       "7             0.0                1.0\n",
       "8             1.0                0.0\n",
       "9             0.0                1.0"
      ]
     },
     "execution_count": 85,
     "metadata": {},
     "output_type": "execute_result"
    }
   ],
   "source": [
    "\n",
    "result_df.loc[:,'context_recall' : 'context_precision']"
   ]
  },
  {
   "cell_type": "markdown",
   "metadata": {},
   "source": [
    "|context_precision (문맥 정밀도)|faithfulness (신뢰성)|answer_relevancy (답변 적합성)|context_recall (문맥 재현율)|\n",
    "|---|---|---|---|\n",
    "|답변에 사용된 문맥이 정확했는지|답변이 문맥에 기반해 사실적(factual)인지|답변이 질문과 관련성이 있는지|답변이 문맥에서 얼마나 많은 정보를 활용했는지|\n",
    "|1.0: 답변에 사용된 정보가 문맥에서 매우 정확하게 활용됨|1.0: 답변이 문맥과 매우 정확하게 일치|1.0: 답변이 질문과 매우 높은 관련성을 가짐|1.0: 답변이 문맥의 모든 중요한 정보를 잘 회상|\n",
    "|0.0: 답변이 문맥과 무관하거나, 부정확한 정보를 활용|0.0: 답변이 문맥에 기반하지 않고, 사실과 다를 가능성이 큼|0.0: 답변이 질문과 관련이 없거나, 부정확|0.0: 답변이 문맥을 활용하지 못함|"
   ]
  }
 ],
 "metadata": {
  "kernelspec": {
   "display_name": "langchain",
   "language": "python",
   "name": "python3"
  },
  "language_info": {
   "codemirror_mode": {
    "name": "ipython",
    "version": 3
   },
   "file_extension": ".py",
   "mimetype": "text/x-python",
   "name": "python",
   "nbconvert_exporter": "python",
   "pygments_lexer": "ipython3",
   "version": "3.11.10"
  }
 },
 "nbformat": 4,
 "nbformat_minor": 2
}
