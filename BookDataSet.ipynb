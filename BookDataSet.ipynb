{
 "cells": [
  {
   "cell_type": "code",
   "execution_count": null,
   "metadata": {},
   "outputs": [],
   "source": [
    "# 파일 경로 설정\n",
    "file_path = r\"data/combined.md\"\n",
    "\n",
    "# 파일 읽기\n",
    "with open(file_path, \"r\", encoding=\"utf-8\") as f:\n",
    "    markdown_content = f.read()\n",
    "\n",
    "# 읽은 마크다운 내용을 출력하거나 추가 작업 수행\n",
    "print(markdown_content)\n",
    "\n",
    "# 필요한 경우 LangChain이나 다른 처리를 수행할 수 있음\n",
    "# 예: 내용을 특정 구조로 파싱하거나 데이터를 추출\n",
    "from langchain.schema import Document\n",
    "\n",
    "# LangChain Document 생성\n",
    "doc = Document(page_content=markdown_content, metadata={\"source\": file_path})\n",
    "\n",
    "# LangChain 문서의 내용을 활용\n",
    "print(doc.page_content)\n",
    "print(doc.metadata)"
   ]
  }
 ],
 "metadata": {
  "kernelspec": {
   "display_name": "langchain",
   "language": "python",
   "name": "python3"
  },
  "language_info": {
   "name": "python",
   "version": "3.11.10"
  }
 },
 "nbformat": 4,
 "nbformat_minor": 2
}
